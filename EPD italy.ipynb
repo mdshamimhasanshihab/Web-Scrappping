{
 "cells": [
  {
   "cell_type": "code",
   "execution_count": 11,
   "metadata": {},
   "outputs": [],
   "source": [
    "from selenium import webdriver\n",
    "import time\n",
    "from selenium.webdriver.common.keys import Keys\n",
    "from selenium.webdriver.common.by import By\n",
    "import pandas as pd\n",
    "import re\n",
    "from selenium.webdriver.chrome.options import Options\n",
    "import os\n",
    "import requests"
   ]
  },
  {
   "cell_type": "code",
   "execution_count": 12,
   "metadata": {},
   "outputs": [
    {
     "name": "stderr",
     "output_type": "stream",
     "text": [
      "<ipython-input-12-7770d9dc82e6>:1: DeprecationWarning: executable_path has been deprecated, please pass in a Service object\n",
      "  driver=webdriver.Chrome(executable_path=\"C:\\Driver\\chromedriver_win32 (3)\\chromedriver.exe\")\n"
     ]
    }
   ],
   "source": [
    "driver=webdriver.Chrome(executable_path=\"C:\\Driver\\chromedriver_win32 (3)\\chromedriver.exe\")\n",
    "driver.get(\"https://www.igbc.ie/epd-search/\")\n",
    "driver.maximize_window()"
   ]
  },
  {
   "cell_type": "code",
   "execution_count": 13,
   "metadata": {},
   "outputs": [],
   "source": [
    "df=pd.read_excel(\"C:/Users/User/OneDrive/Desktop/Data_acq/epd_italy_web.xlsx\")"
   ]
  },
  {
   "cell_type": "code",
   "execution_count": 14,
   "metadata": {},
   "outputs": [
    {
     "data": {
      "text/plain": [
       "266"
      ]
     },
     "execution_count": 14,
     "metadata": {},
     "output_type": "execute_result"
    }
   ],
   "source": [
    "web=df.Web\n",
    "len(web)"
   ]
  },
  {
   "cell_type": "code",
   "execution_count": 15,
   "metadata": {},
   "outputs": [],
   "source": [
    "Dic={}\n",
    "gc2= pd.DataFrame(data=Dic,index=[0],columns=['Product_name','Manufacturer',\"Registration_Number\",'Product_type','Description','Product_unit','Goods_Sector','Category','Issue_date','Updated_date','Expiry_date','cpc_code','pdf_link','web_link'])"
   ]
  },
  {
   "cell_type": "code",
   "execution_count": 23,
   "metadata": {},
   "outputs": [
    {
     "ename": "WebDriverException",
     "evalue": "Message: chrome not reachable\n  (Session info: chrome=103.0.5060.114)\nStacktrace:\nBacktrace:\n\tOrdinal0 [0x00F42733+2434867]\n\tOrdinal0 [0x00ED07A1+1968033]\n\tOrdinal0 [0x00DBC540+836928]\n\tOrdinal0 [0x00DB01B2+786866]\n\tOrdinal0 [0x00DB09E8+788968]\n\tOrdinal0 [0x00DB22B2+795314]\n\tOrdinal0 [0x00DABCA9+769193]\n\tOrdinal0 [0x00DBD9F0+842224]\n\tOrdinal0 [0x00E14072+1196146]\n\tOrdinal0 [0x00E04256+1131094]\n\tOrdinal0 [0x00DDE840+976960]\n\tOrdinal0 [0x00DDF736+980790]\n\tGetHandleVerifier [0x011B3C72+2515426]\n\tGetHandleVerifier [0x011A702F+2463135]\n\tGetHandleVerifier [0x00FE522A+620442]\n\tGetHandleVerifier [0x00FE4016+615814]\n\tOrdinal0 [0x00ED707B+1994875]\n\tOrdinal0 [0x00EDB938+2013496]\n\tOrdinal0 [0x00EDBA25+2013733]\n\tOrdinal0 [0x00EE4DE1+2051553]\n\tBaseThreadInitThunk [0x76D7FA29+25]\n\tRtlGetAppContainerNamedObjectPath [0x76FF7A9E+286]\n\tRtlGetAppContainerNamedObjectPath [0x76FF7A6E+238]\n",
     "output_type": "error",
     "traceback": [
      "\u001b[1;31m---------------------------------------------------------------------------\u001b[0m",
      "\u001b[1;31mWebDriverException\u001b[0m                        Traceback (most recent call last)",
      "\u001b[1;32m<ipython-input-23-bce305f00ecf>\u001b[0m in \u001b[0;36m<module>\u001b[1;34m\u001b[0m\n\u001b[0;32m      3\u001b[0m     \u001b[0mcompany\u001b[0m\u001b[1;33m=\u001b[0m\u001b[0mdf\u001b[0m\u001b[1;33m.\u001b[0m\u001b[0mCompany\u001b[0m\u001b[1;33m[\u001b[0m\u001b[0mi\u001b[0m\u001b[1;33m]\u001b[0m\u001b[1;33m\u001b[0m\u001b[1;33m\u001b[0m\u001b[0m\n\u001b[0;32m      4\u001b[0m     \u001b[0mweb\u001b[0m\u001b[1;33m=\u001b[0m\u001b[0mdf\u001b[0m\u001b[1;33m.\u001b[0m\u001b[0mWeb\u001b[0m\u001b[1;33m[\u001b[0m\u001b[0mi\u001b[0m\u001b[1;33m]\u001b[0m\u001b[1;33m\u001b[0m\u001b[1;33m\u001b[0m\u001b[0m\n\u001b[1;32m----> 5\u001b[1;33m     \u001b[0mdriver\u001b[0m\u001b[1;33m.\u001b[0m\u001b[0mget\u001b[0m\u001b[1;33m(\u001b[0m\u001b[0mweb\u001b[0m\u001b[1;33m)\u001b[0m\u001b[1;33m\u001b[0m\u001b[1;33m\u001b[0m\u001b[0m\n\u001b[0m\u001b[0;32m      6\u001b[0m     \u001b[0mtime\u001b[0m\u001b[1;33m.\u001b[0m\u001b[0msleep\u001b[0m\u001b[1;33m(\u001b[0m\u001b[1;36m3\u001b[0m\u001b[1;33m)\u001b[0m\u001b[1;33m\u001b[0m\u001b[1;33m\u001b[0m\u001b[0m\n\u001b[0;32m      7\u001b[0m     \u001b[0mreg_number\u001b[0m\u001b[1;33m=\u001b[0m\u001b[0mdf\u001b[0m\u001b[1;33m.\u001b[0m\u001b[0mReg_Number\u001b[0m\u001b[1;33m[\u001b[0m\u001b[0mi\u001b[0m\u001b[1;33m]\u001b[0m\u001b[1;33m\u001b[0m\u001b[1;33m\u001b[0m\u001b[0m\n",
      "\u001b[1;32mc:\\users\\user\\appdata\\local\\programs\\python\\python39\\lib\\site-packages\\selenium\\webdriver\\remote\\webdriver.py\u001b[0m in \u001b[0;36mget\u001b[1;34m(self, url)\u001b[0m\n\u001b[0;32m    440\u001b[0m         \u001b[0mLoads\u001b[0m \u001b[0ma\u001b[0m \u001b[0mweb\u001b[0m \u001b[0mpage\u001b[0m \u001b[1;32min\u001b[0m \u001b[0mthe\u001b[0m \u001b[0mcurrent\u001b[0m \u001b[0mbrowser\u001b[0m \u001b[0msession\u001b[0m\u001b[1;33m.\u001b[0m\u001b[1;33m\u001b[0m\u001b[1;33m\u001b[0m\u001b[0m\n\u001b[0;32m    441\u001b[0m         \"\"\"\n\u001b[1;32m--> 442\u001b[1;33m         \u001b[0mself\u001b[0m\u001b[1;33m.\u001b[0m\u001b[0mexecute\u001b[0m\u001b[1;33m(\u001b[0m\u001b[0mCommand\u001b[0m\u001b[1;33m.\u001b[0m\u001b[0mGET\u001b[0m\u001b[1;33m,\u001b[0m \u001b[1;33m{\u001b[0m\u001b[1;34m'url'\u001b[0m\u001b[1;33m:\u001b[0m \u001b[0murl\u001b[0m\u001b[1;33m}\u001b[0m\u001b[1;33m)\u001b[0m\u001b[1;33m\u001b[0m\u001b[1;33m\u001b[0m\u001b[0m\n\u001b[0m\u001b[0;32m    443\u001b[0m \u001b[1;33m\u001b[0m\u001b[0m\n\u001b[0;32m    444\u001b[0m     \u001b[1;33m@\u001b[0m\u001b[0mproperty\u001b[0m\u001b[1;33m\u001b[0m\u001b[1;33m\u001b[0m\u001b[0m\n",
      "\u001b[1;32mc:\\users\\user\\appdata\\local\\programs\\python\\python39\\lib\\site-packages\\selenium\\webdriver\\remote\\webdriver.py\u001b[0m in \u001b[0;36mexecute\u001b[1;34m(self, driver_command, params)\u001b[0m\n\u001b[0;32m    428\u001b[0m         \u001b[0mresponse\u001b[0m \u001b[1;33m=\u001b[0m \u001b[0mself\u001b[0m\u001b[1;33m.\u001b[0m\u001b[0mcommand_executor\u001b[0m\u001b[1;33m.\u001b[0m\u001b[0mexecute\u001b[0m\u001b[1;33m(\u001b[0m\u001b[0mdriver_command\u001b[0m\u001b[1;33m,\u001b[0m \u001b[0mparams\u001b[0m\u001b[1;33m)\u001b[0m\u001b[1;33m\u001b[0m\u001b[1;33m\u001b[0m\u001b[0m\n\u001b[0;32m    429\u001b[0m         \u001b[1;32mif\u001b[0m \u001b[0mresponse\u001b[0m\u001b[1;33m:\u001b[0m\u001b[1;33m\u001b[0m\u001b[1;33m\u001b[0m\u001b[0m\n\u001b[1;32m--> 430\u001b[1;33m             \u001b[0mself\u001b[0m\u001b[1;33m.\u001b[0m\u001b[0merror_handler\u001b[0m\u001b[1;33m.\u001b[0m\u001b[0mcheck_response\u001b[0m\u001b[1;33m(\u001b[0m\u001b[0mresponse\u001b[0m\u001b[1;33m)\u001b[0m\u001b[1;33m\u001b[0m\u001b[1;33m\u001b[0m\u001b[0m\n\u001b[0m\u001b[0;32m    431\u001b[0m             response['value'] = self._unwrap_value(\n\u001b[0;32m    432\u001b[0m                 response.get('value', None))\n",
      "\u001b[1;32mc:\\users\\user\\appdata\\local\\programs\\python\\python39\\lib\\site-packages\\selenium\\webdriver\\remote\\errorhandler.py\u001b[0m in \u001b[0;36mcheck_response\u001b[1;34m(self, response)\u001b[0m\n\u001b[0;32m    245\u001b[0m                 \u001b[0malert_text\u001b[0m \u001b[1;33m=\u001b[0m \u001b[0mvalue\u001b[0m\u001b[1;33m[\u001b[0m\u001b[1;34m'alert'\u001b[0m\u001b[1;33m]\u001b[0m\u001b[1;33m.\u001b[0m\u001b[0mget\u001b[0m\u001b[1;33m(\u001b[0m\u001b[1;34m'text'\u001b[0m\u001b[1;33m)\u001b[0m\u001b[1;33m\u001b[0m\u001b[1;33m\u001b[0m\u001b[0m\n\u001b[0;32m    246\u001b[0m             \u001b[1;32mraise\u001b[0m \u001b[0mexception_class\u001b[0m\u001b[1;33m(\u001b[0m\u001b[0mmessage\u001b[0m\u001b[1;33m,\u001b[0m \u001b[0mscreen\u001b[0m\u001b[1;33m,\u001b[0m \u001b[0mstacktrace\u001b[0m\u001b[1;33m,\u001b[0m \u001b[0malert_text\u001b[0m\u001b[1;33m)\u001b[0m  \u001b[1;31m# type: ignore[call-arg]  # mypy is not smart enough here\u001b[0m\u001b[1;33m\u001b[0m\u001b[1;33m\u001b[0m\u001b[0m\n\u001b[1;32m--> 247\u001b[1;33m         \u001b[1;32mraise\u001b[0m \u001b[0mexception_class\u001b[0m\u001b[1;33m(\u001b[0m\u001b[0mmessage\u001b[0m\u001b[1;33m,\u001b[0m \u001b[0mscreen\u001b[0m\u001b[1;33m,\u001b[0m \u001b[0mstacktrace\u001b[0m\u001b[1;33m)\u001b[0m\u001b[1;33m\u001b[0m\u001b[1;33m\u001b[0m\u001b[0m\n\u001b[0m\u001b[0;32m    248\u001b[0m \u001b[1;33m\u001b[0m\u001b[0m\n\u001b[0;32m    249\u001b[0m     \u001b[1;32mdef\u001b[0m \u001b[0m_value_or_default\u001b[0m\u001b[1;33m(\u001b[0m\u001b[0mself\u001b[0m\u001b[1;33m,\u001b[0m \u001b[0mobj\u001b[0m\u001b[1;33m:\u001b[0m \u001b[0mMapping\u001b[0m\u001b[1;33m[\u001b[0m\u001b[0m_KT\u001b[0m\u001b[1;33m,\u001b[0m \u001b[0m_VT\u001b[0m\u001b[1;33m]\u001b[0m\u001b[1;33m,\u001b[0m \u001b[0mkey\u001b[0m\u001b[1;33m:\u001b[0m \u001b[0m_KT\u001b[0m\u001b[1;33m,\u001b[0m \u001b[0mdefault\u001b[0m\u001b[1;33m:\u001b[0m \u001b[0m_VT\u001b[0m\u001b[1;33m)\u001b[0m \u001b[1;33m->\u001b[0m \u001b[0m_VT\u001b[0m\u001b[1;33m:\u001b[0m\u001b[1;33m\u001b[0m\u001b[1;33m\u001b[0m\u001b[0m\n",
      "\u001b[1;31mWebDriverException\u001b[0m: Message: chrome not reachable\n  (Session info: chrome=103.0.5060.114)\nStacktrace:\nBacktrace:\n\tOrdinal0 [0x00F42733+2434867]\n\tOrdinal0 [0x00ED07A1+1968033]\n\tOrdinal0 [0x00DBC540+836928]\n\tOrdinal0 [0x00DB01B2+786866]\n\tOrdinal0 [0x00DB09E8+788968]\n\tOrdinal0 [0x00DB22B2+795314]\n\tOrdinal0 [0x00DABCA9+769193]\n\tOrdinal0 [0x00DBD9F0+842224]\n\tOrdinal0 [0x00E14072+1196146]\n\tOrdinal0 [0x00E04256+1131094]\n\tOrdinal0 [0x00DDE840+976960]\n\tOrdinal0 [0x00DDF736+980790]\n\tGetHandleVerifier [0x011B3C72+2515426]\n\tGetHandleVerifier [0x011A702F+2463135]\n\tGetHandleVerifier [0x00FE522A+620442]\n\tGetHandleVerifier [0x00FE4016+615814]\n\tOrdinal0 [0x00ED707B+1994875]\n\tOrdinal0 [0x00EDB938+2013496]\n\tOrdinal0 [0x00EDBA25+2013733]\n\tOrdinal0 [0x00EE4DE1+2051553]\n\tBaseThreadInitThunk [0x76D7FA29+25]\n\tRtlGetAppContainerNamedObjectPath [0x76FF7A9E+286]\n\tRtlGetAppContainerNamedObjectPath [0x76FF7A6E+238]\n"
     ]
    }
   ],
   "source": [
    "for i in range(len(web)):\n",
    "    name=df.Product_name[i]\n",
    "    company=df.Company[i]\n",
    "    web=df.Web[i]\n",
    "    driver.get(web)\n",
    "    time.sleep(3)\n",
    "    reg_number=df.Reg_Number[i]\n",
    "    product_type=df.Product_type[i]\n",
    "    Description=df.Description[i]\n",
    "    Product_unit=df.Productive_unit[i]\n",
    "    try:\n",
    "        Goods_selector=driver.find_element_by_css_selector(\"body > div:nth-child(2) > div.container.content > table > tbody > tr:nth-child(4) > th:nth-child(2)\").text\n",
    "    except:\n",
    "        Goods_selector=\"N/A\"\n",
    "    try:\n",
    "        Category=driver.find_element_by_css_selector(\"body > div:nth-child(2) > div.container.content > table > tbody > tr:nth-child(6) > th:nth-child(2)\").text\n",
    "    except:\n",
    "        Category=\"N/A\"\n",
    "    try:\n",
    "        iss=driver.find_element_by_css_selector(\"body > div:nth-child(2) > div.container.content > table > tbody > tr:nth-child(10) > th:nth-child(2)\").text\n",
    "    except:\n",
    "        iss=\"N/A\"\n",
    "    try:\n",
    "        upp=driver.find_element_by_css_selector(\"body > div:nth-child(2) > div.container.content > table > tbody > tr:nth-child(11) > th:nth-child(2)\").text\n",
    "    except:\n",
    "        upp=\"N/A\"\n",
    "    try:\n",
    "        exp=driver.find_element_by_css_selector(\"body > div:nth-child(2) > div.container.content > table > tbody > tr:nth-child(12) > th:nth-child(2)\").text\n",
    "    except:\n",
    "        exp=\"N/A\"\n",
    "    try:\n",
    "        cpc=driver.find_element_by_css_selector(\"body > div:nth-child(2) > div.container.content > table > tbody > tr:nth-child(13) > th:nth-child(2)\").text\n",
    "    except:\n",
    "        cpc=\"N/A\"\n",
    "    try:\n",
    "        URL=driver.find_element_by_css_selector(\"body > div:nth-child(2) > div.container.content > table > tbody > tr:nth-child(14) > th:nth-child(2) > h2 > a\").get_attribute(\"href\")\n",
    "    except:\n",
    "        URL=\"N/A\"\n",
    "    output_dir='./cc'\n",
    "    response=requests.get(URL)\n",
    "    time.sleep(2)\n",
    "    if response.status_code==200:\n",
    "        file_path=os.path.join(output_dir,os.path.basename(URL))\n",
    "        with open(file_path,'wb') as f:\n",
    "            f.write(response.content)\n",
    "            time.sleep(3)\n",
    "    Dic={'Product_name':name,'Manufacturer':company,'Registration_Number':reg_number,'Product_type':product_type,'Description':Description,'Product_unit':Product_unit,'Goods_Sector':Goods_selector,'Category':Category,'Issue_date':iss,'Updated_date':upp,'Expiry_date':exp,'cpc_code':cpc,'pdf_link':URL,'web_link':web}\n",
    "    \n",
    "    gc2 = gc2.append(Dic, ignore_index=True)\n",
    "    print(gc2)"
   ]
  },
  {
   "cell_type": "code",
   "execution_count": 25,
   "metadata": {},
   "outputs": [
    {
     "name": "stdout",
     "output_type": "stream",
     "text": [
      "34\n"
     ]
    }
   ],
   "source": [
    "df1=pd.read_excel(\"C:/Users/User/OneDrive/Desktop/Data_acq/epd_italy/pcr_web.xlsx\")\n",
    "print(len(df1))\n",
    "web=df1.Web"
   ]
  },
  {
   "cell_type": "code",
   "execution_count": 26,
   "metadata": {},
   "outputs": [
    {
     "name": "stderr",
     "output_type": "stream",
     "text": [
      "<ipython-input-26-0fab9ba6f332>:1: DeprecationWarning: executable_path has been deprecated, please pass in a Service object\n",
      "  driver=webdriver.Chrome(executable_path=\"C:\\Driver\\chromedriver_win32 (3)\\chromedriver.exe\")\n"
     ]
    }
   ],
   "source": [
    "driver=webdriver.Chrome(executable_path=\"C:\\Driver\\chromedriver_win32 (3)\\chromedriver.exe\")\n",
    "driver.get(\"https://www.epditaly.it/en/pcr_/pcr-part-b-for-power-inverters-epditaly-032/\")\n",
    "driver.maximize_window()"
   ]
  },
  {
   "cell_type": "code",
   "execution_count": 27,
   "metadata": {},
   "outputs": [
    {
     "ename": "IndentationError",
     "evalue": "unexpected indent (<ipython-input-27-21d396069f29>, line 2)",
     "output_type": "error",
     "traceback": [
      "\u001b[1;36m  File \u001b[1;32m\"<ipython-input-27-21d396069f29>\"\u001b[1;36m, line \u001b[1;32m2\u001b[0m\n\u001b[1;33m    name=df1.PCR_name[i]\u001b[0m\n\u001b[1;37m    ^\u001b[0m\n\u001b[1;31mIndentationError\u001b[0m\u001b[1;31m:\u001b[0m unexpected indent\n"
     ]
    }
   ],
   "source": [
    "for i in range(len(web)):\n",
    "    name=df1.PCR_name[i]\n",
    "    state=df1.Phase[i]\n",
    "    web=df1.Web[i]\n",
    "    creator=df1.Author[i]\n",
    "    driver.get(web)\n",
    "    time.sleep(3)\n",
    "    try:\n",
    "        moderator=driver.find_element_by_xpath(\"/html/body/div[2]/div[2]/table[1]/tbody/tr/th[1]/text()[4]\").text\n",
    "    except:\n",
    "        moderator=\"N/A\"\n",
    "    try:\n",
    "        Category=driver.find_element_by_xpath(\"/html/body/div[2]/div[2]/table[1]/tbody/tr/th[1]/text()[5]\").text\n",
    "    except:\n",
    "        Category=\"N/A\"\n",
    "    try:\n",
    "        iss=driver.find_element_by_css_selector(\"body > div:nth-child(2) > div.container.content > table > tbody > tr:nth-child(10) > th:nth-child(2)\").text\n",
    "    except:\n",
    "        iss=\"N/A\"\n",
    "    try:\n",
    "        upp=driver.find_element_by_css_selector(\"body > div:nth-child(2) > div.container.content > table > tbody > tr:nth-child(11) > th:nth-child(2)\").text\n",
    "    except:\n",
    "        upp=\"N/A\"\n",
    "    try:\n",
    "        exp=driver.find_element_by_css_selector(\"body > div:nth-child(2) > div.container.content > table > tbody > tr:nth-child(12) > th:nth-child(2)\").text\n",
    "    except:\n",
    "        exp=\"N/A\"\n",
    "    try:\n",
    "        cpc=driver.find_element_by_css_selector(\"body > div:nth-child(2) > div.container.content > table > tbody > tr:nth-child(13) > th:nth-child(2)\").text\n",
    "    except:\n",
    "        cpc=\"N/A\"\n",
    "    try:\n",
    "        URL=driver.find_element_by_css_selector(\"body > div:nth-child(2) > div.container.content > table > tbody > tr:nth-child(14) > th:nth-child(2) > h2 > a\").get_attribute(\"href\")\n",
    "    except:\n",
    "        URL=\"N/A\"\n",
    "    output_dir='./cc'\n",
    "    response=requests.get(URL)\n",
    "    time.sleep(2)\n",
    "    if response.status_code==200:\n",
    "        file_path=os.path.join(output_dir,os.path.basename(URL))\n",
    "        with open(file_path,'wb') as f:\n",
    "            f.write(response.content)\n",
    "            time.sleep(3)\n",
    "    Dic={'Product_name':name,'Manufacturer':company,'Registration_Number':reg_number,'Product_type':product_type,'Description':Description,'Product_unit':Product_unit,'Goods_Sector':Goods_selector,'Category':Category,'Issue_date':iss,'Updated_date':upp,'Expiry_date':exp,'cpc_code':cpc,'pdf_link':URL,'web_link':web}\n",
    "    \n",
    "    gc2 = gc2.append(Dic, ignore_index=True)\n",
    "    print(gc2)"
   ]
  },
  {
   "cell_type": "code",
   "execution_count": 28,
   "metadata": {},
   "outputs": [
    {
     "name": "stderr",
     "output_type": "stream",
     "text": [
      "<ipython-input-28-ee0660575820>:2: DeprecationWarning: find_element_by_xpath is deprecated. Please use find_element(by=By.XPATH, value=xpath) instead\n",
      "  moderator=driver.find_element_by_xpath(\"/html/body/div[2]/div[2]/table[1]/tbody/tr/th[1]/text()[4]\").text\n",
      "<ipython-input-28-ee0660575820>:6: DeprecationWarning: find_element_by_xpath is deprecated. Please use find_element(by=By.XPATH, value=xpath) instead\n",
      "  Category=driver.find_element_by_xpath(\"/html/body/div[2]/div[2]/table[1]/tbody/tr/th[1]/text()[5]\").text\n"
     ]
    }
   ],
   "source": [
    "try:\n",
    "    moderator=driver.find_element_by_xpath(\"/html/body/div[2]/div[2]/table[1]/tbody/tr/th[1]/text()[4]\").text\n",
    "except:\n",
    "    moderator=\"N/A\"\n",
    "try:\n",
    "    Category=driver.find_element_by_xpath(\"/html/body/div[2]/div[2]/table[1]/tbody/tr/th[1]/text()[5]\").text\n",
    "except:\n",
    "    Category=\"N/A\""
   ]
  },
  {
   "cell_type": "code",
   "execution_count": 29,
   "metadata": {},
   "outputs": [
    {
     "name": "stdout",
     "output_type": "stream",
     "text": [
      "N/A\n"
     ]
    }
   ],
   "source": [
    "print(moderator)"
   ]
  },
  {
   "cell_type": "code",
   "execution_count": null,
   "metadata": {},
   "outputs": [],
   "source": [
    "p_name=driver.find_element_by_tag_name(\"h1\").text\n",
    "p_website=driver.find"
   ]
  }
 ],
 "metadata": {
  "kernelspec": {
   "display_name": "Python 3",
   "language": "python",
   "name": "python3"
  },
  "language_info": {
   "codemirror_mode": {
    "name": "ipython",
    "version": 3
   },
   "file_extension": ".py",
   "mimetype": "text/x-python",
   "name": "python",
   "nbconvert_exporter": "python",
   "pygments_lexer": "ipython3",
   "version": "3.9.0"
  }
 },
 "nbformat": 4,
 "nbformat_minor": 4
}
