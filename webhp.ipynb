{
 "cells": [
  {
   "cell_type": "code",
   "execution_count": 30,
   "id": "b40e4625",
   "metadata": {},
   "outputs": [],
   "source": [
    "from selenium import webdriver\n",
    "import time\n",
    "from selenium.webdriver.common.keys import Keys\n",
    "from selenium.webdriver.common.by import By\n",
    "import pandas as pd"
   ]
  },
  {
   "cell_type": "code",
   "execution_count": 31,
   "id": "5b9912e5",
   "metadata": {},
   "outputs": [
    {
     "name": "stderr",
     "output_type": "stream",
     "text": [
      "C:\\Users\\User\\AppData\\Local\\Temp\\ipykernel_8948\\1517830716.py:1: DeprecationWarning: executable_path has been deprecated, please pass in a Service object\n",
      "  driver=webdriver.Chrome(executable_path=\"C:/Driver/cc/chromedriver.exe\")\n"
     ]
    }
   ],
   "source": [
    "driver=webdriver.Chrome(executable_path=\"C:/Driver/cc/chromedriver.exe\")\n",
    "driver.get(\"https://www.google.com/webhp?hl=bn&sa=X&ved=0ahUKEwixto3mzc75AhXe5HMBHaFhAzkQPAgI\")\n",
    "driver.maximize_window()"
   ]
  },
  {
   "cell_type": "code",
   "execution_count": 32,
   "id": "167a972e",
   "metadata": {},
   "outputs": [],
   "source": [
    "search_text=pd.read_excel(\"C:/Users/User/PycharmProjects/pythonProject7/wiki_trail/wikipedia.xlsx\").Wikipedia\n",
    "company_name=pd.read_excel(\"C:/Users/User/PycharmProjects/pythonProject7/wiki_trail/wikipedia.xlsx\").company_name"
   ]
  },
  {
   "cell_type": "code",
   "execution_count": 33,
   "id": "36494c38",
   "metadata": {},
   "outputs": [],
   "source": [
    "import re\n",
    "a_new_ven=re.compile('wikipedia')"
   ]
  },
  {
   "cell_type": "code",
   "execution_count": 34,
   "id": "060ed3a8",
   "metadata": {},
   "outputs": [],
   "source": [
    "Dic = {}\n",
    "# from selenium import webdriver\n",
    "gc= pd.DataFrame(data=Dic,index=[0],columns=['Company_name','Wikipedia_link'])"
   ]
  },
  {
   "cell_type": "code",
   "execution_count": 35,
   "id": "e961192e",
   "metadata": {
    "scrolled": true
   },
   "outputs": [
    {
     "name": "stderr",
     "output_type": "stream",
     "text": [
      "C:\\Users\\User\\AppData\\Local\\Temp\\ipykernel_8948\\3506974589.py:18: FutureWarning: The frame.append method is deprecated and will be removed from pandas in a future version. Use pandas.concat instead.\n",
      "  gc = gc.append(Dic, ignore_index=True)\n"
     ]
    },
    {
     "name": "stdout",
     "output_type": "stream",
     "text": [
      "  Company_name                        Wikipedia_link\n",
      "0          NaN                                   NaN\n",
      "1         AT&T  https://en.wikipedia.org/wiki/AT%26T\n"
     ]
    },
    {
     "name": "stderr",
     "output_type": "stream",
     "text": [
      "C:\\Users\\User\\AppData\\Local\\Temp\\ipykernel_8948\\3506974589.py:18: FutureWarning: The frame.append method is deprecated and will be removed from pandas in a future version. Use pandas.concat instead.\n",
      "  gc = gc.append(Dic, ignore_index=True)\n"
     ]
    },
    {
     "name": "stdout",
     "output_type": "stream",
     "text": [
      "        Company_name                                 Wikipedia_link\n",
      "0                NaN                                            NaN\n",
      "1               AT&T           https://en.wikipedia.org/wiki/AT%26T\n",
      "2  11 88 0 SOLUTIONS  https://de.wikipedia.org/wiki/11880_Solutions\n"
     ]
    },
    {
     "name": "stderr",
     "output_type": "stream",
     "text": [
      "C:\\Users\\User\\AppData\\Local\\Temp\\ipykernel_8948\\3506974589.py:18: FutureWarning: The frame.append method is deprecated and will be removed from pandas in a future version. Use pandas.concat instead.\n",
      "  gc = gc.append(Dic, ignore_index=True)\n"
     ]
    },
    {
     "name": "stdout",
     "output_type": "stream",
     "text": [
      "        Company_name                                     Wikipedia_link\n",
      "0                NaN                                                NaN\n",
      "1               AT&T               https://en.wikipedia.org/wiki/AT%26T\n",
      "2  11 88 0 SOLUTIONS      https://de.wikipedia.org/wiki/11880_Solutions\n",
      "3        WESCO INTL.  https://en.wikipedia.org/wiki/WESCO_International\n"
     ]
    },
    {
     "name": "stderr",
     "output_type": "stream",
     "text": [
      "C:\\Users\\User\\AppData\\Local\\Temp\\ipykernel_8948\\3506974589.py:18: FutureWarning: The frame.append method is deprecated and will be removed from pandas in a future version. Use pandas.concat instead.\n",
      "  gc = gc.append(Dic, ignore_index=True)\n"
     ]
    },
    {
     "name": "stdout",
     "output_type": "stream",
     "text": [
      "        Company_name                                     Wikipedia_link\n",
      "0                NaN                                                NaN\n",
      "1               AT&T               https://en.wikipedia.org/wiki/AT%26T\n",
      "2  11 88 0 SOLUTIONS      https://de.wikipedia.org/wiki/11880_Solutions\n",
      "3        WESCO INTL.  https://en.wikipedia.org/wiki/WESCO_International\n",
      "4    LOVISA HOLDINGS     https://en.wikipedia.org/wiki/Lovisa_Jewellery\n"
     ]
    },
    {
     "name": "stderr",
     "output_type": "stream",
     "text": [
      "C:\\Users\\User\\AppData\\Local\\Temp\\ipykernel_8948\\3506974589.py:18: FutureWarning: The frame.append method is deprecated and will be removed from pandas in a future version. Use pandas.concat instead.\n",
      "  gc = gc.append(Dic, ignore_index=True)\n"
     ]
    },
    {
     "name": "stdout",
     "output_type": "stream",
     "text": [
      "            Company_name                                     Wikipedia_link\n",
      "0                    NaN                                                NaN\n",
      "1                   AT&T               https://en.wikipedia.org/wiki/AT%26T\n",
      "2      11 88 0 SOLUTIONS      https://de.wikipedia.org/wiki/11880_Solutions\n",
      "3            WESCO INTL.  https://en.wikipedia.org/wiki/WESCO_International\n",
      "4        LOVISA HOLDINGS     https://en.wikipedia.org/wiki/Lovisa_Jewellery\n",
      "5  URBAN EDGE PROPERTIES  https://bn.wikipedia.org/wiki/%E0%A6%AC%E0%A7%...\n"
     ]
    },
    {
     "name": "stderr",
     "output_type": "stream",
     "text": [
      "C:\\Users\\User\\AppData\\Local\\Temp\\ipykernel_8948\\3506974589.py:18: FutureWarning: The frame.append method is deprecated and will be removed from pandas in a future version. Use pandas.concat instead.\n",
      "  gc = gc.append(Dic, ignore_index=True)\n"
     ]
    },
    {
     "name": "stdout",
     "output_type": "stream",
     "text": [
      "                     Company_name  \\\n",
      "0                             NaN   \n",
      "1                            AT&T   \n",
      "2               11 88 0 SOLUTIONS   \n",
      "3                     WESCO INTL.   \n",
      "4                 LOVISA HOLDINGS   \n",
      "5           URBAN EDGE PROPERTIES   \n",
      "6  VOLCAN COMPANIA MINERA A PREF.   \n",
      "\n",
      "                                      Wikipedia_link  \n",
      "0                                                NaN  \n",
      "1               https://en.wikipedia.org/wiki/AT%26T  \n",
      "2      https://de.wikipedia.org/wiki/11880_Solutions  \n",
      "3  https://en.wikipedia.org/wiki/WESCO_International  \n",
      "4     https://en.wikipedia.org/wiki/Lovisa_Jewellery  \n",
      "5  https://bn.wikipedia.org/wiki/%E0%A6%AC%E0%A7%...  \n",
      "6  https://en.wikipedia.org/wiki/Volcan_(mining_c...  \n"
     ]
    },
    {
     "name": "stderr",
     "output_type": "stream",
     "text": [
      "C:\\Users\\User\\AppData\\Local\\Temp\\ipykernel_8948\\3506974589.py:18: FutureWarning: The frame.append method is deprecated and will be removed from pandas in a future version. Use pandas.concat instead.\n",
      "  gc = gc.append(Dic, ignore_index=True)\n"
     ]
    },
    {
     "name": "stdout",
     "output_type": "stream",
     "text": [
      "                     Company_name  \\\n",
      "0                             NaN   \n",
      "1                            AT&T   \n",
      "2               11 88 0 SOLUTIONS   \n",
      "3                     WESCO INTL.   \n",
      "4                 LOVISA HOLDINGS   \n",
      "5           URBAN EDGE PROPERTIES   \n",
      "6  VOLCAN COMPANIA MINERA A PREF.   \n",
      "7               KAPSCH TRAFFICCOM   \n",
      "\n",
      "                                      Wikipedia_link  \n",
      "0                                                NaN  \n",
      "1               https://en.wikipedia.org/wiki/AT%26T  \n",
      "2      https://de.wikipedia.org/wiki/11880_Solutions  \n",
      "3  https://en.wikipedia.org/wiki/WESCO_International  \n",
      "4     https://en.wikipedia.org/wiki/Lovisa_Jewellery  \n",
      "5  https://bn.wikipedia.org/wiki/%E0%A6%AC%E0%A7%...  \n",
      "6  https://en.wikipedia.org/wiki/Volcan_(mining_c...  \n",
      "7               https://en.wikipedia.org/wiki/Kapsch  \n"
     ]
    },
    {
     "name": "stderr",
     "output_type": "stream",
     "text": [
      "C:\\Users\\User\\AppData\\Local\\Temp\\ipykernel_8948\\3506974589.py:18: FutureWarning: The frame.append method is deprecated and will be removed from pandas in a future version. Use pandas.concat instead.\n",
      "  gc = gc.append(Dic, ignore_index=True)\n"
     ]
    },
    {
     "name": "stdout",
     "output_type": "stream",
     "text": [
      "                     Company_name  \\\n",
      "0                             NaN   \n",
      "1                            AT&T   \n",
      "2               11 88 0 SOLUTIONS   \n",
      "3                     WESCO INTL.   \n",
      "4                 LOVISA HOLDINGS   \n",
      "5           URBAN EDGE PROPERTIES   \n",
      "6  VOLCAN COMPANIA MINERA A PREF.   \n",
      "7               KAPSCH TRAFFICCOM   \n",
      "8           LAMAR ADVERTISING 'A'   \n",
      "\n",
      "                                      Wikipedia_link  \n",
      "0                                                NaN  \n",
      "1               https://en.wikipedia.org/wiki/AT%26T  \n",
      "2      https://de.wikipedia.org/wiki/11880_Solutions  \n",
      "3  https://en.wikipedia.org/wiki/WESCO_International  \n",
      "4     https://en.wikipedia.org/wiki/Lovisa_Jewellery  \n",
      "5  https://bn.wikipedia.org/wiki/%E0%A6%AC%E0%A7%...  \n",
      "6  https://en.wikipedia.org/wiki/Volcan_(mining_c...  \n",
      "7               https://en.wikipedia.org/wiki/Kapsch  \n",
      "8  https://en.wikipedia.org/wiki/Lamar_Advertisin...  \n"
     ]
    },
    {
     "name": "stderr",
     "output_type": "stream",
     "text": [
      "C:\\Users\\User\\AppData\\Local\\Temp\\ipykernel_8948\\3506974589.py:18: FutureWarning: The frame.append method is deprecated and will be removed from pandas in a future version. Use pandas.concat instead.\n",
      "  gc = gc.append(Dic, ignore_index=True)\n"
     ]
    },
    {
     "name": "stdout",
     "output_type": "stream",
     "text": [
      "                     Company_name  \\\n",
      "0                             NaN   \n",
      "1                            AT&T   \n",
      "2               11 88 0 SOLUTIONS   \n",
      "3                     WESCO INTL.   \n",
      "4                 LOVISA HOLDINGS   \n",
      "5           URBAN EDGE PROPERTIES   \n",
      "6  VOLCAN COMPANIA MINERA A PREF.   \n",
      "7               KAPSCH TRAFFICCOM   \n",
      "8           LAMAR ADVERTISING 'A'   \n",
      "9                   ABOITIZ POWER   \n",
      "\n",
      "                                      Wikipedia_link  \n",
      "0                                                NaN  \n",
      "1               https://en.wikipedia.org/wiki/AT%26T  \n",
      "2      https://de.wikipedia.org/wiki/11880_Solutions  \n",
      "3  https://en.wikipedia.org/wiki/WESCO_International  \n",
      "4     https://en.wikipedia.org/wiki/Lovisa_Jewellery  \n",
      "5  https://bn.wikipedia.org/wiki/%E0%A6%AC%E0%A7%...  \n",
      "6  https://en.wikipedia.org/wiki/Volcan_(mining_c...  \n",
      "7               https://en.wikipedia.org/wiki/Kapsch  \n",
      "8  https://en.wikipedia.org/wiki/Lamar_Advertisin...  \n",
      "9        https://en.wikipedia.org/wiki/Aboitiz_Power  \n"
     ]
    },
    {
     "name": "stderr",
     "output_type": "stream",
     "text": [
      "C:\\Users\\User\\AppData\\Local\\Temp\\ipykernel_8948\\3506974589.py:18: FutureWarning: The frame.append method is deprecated and will be removed from pandas in a future version. Use pandas.concat instead.\n",
      "  gc = gc.append(Dic, ignore_index=True)\n"
     ]
    },
    {
     "name": "stdout",
     "output_type": "stream",
     "text": [
      "                      Company_name  \\\n",
      "0                              NaN   \n",
      "1                             AT&T   \n",
      "2                11 88 0 SOLUTIONS   \n",
      "3                      WESCO INTL.   \n",
      "4                  LOVISA HOLDINGS   \n",
      "5            URBAN EDGE PROPERTIES   \n",
      "6   VOLCAN COMPANIA MINERA A PREF.   \n",
      "7                KAPSCH TRAFFICCOM   \n",
      "8            LAMAR ADVERTISING 'A'   \n",
      "9                    ABOITIZ POWER   \n",
      "10                          ALLANE   \n",
      "\n",
      "                                       Wikipedia_link  \n",
      "0                                                 NaN  \n",
      "1                https://en.wikipedia.org/wiki/AT%26T  \n",
      "2       https://de.wikipedia.org/wiki/11880_Solutions  \n",
      "3   https://en.wikipedia.org/wiki/WESCO_International  \n",
      "4      https://en.wikipedia.org/wiki/Lovisa_Jewellery  \n",
      "5   https://bn.wikipedia.org/wiki/%E0%A6%AC%E0%A7%...  \n",
      "6   https://en.wikipedia.org/wiki/Volcan_(mining_c...  \n",
      "7                https://en.wikipedia.org/wiki/Kapsch  \n",
      "8   https://en.wikipedia.org/wiki/Lamar_Advertisin...  \n",
      "9         https://en.wikipedia.org/wiki/Aboitiz_Power  \n",
      "10                https://en.wikipedia.org/wiki/Allen  \n"
     ]
    },
    {
     "name": "stderr",
     "output_type": "stream",
     "text": [
      "C:\\Users\\User\\AppData\\Local\\Temp\\ipykernel_8948\\3506974589.py:18: FutureWarning: The frame.append method is deprecated and will be removed from pandas in a future version. Use pandas.concat instead.\n",
      "  gc = gc.append(Dic, ignore_index=True)\n"
     ]
    },
    {
     "name": "stdout",
     "output_type": "stream",
     "text": [
      "                      Company_name  \\\n",
      "0                              NaN   \n",
      "1                             AT&T   \n",
      "2                11 88 0 SOLUTIONS   \n",
      "3                      WESCO INTL.   \n",
      "4                  LOVISA HOLDINGS   \n",
      "5            URBAN EDGE PROPERTIES   \n",
      "6   VOLCAN COMPANIA MINERA A PREF.   \n",
      "7                KAPSCH TRAFFICCOM   \n",
      "8            LAMAR ADVERTISING 'A'   \n",
      "9                    ABOITIZ POWER   \n",
      "10                          ALLANE   \n",
      "11                            SNAM   \n",
      "\n",
      "                                       Wikipedia_link  \n",
      "0                                                 NaN  \n",
      "1                https://en.wikipedia.org/wiki/AT%26T  \n",
      "2       https://de.wikipedia.org/wiki/11880_Solutions  \n",
      "3   https://en.wikipedia.org/wiki/WESCO_International  \n",
      "4      https://en.wikipedia.org/wiki/Lovisa_Jewellery  \n",
      "5   https://bn.wikipedia.org/wiki/%E0%A6%AC%E0%A7%...  \n",
      "6   https://en.wikipedia.org/wiki/Volcan_(mining_c...  \n",
      "7                https://en.wikipedia.org/wiki/Kapsch  \n",
      "8   https://en.wikipedia.org/wiki/Lamar_Advertisin...  \n",
      "9         https://en.wikipedia.org/wiki/Aboitiz_Power  \n",
      "10                https://en.wikipedia.org/wiki/Allen  \n",
      "11                 https://en.wikipedia.org/wiki/Snam  \n"
     ]
    },
    {
     "name": "stderr",
     "output_type": "stream",
     "text": [
      "C:\\Users\\User\\AppData\\Local\\Temp\\ipykernel_8948\\3506974589.py:18: FutureWarning: The frame.append method is deprecated and will be removed from pandas in a future version. Use pandas.concat instead.\n",
      "  gc = gc.append(Dic, ignore_index=True)\n"
     ]
    },
    {
     "name": "stdout",
     "output_type": "stream",
     "text": [
      "                      Company_name  \\\n",
      "0                              NaN   \n",
      "1                             AT&T   \n",
      "2                11 88 0 SOLUTIONS   \n",
      "3                      WESCO INTL.   \n",
      "4                  LOVISA HOLDINGS   \n",
      "5            URBAN EDGE PROPERTIES   \n",
      "6   VOLCAN COMPANIA MINERA A PREF.   \n",
      "7                KAPSCH TRAFFICCOM   \n",
      "8            LAMAR ADVERTISING 'A'   \n",
      "9                    ABOITIZ POWER   \n",
      "10                          ALLANE   \n",
      "11                            SNAM   \n",
      "12                     TAKASHIMAYA   \n",
      "\n",
      "                                       Wikipedia_link  \n",
      "0                                                 NaN  \n",
      "1                https://en.wikipedia.org/wiki/AT%26T  \n",
      "2       https://de.wikipedia.org/wiki/11880_Solutions  \n",
      "3   https://en.wikipedia.org/wiki/WESCO_International  \n",
      "4      https://en.wikipedia.org/wiki/Lovisa_Jewellery  \n",
      "5   https://bn.wikipedia.org/wiki/%E0%A6%AC%E0%A7%...  \n",
      "6   https://en.wikipedia.org/wiki/Volcan_(mining_c...  \n",
      "7                https://en.wikipedia.org/wiki/Kapsch  \n",
      "8   https://en.wikipedia.org/wiki/Lamar_Advertisin...  \n",
      "9         https://en.wikipedia.org/wiki/Aboitiz_Power  \n",
      "10                https://en.wikipedia.org/wiki/Allen  \n",
      "11                 https://en.wikipedia.org/wiki/Snam  \n",
      "12          https://en.wikipedia.org/wiki/Takashimaya  \n"
     ]
    },
    {
     "name": "stderr",
     "output_type": "stream",
     "text": [
      "C:\\Users\\User\\AppData\\Local\\Temp\\ipykernel_8948\\3506974589.py:18: FutureWarning: The frame.append method is deprecated and will be removed from pandas in a future version. Use pandas.concat instead.\n",
      "  gc = gc.append(Dic, ignore_index=True)\n"
     ]
    },
    {
     "name": "stdout",
     "output_type": "stream",
     "text": [
      "                      Company_name  \\\n",
      "0                              NaN   \n",
      "1                             AT&T   \n",
      "2                11 88 0 SOLUTIONS   \n",
      "3                      WESCO INTL.   \n",
      "4                  LOVISA HOLDINGS   \n",
      "5            URBAN EDGE PROPERTIES   \n",
      "6   VOLCAN COMPANIA MINERA A PREF.   \n",
      "7                KAPSCH TRAFFICCOM   \n",
      "8            LAMAR ADVERTISING 'A'   \n",
      "9                    ABOITIZ POWER   \n",
      "10                          ALLANE   \n",
      "11                            SNAM   \n",
      "12                     TAKASHIMAYA   \n",
      "13                 THOR INDUSTRIES   \n",
      "\n",
      "                                       Wikipedia_link  \n",
      "0                                                 NaN  \n",
      "1                https://en.wikipedia.org/wiki/AT%26T  \n",
      "2       https://de.wikipedia.org/wiki/11880_Solutions  \n",
      "3   https://en.wikipedia.org/wiki/WESCO_International  \n",
      "4      https://en.wikipedia.org/wiki/Lovisa_Jewellery  \n",
      "5   https://bn.wikipedia.org/wiki/%E0%A6%AC%E0%A7%...  \n",
      "6   https://en.wikipedia.org/wiki/Volcan_(mining_c...  \n",
      "7                https://en.wikipedia.org/wiki/Kapsch  \n",
      "8   https://en.wikipedia.org/wiki/Lamar_Advertisin...  \n",
      "9         https://en.wikipedia.org/wiki/Aboitiz_Power  \n",
      "10                https://en.wikipedia.org/wiki/Allen  \n",
      "11                 https://en.wikipedia.org/wiki/Snam  \n",
      "12          https://en.wikipedia.org/wiki/Takashimaya  \n",
      "13      https://en.wikipedia.org/wiki/Thor_Industries  \n"
     ]
    },
    {
     "name": "stderr",
     "output_type": "stream",
     "text": [
      "C:\\Users\\User\\AppData\\Local\\Temp\\ipykernel_8948\\3506974589.py:18: FutureWarning: The frame.append method is deprecated and will be removed from pandas in a future version. Use pandas.concat instead.\n",
      "  gc = gc.append(Dic, ignore_index=True)\n"
     ]
    },
    {
     "name": "stdout",
     "output_type": "stream",
     "text": [
      "                      Company_name  \\\n",
      "0                              NaN   \n",
      "1                             AT&T   \n",
      "2                11 88 0 SOLUTIONS   \n",
      "3                      WESCO INTL.   \n",
      "4                  LOVISA HOLDINGS   \n",
      "5            URBAN EDGE PROPERTIES   \n",
      "6   VOLCAN COMPANIA MINERA A PREF.   \n",
      "7                KAPSCH TRAFFICCOM   \n",
      "8            LAMAR ADVERTISING 'A'   \n",
      "9                    ABOITIZ POWER   \n",
      "10                          ALLANE   \n",
      "11                            SNAM   \n",
      "12                     TAKASHIMAYA   \n",
      "13                 THOR INDUSTRIES   \n",
      "14           RAYTHEON TECHNOLOGIES   \n",
      "\n",
      "                                       Wikipedia_link  \n",
      "0                                                 NaN  \n",
      "1                https://en.wikipedia.org/wiki/AT%26T  \n",
      "2       https://de.wikipedia.org/wiki/11880_Solutions  \n",
      "3   https://en.wikipedia.org/wiki/WESCO_International  \n",
      "4      https://en.wikipedia.org/wiki/Lovisa_Jewellery  \n",
      "5   https://bn.wikipedia.org/wiki/%E0%A6%AC%E0%A7%...  \n",
      "6   https://en.wikipedia.org/wiki/Volcan_(mining_c...  \n",
      "7                https://en.wikipedia.org/wiki/Kapsch  \n",
      "8   https://en.wikipedia.org/wiki/Lamar_Advertisin...  \n",
      "9         https://en.wikipedia.org/wiki/Aboitiz_Power  \n",
      "10                https://en.wikipedia.org/wiki/Allen  \n",
      "11                 https://en.wikipedia.org/wiki/Snam  \n",
      "12          https://en.wikipedia.org/wiki/Takashimaya  \n",
      "13      https://en.wikipedia.org/wiki/Thor_Industries  \n",
      "14  https://en.wikipedia.org/wiki/Raytheon_Technol...  \n"
     ]
    },
    {
     "name": "stderr",
     "output_type": "stream",
     "text": [
      "C:\\Users\\User\\AppData\\Local\\Temp\\ipykernel_8948\\3506974589.py:18: FutureWarning: The frame.append method is deprecated and will be removed from pandas in a future version. Use pandas.concat instead.\n",
      "  gc = gc.append(Dic, ignore_index=True)\n"
     ]
    },
    {
     "name": "stdout",
     "output_type": "stream",
     "text": [
      "                      Company_name  \\\n",
      "0                              NaN   \n",
      "1                             AT&T   \n",
      "2                11 88 0 SOLUTIONS   \n",
      "3                      WESCO INTL.   \n",
      "4                  LOVISA HOLDINGS   \n",
      "5            URBAN EDGE PROPERTIES   \n",
      "6   VOLCAN COMPANIA MINERA A PREF.   \n",
      "7                KAPSCH TRAFFICCOM   \n",
      "8            LAMAR ADVERTISING 'A'   \n",
      "9                    ABOITIZ POWER   \n",
      "10                          ALLANE   \n",
      "11                            SNAM   \n",
      "12                     TAKASHIMAYA   \n",
      "13                 THOR INDUSTRIES   \n",
      "14           RAYTHEON TECHNOLOGIES   \n",
      "15                      SOHO CHINA   \n",
      "\n",
      "                                       Wikipedia_link  \n",
      "0                                                 NaN  \n",
      "1                https://en.wikipedia.org/wiki/AT%26T  \n",
      "2       https://de.wikipedia.org/wiki/11880_Solutions  \n",
      "3   https://en.wikipedia.org/wiki/WESCO_International  \n",
      "4      https://en.wikipedia.org/wiki/Lovisa_Jewellery  \n",
      "5   https://bn.wikipedia.org/wiki/%E0%A6%AC%E0%A7%...  \n",
      "6   https://en.wikipedia.org/wiki/Volcan_(mining_c...  \n",
      "7                https://en.wikipedia.org/wiki/Kapsch  \n",
      "8   https://en.wikipedia.org/wiki/Lamar_Advertisin...  \n",
      "9         https://en.wikipedia.org/wiki/Aboitiz_Power  \n",
      "10                https://en.wikipedia.org/wiki/Allen  \n",
      "11                 https://en.wikipedia.org/wiki/Snam  \n",
      "12          https://en.wikipedia.org/wiki/Takashimaya  \n",
      "13      https://en.wikipedia.org/wiki/Thor_Industries  \n",
      "14  https://en.wikipedia.org/wiki/Raytheon_Technol...  \n",
      "15           https://en.wikipedia.org/wiki/SOHO_China  \n"
     ]
    },
    {
     "ename": "KeyboardInterrupt",
     "evalue": "",
     "output_type": "error",
     "traceback": [
      "\u001b[1;31m---------------------------------------------------------------------------\u001b[0m",
      "\u001b[1;31mKeyboardInterrupt\u001b[0m                         Traceback (most recent call last)",
      "Input \u001b[1;32mIn [35]\u001b[0m, in \u001b[0;36m<cell line: 1>\u001b[1;34m()\u001b[0m\n\u001b[0;32m      3\u001b[0m search_bar\u001b[38;5;241m.\u001b[39msend_keys(search_text[i])\n\u001b[0;32m      4\u001b[0m search_bar\u001b[38;5;241m.\u001b[39msend_keys(Keys\u001b[38;5;241m.\u001b[39mENTER)\n\u001b[1;32m----> 5\u001b[0m \u001b[43mtime\u001b[49m\u001b[38;5;241;43m.\u001b[39;49m\u001b[43msleep\u001b[49m\u001b[43m(\u001b[49m\u001b[38;5;241;43m2\u001b[39;49m\u001b[43m)\u001b[49m\n\u001b[0;32m      6\u001b[0m \u001b[38;5;28;01mtry\u001b[39;00m:\n\u001b[0;32m      7\u001b[0m     first\u001b[38;5;241m=\u001b[39mfirst\u001b[38;5;241m=\u001b[39mdriver\u001b[38;5;241m.\u001b[39mfind_elements(By\u001b[38;5;241m.\u001b[39mCLASS_NAME,\u001b[38;5;124m\"\u001b[39m\u001b[38;5;124myuRUbf\u001b[39m\u001b[38;5;124m\"\u001b[39m)\n",
      "\u001b[1;31mKeyboardInterrupt\u001b[0m: "
     ]
    }
   ],
   "source": [
    "for i in range(0,33):\n",
    "    search_bar=driver.find_element(By.CSS_SELECTOR,\"body > div.L3eUgb > div.o3j99.ikrT4e.om7nvf > form > div:nth-child(1) > div.A8SBwf > div.RNNXgb > div > div.a4bIc > input\")\n",
    "    search_bar.send_keys(search_text[i])\n",
    "    search_bar.send_keys(Keys.ENTER)\n",
    "    time.sleep(2)\n",
    "    try:\n",
    "        first=first=driver.find_elements(By.CLASS_NAME,\"yuRUbf\")\n",
    "        links=[]\n",
    "        for li in range(0,3):\n",
    "            link=first[li].find_element(By.TAG_NAME,\"a\").get_attribute(\"href\")\n",
    "#             print(link)\n",
    "            linkk=link.split(\".\")\n",
    "            for ll in linkk:\n",
    "                if a_new_ven.match(ll):\n",
    "                    links.append(link)\n",
    "                    break\n",
    "        Dic={'Company_name':company_name[i],'Wikipedia_link':links[0]}\n",
    "        gc = gc.append(Dic, ignore_index=True)\n",
    "        print(gc)\n",
    "        driver.back()\n",
    "        time.sleep(2)\n",
    "        p=0\n",
    "    except:\n",
    "        p=p+1\n",
    "    \n",
    "        Dic={'Company_name':company_name[i],'Wikipedia_link':\"N/A\"}\n",
    "        gc = gc.append(Dic, ignore_index=True)\n",
    "        driver.back()\n",
    "        time.sleep(2)"
   ]
  },
  {
   "cell_type": "code",
   "execution_count": 36,
   "id": "1e7db1b9",
   "metadata": {},
   "outputs": [],
   "source": [
    "gc.to_excel(\"C:/Users/User/PycharmProjects/pythonProject7/wiki_trail/wiki_link.xlsx\")"
   ]
  },
  {
   "cell_type": "code",
   "execution_count": 37,
   "id": "c3fb3468",
   "metadata": {},
   "outputs": [],
   "source": [
    "wiki_link=pd.read_excel(\"C:/Users/User/PycharmProjects/pythonProject7/wiki_trail/wiki_link.xlsx\").Wikipedia_link\n",
    "company=pd.read_excel(\"C:/Users/User/PycharmProjects/pythonProject7/wiki_trail/wiki_link.xlsx\").Company_name"
   ]
  },
  {
   "cell_type": "code",
   "execution_count": 38,
   "id": "c9ab3472",
   "metadata": {},
   "outputs": [],
   "source": [
    "Dic = {}\n",
    "# from selenium import webdriver\n",
    "gc= pd.DataFrame(data=Dic,index=[0],columns=['Company_name','Wikipedia_link',\"wiki_name\",\"info_box\"])"
   ]
  },
  {
   "cell_type": "code",
   "execution_count": 39,
   "id": "4d3405c6",
   "metadata": {
    "scrolled": true
   },
   "outputs": [
    {
     "name": "stderr",
     "output_type": "stream",
     "text": [
      "C:\\Users\\User\\AppData\\Local\\Temp\\ipykernel_8948\\51535925.py:7: FutureWarning: The frame.append method is deprecated and will be removed from pandas in a future version. Use pandas.concat instead.\n",
      "  gc = gc.append(Dic, ignore_index=True)\n",
      "C:\\Users\\User\\AppData\\Local\\Temp\\ipykernel_8948\\51535925.py:50: FutureWarning: The frame.append method is deprecated and will be removed from pandas in a future version. Use pandas.concat instead.\n",
      "  gc = gc.append(Dic, ignore_index=True)\n"
     ]
    },
    {
     "name": "stdout",
     "output_type": "stream",
     "text": [
      "  Company_name                        Wikipedia_link wiki_name  \\\n",
      "0          NaN                                   NaN       NaN   \n",
      "1          NaN                                   NaN             \n",
      "2         AT&T  https://en.wikipedia.org/wiki/AT%26T      AT&T   \n",
      "\n",
      "                                            info_box  \n",
      "0                                                NaN  \n",
      "1                                                N/A  \n",
      "2  [Formerly : Southwestern Bell Corporation (198...  \n"
     ]
    },
    {
     "name": "stderr",
     "output_type": "stream",
     "text": [
      "C:\\Users\\User\\AppData\\Local\\Temp\\ipykernel_8948\\51535925.py:50: FutureWarning: The frame.append method is deprecated and will be removed from pandas in a future version. Use pandas.concat instead.\n",
      "  gc = gc.append(Dic, ignore_index=True)\n"
     ]
    },
    {
     "name": "stdout",
     "output_type": "stream",
     "text": [
      "        Company_name                                 Wikipedia_link  \\\n",
      "0                NaN                                            NaN   \n",
      "1                NaN                                            NaN   \n",
      "2               AT&T           https://en.wikipedia.org/wiki/AT%26T   \n",
      "3  11 88 0 SOLUTIONS  https://de.wikipedia.org/wiki/11880_Solutions   \n",
      "\n",
      "         wiki_name                                           info_box  \n",
      "0              NaN                                                NaN  \n",
      "1                                                                 N/A  \n",
      "2             AT&T  [Formerly : Southwestern Bell Corporation (198...  \n",
      "3  11880 Solutions                                                 []  \n"
     ]
    },
    {
     "name": "stderr",
     "output_type": "stream",
     "text": [
      "C:\\Users\\User\\AppData\\Local\\Temp\\ipykernel_8948\\51535925.py:50: FutureWarning: The frame.append method is deprecated and will be removed from pandas in a future version. Use pandas.concat instead.\n",
      "  gc = gc.append(Dic, ignore_index=True)\n"
     ]
    },
    {
     "name": "stdout",
     "output_type": "stream",
     "text": [
      "        Company_name                                     Wikipedia_link  \\\n",
      "0                NaN                                                NaN   \n",
      "1                NaN                                                NaN   \n",
      "2               AT&T               https://en.wikipedia.org/wiki/AT%26T   \n",
      "3  11 88 0 SOLUTIONS      https://de.wikipedia.org/wiki/11880_Solutions   \n",
      "4        WESCO INTL.  https://en.wikipedia.org/wiki/WESCO_International   \n",
      "\n",
      "             wiki_name                                           info_box  \n",
      "0                  NaN                                                NaN  \n",
      "1                                                                     N/A  \n",
      "2                 AT&T  [Formerly : Southwestern Bell Corporation (198...  \n",
      "3      11880 Solutions                                                 []  \n",
      "4  WESCO International  [Formerly : Westinghouse Electrical Supply Com...  \n"
     ]
    },
    {
     "name": "stderr",
     "output_type": "stream",
     "text": [
      "C:\\Users\\User\\AppData\\Local\\Temp\\ipykernel_8948\\51535925.py:50: FutureWarning: The frame.append method is deprecated and will be removed from pandas in a future version. Use pandas.concat instead.\n",
      "  gc = gc.append(Dic, ignore_index=True)\n"
     ]
    },
    {
     "name": "stdout",
     "output_type": "stream",
     "text": [
      "        Company_name                                     Wikipedia_link  \\\n",
      "0                NaN                                                NaN   \n",
      "1                NaN                                                NaN   \n",
      "2               AT&T               https://en.wikipedia.org/wiki/AT%26T   \n",
      "3  11 88 0 SOLUTIONS      https://de.wikipedia.org/wiki/11880_Solutions   \n",
      "4        WESCO INTL.  https://en.wikipedia.org/wiki/WESCO_International   \n",
      "5    LOVISA HOLDINGS     https://en.wikipedia.org/wiki/Lovisa_Jewellery   \n",
      "\n",
      "             wiki_name                                           info_box  \n",
      "0                  NaN                                                NaN  \n",
      "1                                                                     N/A  \n",
      "2                 AT&T  [Formerly : Southwestern Bell Corporation (198...  \n",
      "3      11880 Solutions                                                 []  \n",
      "4  WESCO International  [Formerly : Westinghouse Electrical Supply Com...  \n",
      "5     Lovisa Jewellery  [Founded : April 2010[1], Headquarters : Sydne...  \n"
     ]
    },
    {
     "name": "stderr",
     "output_type": "stream",
     "text": [
      "C:\\Users\\User\\AppData\\Local\\Temp\\ipykernel_8948\\51535925.py:50: FutureWarning: The frame.append method is deprecated and will be removed from pandas in a future version. Use pandas.concat instead.\n",
      "  gc = gc.append(Dic, ignore_index=True)\n"
     ]
    },
    {
     "name": "stdout",
     "output_type": "stream",
     "text": [
      "            Company_name                                     Wikipedia_link  \\\n",
      "0                    NaN                                                NaN   \n",
      "1                    NaN                                                NaN   \n",
      "2                   AT&T               https://en.wikipedia.org/wiki/AT%26T   \n",
      "3      11 88 0 SOLUTIONS      https://de.wikipedia.org/wiki/11880_Solutions   \n",
      "4            WESCO INTL.  https://en.wikipedia.org/wiki/WESCO_International   \n",
      "5        LOVISA HOLDINGS     https://en.wikipedia.org/wiki/Lovisa_Jewellery   \n",
      "6  URBAN EDGE PROPERTIES  https://bn.wikipedia.org/wiki/%E0%A6%AC%E0%A7%...   \n",
      "\n",
      "             wiki_name                                           info_box  \n",
      "0                  NaN                                                NaN  \n",
      "1                                                                     N/A  \n",
      "2                 AT&T  [Formerly : Southwestern Bell Corporation (198...  \n",
      "3      11880 Solutions                                                 []  \n",
      "4  WESCO International  [Formerly : Westinghouse Electrical Supply Com...  \n",
      "5     Lovisa Jewellery  [Founded : April 2010[1], Headquarters : Sydne...  \n",
      "6            বুদাপেস্ট  [দেশ : হাঙ্গেরি, হাঙ্গেরির কাউন্টি : পেস্ট,  •...  \n"
     ]
    },
    {
     "name": "stderr",
     "output_type": "stream",
     "text": [
      "C:\\Users\\User\\AppData\\Local\\Temp\\ipykernel_8948\\51535925.py:50: FutureWarning: The frame.append method is deprecated and will be removed from pandas in a future version. Use pandas.concat instead.\n",
      "  gc = gc.append(Dic, ignore_index=True)\n"
     ]
    },
    {
     "name": "stdout",
     "output_type": "stream",
     "text": [
      "                     Company_name  \\\n",
      "0                             NaN   \n",
      "1                             NaN   \n",
      "2                            AT&T   \n",
      "3               11 88 0 SOLUTIONS   \n",
      "4                     WESCO INTL.   \n",
      "5                 LOVISA HOLDINGS   \n",
      "6           URBAN EDGE PROPERTIES   \n",
      "7  VOLCAN COMPANIA MINERA A PREF.   \n",
      "\n",
      "                                      Wikipedia_link                wiki_name  \\\n",
      "0                                                NaN                      NaN   \n",
      "1                                                NaN                            \n",
      "2               https://en.wikipedia.org/wiki/AT%26T                     AT&T   \n",
      "3      https://de.wikipedia.org/wiki/11880_Solutions          11880 Solutions   \n",
      "4  https://en.wikipedia.org/wiki/WESCO_International      WESCO International   \n",
      "5     https://en.wikipedia.org/wiki/Lovisa_Jewellery         Lovisa Jewellery   \n",
      "6  https://bn.wikipedia.org/wiki/%E0%A6%AC%E0%A7%...                বুদাপেস্ট   \n",
      "7  https://en.wikipedia.org/wiki/Volcan_(mining_c...  Volcan (mining company)   \n",
      "\n",
      "                                            info_box  \n",
      "0                                                NaN  \n",
      "1                                                N/A  \n",
      "2  [Formerly : Southwestern Bell Corporation (198...  \n",
      "3                                                 []  \n",
      "4  [Formerly : Westinghouse Electrical Supply Com...  \n",
      "5  [Founded : April 2010[1], Headquarters : Sydne...  \n",
      "6  [দেশ : হাঙ্গেরি, হাঙ্গেরির কাউন্টি : পেস্ট,  •...  \n",
      "7  [Traded as : BVL: VOLCAAC1\\nBMAD: XVOLB, Indus...  \n"
     ]
    },
    {
     "name": "stderr",
     "output_type": "stream",
     "text": [
      "C:\\Users\\User\\AppData\\Local\\Temp\\ipykernel_8948\\51535925.py:50: FutureWarning: The frame.append method is deprecated and will be removed from pandas in a future version. Use pandas.concat instead.\n",
      "  gc = gc.append(Dic, ignore_index=True)\n"
     ]
    },
    {
     "name": "stdout",
     "output_type": "stream",
     "text": [
      "                     Company_name  \\\n",
      "0                             NaN   \n",
      "1                             NaN   \n",
      "2                            AT&T   \n",
      "3               11 88 0 SOLUTIONS   \n",
      "4                     WESCO INTL.   \n",
      "5                 LOVISA HOLDINGS   \n",
      "6           URBAN EDGE PROPERTIES   \n",
      "7  VOLCAN COMPANIA MINERA A PREF.   \n",
      "8               KAPSCH TRAFFICCOM   \n",
      "\n",
      "                                      Wikipedia_link                wiki_name  \\\n",
      "0                                                NaN                      NaN   \n",
      "1                                                NaN                            \n",
      "2               https://en.wikipedia.org/wiki/AT%26T                     AT&T   \n",
      "3      https://de.wikipedia.org/wiki/11880_Solutions          11880 Solutions   \n",
      "4  https://en.wikipedia.org/wiki/WESCO_International      WESCO International   \n",
      "5     https://en.wikipedia.org/wiki/Lovisa_Jewellery         Lovisa Jewellery   \n",
      "6  https://bn.wikipedia.org/wiki/%E0%A6%AC%E0%A7%...                বুদাপেস্ট   \n",
      "7  https://en.wikipedia.org/wiki/Volcan_(mining_c...  Volcan (mining company)   \n",
      "8               https://en.wikipedia.org/wiki/Kapsch                   Kapsch   \n",
      "\n",
      "                                            info_box  \n",
      "0                                                NaN  \n",
      "1                                                N/A  \n",
      "2  [Formerly : Southwestern Bell Corporation (198...  \n",
      "3                                                 []  \n",
      "4  [Formerly : Westinghouse Electrical Supply Com...  \n",
      "5  [Founded : April 2010[1], Headquarters : Sydne...  \n",
      "6  [দেশ : হাঙ্গেরি, হাঙ্গেরির কাউন্টি : পেস্ট,  •...  \n",
      "7  [Traded as : BVL: VOLCAAC1\\nBMAD: XVOLB, Indus...  \n",
      "8  [Industry : IT, Founded : 1892, Headquarters :...  \n"
     ]
    },
    {
     "name": "stderr",
     "output_type": "stream",
     "text": [
      "C:\\Users\\User\\AppData\\Local\\Temp\\ipykernel_8948\\51535925.py:19: FutureWarning: The frame.append method is deprecated and will be removed from pandas in a future version. Use pandas.concat instead.\n",
      "  gc = gc.append(Dic, ignore_index=True)\n",
      "C:\\Users\\User\\AppData\\Local\\Temp\\ipykernel_8948\\51535925.py:50: FutureWarning: The frame.append method is deprecated and will be removed from pandas in a future version. Use pandas.concat instead.\n",
      "  gc = gc.append(Dic, ignore_index=True)\n"
     ]
    },
    {
     "name": "stdout",
     "output_type": "stream",
     "text": [
      "                      Company_name  \\\n",
      "0                              NaN   \n",
      "1                              NaN   \n",
      "2                             AT&T   \n",
      "3                11 88 0 SOLUTIONS   \n",
      "4                      WESCO INTL.   \n",
      "5                  LOVISA HOLDINGS   \n",
      "6            URBAN EDGE PROPERTIES   \n",
      "7   VOLCAN COMPANIA MINERA A PREF.   \n",
      "8                KAPSCH TRAFFICCOM   \n",
      "9            LAMAR ADVERTISING 'A'   \n",
      "10                   ABOITIZ POWER   \n",
      "\n",
      "                                       Wikipedia_link  \\\n",
      "0                                                 NaN   \n",
      "1                                                 NaN   \n",
      "2                https://en.wikipedia.org/wiki/AT%26T   \n",
      "3       https://de.wikipedia.org/wiki/11880_Solutions   \n",
      "4   https://en.wikipedia.org/wiki/WESCO_International   \n",
      "5      https://en.wikipedia.org/wiki/Lovisa_Jewellery   \n",
      "6   https://bn.wikipedia.org/wiki/%E0%A6%AC%E0%A7%...   \n",
      "7   https://en.wikipedia.org/wiki/Volcan_(mining_c...   \n",
      "8                https://en.wikipedia.org/wiki/Kapsch   \n",
      "9   https://en.wikipedia.org/wiki/Lamar_Advertisin...   \n",
      "10        https://en.wikipedia.org/wiki/Aboitiz_Power   \n",
      "\n",
      "                    wiki_name  \\\n",
      "0                         NaN   \n",
      "1                               \n",
      "2                        AT&T   \n",
      "3             11880 Solutions   \n",
      "4         WESCO International   \n",
      "5            Lovisa Jewellery   \n",
      "6                   বুদাপেস্ট   \n",
      "7     Volcan (mining company)   \n",
      "8                      Kapsch   \n",
      "9   Lamar Advertising Company   \n",
      "10              Aboitiz Power   \n",
      "\n",
      "                                             info_box  \n",
      "0                                                 NaN  \n",
      "1                                                 N/A  \n",
      "2   [Formerly : Southwestern Bell Corporation (198...  \n",
      "3                                                  []  \n",
      "4   [Formerly : Westinghouse Electrical Supply Com...  \n",
      "5   [Founded : April 2010[1], Headquarters : Sydne...  \n",
      "6   [দেশ : হাঙ্গেরি, হাঙ্গেরির কাউন্টি : পেস্ট,  •...  \n",
      "7   [Traded as : BVL: VOLCAAC1\\nBMAD: XVOLB, Indus...  \n",
      "8   [Industry : IT, Founded : 1892, Headquarters :...  \n",
      "9                                                 N/A  \n",
      "10  [Type : Public, Traded as : PSE: AP, Founded :...  \n"
     ]
    },
    {
     "name": "stderr",
     "output_type": "stream",
     "text": [
      "C:\\Users\\User\\AppData\\Local\\Temp\\ipykernel_8948\\51535925.py:31: FutureWarning: The frame.append method is deprecated and will be removed from pandas in a future version. Use pandas.concat instead.\n",
      "  gc = gc.append(Dic, ignore_index=True)\n",
      "C:\\Users\\User\\AppData\\Local\\Temp\\ipykernel_8948\\51535925.py:50: FutureWarning: The frame.append method is deprecated and will be removed from pandas in a future version. Use pandas.concat instead.\n",
      "  gc = gc.append(Dic, ignore_index=True)\n"
     ]
    },
    {
     "name": "stdout",
     "output_type": "stream",
     "text": [
      "                      Company_name  \\\n",
      "0                              NaN   \n",
      "1                              NaN   \n",
      "2                             AT&T   \n",
      "3                11 88 0 SOLUTIONS   \n",
      "4                      WESCO INTL.   \n",
      "5                  LOVISA HOLDINGS   \n",
      "6            URBAN EDGE PROPERTIES   \n",
      "7   VOLCAN COMPANIA MINERA A PREF.   \n",
      "8                KAPSCH TRAFFICCOM   \n",
      "9            LAMAR ADVERTISING 'A'   \n",
      "10                   ABOITIZ POWER   \n",
      "11                          ALLANE   \n",
      "12                            SNAM   \n",
      "\n",
      "                                       Wikipedia_link  \\\n",
      "0                                                 NaN   \n",
      "1                                                 NaN   \n",
      "2                https://en.wikipedia.org/wiki/AT%26T   \n",
      "3       https://de.wikipedia.org/wiki/11880_Solutions   \n",
      "4   https://en.wikipedia.org/wiki/WESCO_International   \n",
      "5      https://en.wikipedia.org/wiki/Lovisa_Jewellery   \n",
      "6   https://bn.wikipedia.org/wiki/%E0%A6%AC%E0%A7%...   \n",
      "7   https://en.wikipedia.org/wiki/Volcan_(mining_c...   \n",
      "8                https://en.wikipedia.org/wiki/Kapsch   \n",
      "9   https://en.wikipedia.org/wiki/Lamar_Advertisin...   \n",
      "10        https://en.wikipedia.org/wiki/Aboitiz_Power   \n",
      "11                https://en.wikipedia.org/wiki/Allen   \n",
      "12                 https://en.wikipedia.org/wiki/Snam   \n",
      "\n",
      "                    wiki_name  \\\n",
      "0                         NaN   \n",
      "1                               \n",
      "2                        AT&T   \n",
      "3             11880 Solutions   \n",
      "4         WESCO International   \n",
      "5            Lovisa Jewellery   \n",
      "6                   বুদাপেস্ট   \n",
      "7     Volcan (mining company)   \n",
      "8                      Kapsch   \n",
      "9   Lamar Advertising Company   \n",
      "10              Aboitiz Power   \n",
      "11                      Allen   \n",
      "12                       Snam   \n",
      "\n",
      "                                             info_box  \n",
      "0                                                 NaN  \n",
      "1                                                 N/A  \n",
      "2   [Formerly : Southwestern Bell Corporation (198...  \n",
      "3                                                  []  \n",
      "4   [Formerly : Westinghouse Electrical Supply Com...  \n",
      "5   [Founded : April 2010[1], Headquarters : Sydne...  \n",
      "6   [দেশ : হাঙ্গেরি, হাঙ্গেরির কাউন্টি : পেস্ট,  •...  \n",
      "7   [Traded as : BVL: VOLCAAC1\\nBMAD: XVOLB, Indus...  \n",
      "8   [Industry : IT, Founded : 1892, Headquarters :...  \n",
      "9                                                 N/A  \n",
      "10  [Type : Public, Traded as : PSE: AP, Founded :...  \n",
      "11                                                N/A  \n",
      "12  [Type : Società per Azioni, Traded as : BIT: S...  \n"
     ]
    },
    {
     "name": "stderr",
     "output_type": "stream",
     "text": [
      "C:\\Users\\User\\AppData\\Local\\Temp\\ipykernel_8948\\51535925.py:50: FutureWarning: The frame.append method is deprecated and will be removed from pandas in a future version. Use pandas.concat instead.\n",
      "  gc = gc.append(Dic, ignore_index=True)\n"
     ]
    },
    {
     "name": "stdout",
     "output_type": "stream",
     "text": [
      "                      Company_name  \\\n",
      "0                              NaN   \n",
      "1                              NaN   \n",
      "2                             AT&T   \n",
      "3                11 88 0 SOLUTIONS   \n",
      "4                      WESCO INTL.   \n",
      "5                  LOVISA HOLDINGS   \n",
      "6            URBAN EDGE PROPERTIES   \n",
      "7   VOLCAN COMPANIA MINERA A PREF.   \n",
      "8                KAPSCH TRAFFICCOM   \n",
      "9            LAMAR ADVERTISING 'A'   \n",
      "10                   ABOITIZ POWER   \n",
      "11                          ALLANE   \n",
      "12                            SNAM   \n",
      "13                     TAKASHIMAYA   \n",
      "\n",
      "                                       Wikipedia_link  \\\n",
      "0                                                 NaN   \n",
      "1                                                 NaN   \n",
      "2                https://en.wikipedia.org/wiki/AT%26T   \n",
      "3       https://de.wikipedia.org/wiki/11880_Solutions   \n",
      "4   https://en.wikipedia.org/wiki/WESCO_International   \n",
      "5      https://en.wikipedia.org/wiki/Lovisa_Jewellery   \n",
      "6   https://bn.wikipedia.org/wiki/%E0%A6%AC%E0%A7%...   \n",
      "7   https://en.wikipedia.org/wiki/Volcan_(mining_c...   \n",
      "8                https://en.wikipedia.org/wiki/Kapsch   \n",
      "9   https://en.wikipedia.org/wiki/Lamar_Advertisin...   \n",
      "10        https://en.wikipedia.org/wiki/Aboitiz_Power   \n",
      "11                https://en.wikipedia.org/wiki/Allen   \n",
      "12                 https://en.wikipedia.org/wiki/Snam   \n",
      "13          https://en.wikipedia.org/wiki/Takashimaya   \n",
      "\n",
      "                    wiki_name  \\\n",
      "0                         NaN   \n",
      "1                               \n",
      "2                        AT&T   \n",
      "3             11880 Solutions   \n",
      "4         WESCO International   \n",
      "5            Lovisa Jewellery   \n",
      "6                   বুদাপেস্ট   \n",
      "7     Volcan (mining company)   \n",
      "8                      Kapsch   \n",
      "9   Lamar Advertising Company   \n",
      "10              Aboitiz Power   \n",
      "11                      Allen   \n",
      "12                       Snam   \n",
      "13                Takashimaya   \n",
      "\n",
      "                                             info_box  \n",
      "0                                                 NaN  \n",
      "1                                                 N/A  \n",
      "2   [Formerly : Southwestern Bell Corporation (198...  \n",
      "3                                                  []  \n",
      "4   [Formerly : Westinghouse Electrical Supply Com...  \n",
      "5   [Founded : April 2010[1], Headquarters : Sydne...  \n",
      "6   [দেশ : হাঙ্গেরি, হাঙ্গেরির কাউন্টি : পেস্ট,  •...  \n",
      "7   [Traded as : BVL: VOLCAAC1\\nBMAD: XVOLB, Indus...  \n",
      "8   [Industry : IT, Founded : 1892, Headquarters :...  \n",
      "9                                                 N/A  \n",
      "10  [Type : Public, Traded as : PSE: AP, Founded :...  \n",
      "11                                                N/A  \n",
      "12  [Type : Società per Azioni, Traded as : BIT: S...  \n",
      "13  [Native name : 株式会社髙島屋, Romanized name : Kabus...  \n"
     ]
    },
    {
     "name": "stderr",
     "output_type": "stream",
     "text": [
      "C:\\Users\\User\\AppData\\Local\\Temp\\ipykernel_8948\\51535925.py:50: FutureWarning: The frame.append method is deprecated and will be removed from pandas in a future version. Use pandas.concat instead.\n",
      "  gc = gc.append(Dic, ignore_index=True)\n"
     ]
    },
    {
     "name": "stdout",
     "output_type": "stream",
     "text": [
      "                      Company_name  \\\n",
      "0                              NaN   \n",
      "1                              NaN   \n",
      "2                             AT&T   \n",
      "3                11 88 0 SOLUTIONS   \n",
      "4                      WESCO INTL.   \n",
      "5                  LOVISA HOLDINGS   \n",
      "6            URBAN EDGE PROPERTIES   \n",
      "7   VOLCAN COMPANIA MINERA A PREF.   \n",
      "8                KAPSCH TRAFFICCOM   \n",
      "9            LAMAR ADVERTISING 'A'   \n",
      "10                   ABOITIZ POWER   \n",
      "11                          ALLANE   \n",
      "12                            SNAM   \n",
      "13                     TAKASHIMAYA   \n",
      "14                 THOR INDUSTRIES   \n",
      "\n",
      "                                       Wikipedia_link  \\\n",
      "0                                                 NaN   \n",
      "1                                                 NaN   \n",
      "2                https://en.wikipedia.org/wiki/AT%26T   \n",
      "3       https://de.wikipedia.org/wiki/11880_Solutions   \n",
      "4   https://en.wikipedia.org/wiki/WESCO_International   \n",
      "5      https://en.wikipedia.org/wiki/Lovisa_Jewellery   \n",
      "6   https://bn.wikipedia.org/wiki/%E0%A6%AC%E0%A7%...   \n",
      "7   https://en.wikipedia.org/wiki/Volcan_(mining_c...   \n",
      "8                https://en.wikipedia.org/wiki/Kapsch   \n",
      "9   https://en.wikipedia.org/wiki/Lamar_Advertisin...   \n",
      "10        https://en.wikipedia.org/wiki/Aboitiz_Power   \n",
      "11                https://en.wikipedia.org/wiki/Allen   \n",
      "12                 https://en.wikipedia.org/wiki/Snam   \n",
      "13          https://en.wikipedia.org/wiki/Takashimaya   \n",
      "14      https://en.wikipedia.org/wiki/Thor_Industries   \n",
      "\n",
      "                    wiki_name  \\\n",
      "0                         NaN   \n",
      "1                               \n",
      "2                        AT&T   \n",
      "3             11880 Solutions   \n",
      "4         WESCO International   \n",
      "5            Lovisa Jewellery   \n",
      "6                   বুদাপেস্ট   \n",
      "7     Volcan (mining company)   \n",
      "8                      Kapsch   \n",
      "9   Lamar Advertising Company   \n",
      "10              Aboitiz Power   \n",
      "11                      Allen   \n",
      "12                       Snam   \n",
      "13                Takashimaya   \n",
      "14            Thor Industries   \n",
      "\n",
      "                                             info_box  \n",
      "0                                                 NaN  \n",
      "1                                                 N/A  \n",
      "2   [Formerly : Southwestern Bell Corporation (198...  \n",
      "3                                                  []  \n",
      "4   [Formerly : Westinghouse Electrical Supply Com...  \n",
      "5   [Founded : April 2010[1], Headquarters : Sydne...  \n",
      "6   [দেশ : হাঙ্গেরি, হাঙ্গেরির কাউন্টি : পেস্ট,  •...  \n",
      "7   [Traded as : BVL: VOLCAAC1\\nBMAD: XVOLB, Indus...  \n",
      "8   [Industry : IT, Founded : 1892, Headquarters :...  \n",
      "9                                                 N/A  \n",
      "10  [Type : Public, Traded as : PSE: AP, Founded :...  \n",
      "11                                                N/A  \n",
      "12  [Type : Società per Azioni, Traded as : BIT: S...  \n",
      "13  [Native name : 株式会社髙島屋, Romanized name : Kabus...  \n",
      "14  [Type : Public, Traded as : NYSE: THO\\nS&P 400...  \n"
     ]
    },
    {
     "name": "stderr",
     "output_type": "stream",
     "text": [
      "C:\\Users\\User\\AppData\\Local\\Temp\\ipykernel_8948\\51535925.py:50: FutureWarning: The frame.append method is deprecated and will be removed from pandas in a future version. Use pandas.concat instead.\n",
      "  gc = gc.append(Dic, ignore_index=True)\n"
     ]
    },
    {
     "name": "stdout",
     "output_type": "stream",
     "text": [
      "                      Company_name  \\\n",
      "0                              NaN   \n",
      "1                              NaN   \n",
      "2                             AT&T   \n",
      "3                11 88 0 SOLUTIONS   \n",
      "4                      WESCO INTL.   \n",
      "5                  LOVISA HOLDINGS   \n",
      "6            URBAN EDGE PROPERTIES   \n",
      "7   VOLCAN COMPANIA MINERA A PREF.   \n",
      "8                KAPSCH TRAFFICCOM   \n",
      "9            LAMAR ADVERTISING 'A'   \n",
      "10                   ABOITIZ POWER   \n",
      "11                          ALLANE   \n",
      "12                            SNAM   \n",
      "13                     TAKASHIMAYA   \n",
      "14                 THOR INDUSTRIES   \n",
      "15           RAYTHEON TECHNOLOGIES   \n",
      "\n",
      "                                       Wikipedia_link  \\\n",
      "0                                                 NaN   \n",
      "1                                                 NaN   \n",
      "2                https://en.wikipedia.org/wiki/AT%26T   \n",
      "3       https://de.wikipedia.org/wiki/11880_Solutions   \n",
      "4   https://en.wikipedia.org/wiki/WESCO_International   \n",
      "5      https://en.wikipedia.org/wiki/Lovisa_Jewellery   \n",
      "6   https://bn.wikipedia.org/wiki/%E0%A6%AC%E0%A7%...   \n",
      "7   https://en.wikipedia.org/wiki/Volcan_(mining_c...   \n",
      "8                https://en.wikipedia.org/wiki/Kapsch   \n",
      "9   https://en.wikipedia.org/wiki/Lamar_Advertisin...   \n",
      "10        https://en.wikipedia.org/wiki/Aboitiz_Power   \n",
      "11                https://en.wikipedia.org/wiki/Allen   \n",
      "12                 https://en.wikipedia.org/wiki/Snam   \n",
      "13          https://en.wikipedia.org/wiki/Takashimaya   \n",
      "14      https://en.wikipedia.org/wiki/Thor_Industries   \n",
      "15  https://en.wikipedia.org/wiki/Raytheon_Technol...   \n",
      "\n",
      "                    wiki_name  \\\n",
      "0                         NaN   \n",
      "1                               \n",
      "2                        AT&T   \n",
      "3             11880 Solutions   \n",
      "4         WESCO International   \n",
      "5            Lovisa Jewellery   \n",
      "6                   বুদাপেস্ট   \n",
      "7     Volcan (mining company)   \n",
      "8                      Kapsch   \n",
      "9   Lamar Advertising Company   \n",
      "10              Aboitiz Power   \n",
      "11                      Allen   \n",
      "12                       Snam   \n",
      "13                Takashimaya   \n",
      "14            Thor Industries   \n",
      "15      Raytheon Technologies   \n",
      "\n",
      "                                             info_box  \n",
      "0                                                 NaN  \n",
      "1                                                 N/A  \n",
      "2   [Formerly : Southwestern Bell Corporation (198...  \n",
      "3                                                  []  \n",
      "4   [Formerly : Westinghouse Electrical Supply Com...  \n",
      "5   [Founded : April 2010[1], Headquarters : Sydne...  \n",
      "6   [দেশ : হাঙ্গেরি, হাঙ্গেরির কাউন্টি : পেস্ট,  •...  \n",
      "7   [Traded as : BVL: VOLCAAC1\\nBMAD: XVOLB, Indus...  \n",
      "8   [Industry : IT, Founded : 1892, Headquarters :...  \n",
      "9                                                 N/A  \n",
      "10  [Type : Public, Traded as : PSE: AP, Founded :...  \n",
      "11                                                N/A  \n",
      "12  [Type : Società per Azioni, Traded as : BIT: S...  \n",
      "13  [Native name : 株式会社髙島屋, Romanized name : Kabus...  \n",
      "14  [Type : Public, Traded as : NYSE: THO\\nS&P 400...  \n",
      "15  [Type : Public, Traded as : NYSE: RTX\\nS&P 100...  \n",
      "                      Company_name  \\\n",
      "0                              NaN   \n",
      "1                              NaN   \n",
      "2                             AT&T   \n",
      "3                11 88 0 SOLUTIONS   \n",
      "4                      WESCO INTL.   \n",
      "5                  LOVISA HOLDINGS   \n",
      "6            URBAN EDGE PROPERTIES   \n",
      "7   VOLCAN COMPANIA MINERA A PREF.   \n",
      "8                KAPSCH TRAFFICCOM   \n",
      "9            LAMAR ADVERTISING 'A'   \n",
      "10                   ABOITIZ POWER   \n",
      "11                          ALLANE   \n",
      "12                            SNAM   \n",
      "13                     TAKASHIMAYA   \n",
      "14                 THOR INDUSTRIES   \n",
      "15           RAYTHEON TECHNOLOGIES   \n",
      "16                      SOHO CHINA   \n",
      "\n",
      "                                       Wikipedia_link  \\\n",
      "0                                                 NaN   \n",
      "1                                                 NaN   \n",
      "2                https://en.wikipedia.org/wiki/AT%26T   \n",
      "3       https://de.wikipedia.org/wiki/11880_Solutions   \n",
      "4   https://en.wikipedia.org/wiki/WESCO_International   \n",
      "5      https://en.wikipedia.org/wiki/Lovisa_Jewellery   \n",
      "6   https://bn.wikipedia.org/wiki/%E0%A6%AC%E0%A7%...   \n",
      "7   https://en.wikipedia.org/wiki/Volcan_(mining_c...   \n",
      "8                https://en.wikipedia.org/wiki/Kapsch   \n",
      "9   https://en.wikipedia.org/wiki/Lamar_Advertisin...   \n",
      "10        https://en.wikipedia.org/wiki/Aboitiz_Power   \n",
      "11                https://en.wikipedia.org/wiki/Allen   \n",
      "12                 https://en.wikipedia.org/wiki/Snam   \n",
      "13          https://en.wikipedia.org/wiki/Takashimaya   \n",
      "14      https://en.wikipedia.org/wiki/Thor_Industries   \n",
      "15  https://en.wikipedia.org/wiki/Raytheon_Technol...   \n",
      "16           https://en.wikipedia.org/wiki/SOHO_China   \n",
      "\n",
      "                    wiki_name  \\\n",
      "0                         NaN   \n",
      "1                               \n",
      "2                        AT&T   \n",
      "3             11880 Solutions   \n",
      "4         WESCO International   \n",
      "5            Lovisa Jewellery   \n",
      "6                   বুদাপেস্ট   \n",
      "7     Volcan (mining company)   \n",
      "8                      Kapsch   \n",
      "9   Lamar Advertising Company   \n",
      "10              Aboitiz Power   \n",
      "11                      Allen   \n",
      "12                       Snam   \n",
      "13                Takashimaya   \n",
      "14            Thor Industries   \n",
      "15      Raytheon Technologies   \n",
      "16                 SOHO China   \n",
      "\n",
      "                                             info_box  \n",
      "0                                                 NaN  \n",
      "1                                                 N/A  \n",
      "2   [Formerly : Southwestern Bell Corporation (198...  \n",
      "3                                                  []  \n",
      "4   [Formerly : Westinghouse Electrical Supply Com...  \n",
      "5   [Founded : April 2010[1], Headquarters : Sydne...  \n",
      "6   [দেশ : হাঙ্গেরি, হাঙ্গেরির কাউন্টি : পেস্ট,  •...  \n",
      "7   [Traded as : BVL: VOLCAAC1\\nBMAD: XVOLB, Indus...  \n",
      "8   [Industry : IT, Founded : 1892, Headquarters :...  \n",
      "9                                                 N/A  \n",
      "10  [Type : Public, Traded as : PSE: AP, Founded :...  \n",
      "11                                                N/A  \n",
      "12  [Type : Società per Azioni, Traded as : BIT: S...  \n",
      "13  [Native name : 株式会社髙島屋, Romanized name : Kabus...  \n",
      "14  [Type : Public, Traded as : NYSE: THO\\nS&P 400...  \n",
      "15  [Type : Public, Traded as : NYSE: RTX\\nS&P 100...  \n",
      "16  [Type : Public, Traded as : SEHK: 410, ISIN : ...  \n"
     ]
    },
    {
     "name": "stderr",
     "output_type": "stream",
     "text": [
      "C:\\Users\\User\\AppData\\Local\\Temp\\ipykernel_8948\\51535925.py:50: FutureWarning: The frame.append method is deprecated and will be removed from pandas in a future version. Use pandas.concat instead.\n",
      "  gc = gc.append(Dic, ignore_index=True)\n"
     ]
    }
   ],
   "source": [
    "for z in range(0,len(wiki_link)):\n",
    "    name=\"\"\n",
    "    try:\n",
    "        driver.get(wiki_link[z])\n",
    "    except:\n",
    "        Dic={'Company_name':company[z],'Wikipedia_link':wiki_link[z],\"wiki_name\":name,\"info_box\":\"N/A\"}\n",
    "        gc = gc.append(Dic, ignore_index=True)\n",
    "        continue\n",
    "#     time.sleep(1)\n",
    "    name=driver.find_element(By.CSS_SELECTOR,\"#firstHeading\").text\n",
    "    try:\n",
    "        tabl=driver.find_elements(By.TAG_NAME,\"table\")\n",
    "        table=tabl[0]\n",
    "        if table.get_attribute(\"class\")==\"box-More_citations_needed plainlinks metadata ambox ambox-content ambox-Refimprove\":\n",
    "            table=tabl[1]\n",
    "        tr=table.find_elements(By.TAG_NAME,\"tr\")\n",
    "        if len(tr)<7:\n",
    "            Dic={'Company_name':company[z],'Wikipedia_link':wiki_link[z],\"wiki_name\":name,\"info_box\":\"N/A\"}\n",
    "            gc = gc.append(Dic, ignore_index=True)\n",
    "            continue\n",
    "        if table.get_attribute(\"class\")==\"wikitable\":\n",
    "            Dic={'Company_name':company[z],'Wikipedia_link':wiki_link[z],\"wiki_name\":name,\"info_box\":\"N/A\"}\n",
    "            gc = gc.append(Dic, ignore_index=True)\n",
    "            continue\n",
    "#         except:\n",
    "#             table=driver.find_element_by_css_selector(\"#mw-content-text > div.mw-parser-output > table > tbody\")\n",
    "#             tr=table.find_elements_by_tag_name(\"tr\")\n",
    "            \n",
    "    except:\n",
    "        Dic={'Company_name':company[z],'Wikipedia_link':wiki_link[z],\"wiki_name\":name,\"info_box\":\"N/A\"}\n",
    "        gc = gc.append(Dic, ignore_index=True)\n",
    "        continue\n",
    "        \n",
    "        \n",
    "    \n",
    "\n",
    "    lst=[]\n",
    "    for i in range(1,len(tr)):\n",
    "        try:\n",
    "            hd=tr[i].find_element(By.TAG_NAME,\"th\").text\n",
    "            td=tr[i].find_element(By.TAG_NAME,\"td\").text\n",
    "\n",
    "            row= hd+\" : \"+td\n",
    "\n",
    "            lst.append(row)\n",
    "    #         print(row)\n",
    "        except:\n",
    "            continue\n",
    "    Dic={'Company_name':company[z],'Wikipedia_link':wiki_link[z],\"wiki_name\":name,\"info_box\":lst}\n",
    "    gc = gc.append(Dic, ignore_index=True)\n",
    "#     time.sleep(1)\n",
    "\n",
    "    print(gc)"
   ]
  },
  {
   "cell_type": "code",
   "execution_count": 40,
   "id": "017e3b4a",
   "metadata": {},
   "outputs": [],
   "source": [
    "gc.to_excel(\"C:/Users/User/PycharmProjects/pythonProject7/wiki_trail/wiki_info.xlsx\")"
   ]
  },
  {
   "cell_type": "code",
   "execution_count": null,
   "id": "f8a6ed04",
   "metadata": {},
   "outputs": [],
   "source": []
  }
 ],
 "metadata": {
  "kernelspec": {
   "display_name": "Python 3 (ipykernel)",
   "language": "python",
   "name": "python3"
  },
  "language_info": {
   "codemirror_mode": {
    "name": "ipython",
    "version": 3
   },
   "file_extension": ".py",
   "mimetype": "text/x-python",
   "name": "python",
   "nbconvert_exporter": "python",
   "pygments_lexer": "ipython3",
   "version": "3.10.6"
  }
 },
 "nbformat": 4,
 "nbformat_minor": 5
}
