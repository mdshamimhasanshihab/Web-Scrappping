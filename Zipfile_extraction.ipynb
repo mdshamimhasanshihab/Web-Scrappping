{
 "cells": [
  {
   "cell_type": "code",
   "execution_count": 2,
   "metadata": {},
   "outputs": [
    {
     "name": "stdout",
     "output_type": "stream",
     "text": [
      "Collecting zipfile36Note: you may need to restart the kernel to use updated packages.\n",
      "\n",
      "  Downloading zipfile36-0.1.3-py3-none-any.whl (20 kB)\n",
      "Installing collected packages: zipfile36\n",
      "Successfully installed zipfile36-0.1.3\n"
     ]
    },
    {
     "name": "stderr",
     "output_type": "stream",
     "text": [
      "WARNING: You are using pip version 20.2.3; however, version 22.2.1 is available.\n",
      "You should consider upgrading via the 'c:\\users\\user\\appdata\\local\\programs\\python\\python39\\python.exe -m pip install --upgrade pip' command.\n"
     ]
    }
   ],
   "source": [
    "pip install zipfile36"
   ]
  },
  {
   "cell_type": "code",
   "execution_count": 4,
   "metadata": {},
   "outputs": [],
   "source": [
    "import zipfile\n",
    "from os import walk"
   ]
  },
  {
   "cell_type": "code",
   "execution_count": 48,
   "metadata": {},
   "outputs": [],
   "source": [
    "filenames = next(walk('C:/Users/User/PycharmProjects/pythonProject7/FF/'), (None, None, []))[2]"
   ]
  },
  {
   "cell_type": "code",
   "execution_count": 49,
   "metadata": {},
   "outputs": [
    {
     "name": "stdout",
     "output_type": "stream",
     "text": [
      "['CN 2003 - PRODCOM 2003.txt', 'CNPRC00.XLS', 'CNPRC01.XLS', 'Cnprc02.xls', 'CNPRC93.XLS', 'CNPRC94.XLS', 'CNPRC95.XLS', 'CNPRC99.XLS', 'CN_1998_PRODCOM_1998.XLS', 'Combined_Nomenclature_1996_PRODCOM_1996.XLS', 'Combined_Nomenclature_1997_PRODCOM_1997.XLS', 'PRCCN00.XLS', 'PRCCN01.XLS', 'Prccn02.xls', 'PRCCN93.XLS', 'PRCCN94.XLS', 'PRCCN95.XLS', 'PRCCN99.XLS', 'PRD_1999-PRD_1998.pdf', 'prd_2000_prd_1999.pdf', 'prd_2001_prd_2000.pdf', 'PRD_94_PRD_93.pdf', 'PRD_95-PRD_94.pdf', 'prodcom 2001 - prodcom 2002 - final.doc', 'prodcom 2002 - prodcom 2001 - final.doc', 'PRODCOM 2003 - CN 2003.txt', 'PRODCOM_1996_Combined_Nomenclature_1996.XLS', 'PRODCOM_1996_PRODCOM_1995.pdf', 'PRODCOM_1997_Combined_Nomenclature_1997.XLS', 'prodcom_1997_prodcom_1996.pdf', 'PRODCOM_1998_CN_1998.XLS', 'prodcom_1998_prodcom_1997.pdf', 'prodcom_2002_prodcom_2003.pdf', 'prodcom_2003_prodcom_2002.pdf', 'Zipfile_extraction.ipynb']\n"
     ]
    }
   ],
   "source": [
    "print(filenames)"
   ]
  },
  {
   "cell_type": "code",
   "execution_count": 18,
   "metadata": {},
   "outputs": [
    {
     "ename": "FileNotFoundError",
     "evalue": "[Errno 2] No such file or directory: 'cnbec8806.zip\\\\cnbec8806.xls'",
     "output_type": "error",
     "traceback": [
      "\u001b[1;31m---------------------------------------------------------------------------\u001b[0m",
      "\u001b[1;31mFileNotFoundError\u001b[0m                         Traceback (most recent call last)",
      "\u001b[1;32m<ipython-input-18-3e6fb6dcedef>\u001b[0m in \u001b[0;36m<module>\u001b[1;34m\u001b[0m\n\u001b[0;32m      1\u001b[0m \u001b[1;32mfor\u001b[0m \u001b[0mx\u001b[0m \u001b[1;32min\u001b[0m \u001b[0mfilenames\u001b[0m\u001b[1;33m:\u001b[0m\u001b[1;33m\u001b[0m\u001b[1;33m\u001b[0m\u001b[0m\n\u001b[0;32m      2\u001b[0m     \u001b[0mhandle\u001b[0m\u001b[1;33m=\u001b[0m\u001b[0mzipfile\u001b[0m\u001b[1;33m.\u001b[0m\u001b[0mZipFile\u001b[0m\u001b[1;33m(\u001b[0m\u001b[0mx\u001b[0m\u001b[1;33m)\u001b[0m\u001b[1;33m\u001b[0m\u001b[1;33m\u001b[0m\u001b[0m\n\u001b[1;32m----> 3\u001b[1;33m     \u001b[0mhandle\u001b[0m\u001b[1;33m.\u001b[0m\u001b[0mextractall\u001b[0m\u001b[1;33m(\u001b[0m\u001b[0mx\u001b[0m\u001b[1;33m[\u001b[0m\u001b[1;36m0\u001b[0m\u001b[1;33m:\u001b[0m\u001b[1;36m92\u001b[0m\u001b[1;33m]\u001b[0m\u001b[1;33m)\u001b[0m\u001b[1;33m\u001b[0m\u001b[1;33m\u001b[0m\u001b[0m\n\u001b[0m",
      "\u001b[1;32mc:\\users\\user\\appdata\\local\\programs\\python\\python39\\lib\\zipfile.py\u001b[0m in \u001b[0;36mextractall\u001b[1;34m(self, path, members, pwd)\u001b[0m\n\u001b[0;32m   1631\u001b[0m \u001b[1;33m\u001b[0m\u001b[0m\n\u001b[0;32m   1632\u001b[0m         \u001b[1;32mfor\u001b[0m \u001b[0mzipinfo\u001b[0m \u001b[1;32min\u001b[0m \u001b[0mmembers\u001b[0m\u001b[1;33m:\u001b[0m\u001b[1;33m\u001b[0m\u001b[1;33m\u001b[0m\u001b[0m\n\u001b[1;32m-> 1633\u001b[1;33m             \u001b[0mself\u001b[0m\u001b[1;33m.\u001b[0m\u001b[0m_extract_member\u001b[0m\u001b[1;33m(\u001b[0m\u001b[0mzipinfo\u001b[0m\u001b[1;33m,\u001b[0m \u001b[0mpath\u001b[0m\u001b[1;33m,\u001b[0m \u001b[0mpwd\u001b[0m\u001b[1;33m)\u001b[0m\u001b[1;33m\u001b[0m\u001b[1;33m\u001b[0m\u001b[0m\n\u001b[0m\u001b[0;32m   1634\u001b[0m \u001b[1;33m\u001b[0m\u001b[0m\n\u001b[0;32m   1635\u001b[0m     \u001b[1;33m@\u001b[0m\u001b[0mclassmethod\u001b[0m\u001b[1;33m\u001b[0m\u001b[1;33m\u001b[0m\u001b[0m\n",
      "\u001b[1;32mc:\\users\\user\\appdata\\local\\programs\\python\\python39\\lib\\zipfile.py\u001b[0m in \u001b[0;36m_extract_member\u001b[1;34m(self, member, targetpath, pwd)\u001b[0m\n\u001b[0;32m   1685\u001b[0m \u001b[1;33m\u001b[0m\u001b[0m\n\u001b[0;32m   1686\u001b[0m         \u001b[1;32mwith\u001b[0m \u001b[0mself\u001b[0m\u001b[1;33m.\u001b[0m\u001b[0mopen\u001b[0m\u001b[1;33m(\u001b[0m\u001b[0mmember\u001b[0m\u001b[1;33m,\u001b[0m \u001b[0mpwd\u001b[0m\u001b[1;33m=\u001b[0m\u001b[0mpwd\u001b[0m\u001b[1;33m)\u001b[0m \u001b[1;32mas\u001b[0m \u001b[0msource\u001b[0m\u001b[1;33m,\u001b[0m\u001b[0;31m \u001b[0m\u001b[0;31m\\\u001b[0m\u001b[1;33m\u001b[0m\u001b[1;33m\u001b[0m\u001b[0m\n\u001b[1;32m-> 1687\u001b[1;33m              \u001b[0mopen\u001b[0m\u001b[1;33m(\u001b[0m\u001b[0mtargetpath\u001b[0m\u001b[1;33m,\u001b[0m \u001b[1;34m\"wb\"\u001b[0m\u001b[1;33m)\u001b[0m \u001b[1;32mas\u001b[0m \u001b[0mtarget\u001b[0m\u001b[1;33m:\u001b[0m\u001b[1;33m\u001b[0m\u001b[1;33m\u001b[0m\u001b[0m\n\u001b[0m\u001b[0;32m   1688\u001b[0m             \u001b[0mshutil\u001b[0m\u001b[1;33m.\u001b[0m\u001b[0mcopyfileobj\u001b[0m\u001b[1;33m(\u001b[0m\u001b[0msource\u001b[0m\u001b[1;33m,\u001b[0m \u001b[0mtarget\u001b[0m\u001b[1;33m)\u001b[0m\u001b[1;33m\u001b[0m\u001b[1;33m\u001b[0m\u001b[0m\n\u001b[0;32m   1689\u001b[0m \u001b[1;33m\u001b[0m\u001b[0m\n",
      "\u001b[1;31mFileNotFoundError\u001b[0m: [Errno 2] No such file or directory: 'cnbec8806.zip\\\\cnbec8806.xls'"
     ]
    }
   ],
   "source": [
    "for x in filenames:\n",
    "    handle=zipfile.ZipFile(x)\n",
    "    handle.extractall(x[0:92])"
   ]
  },
  {
   "cell_type": "code",
   "execution_count": 13,
   "metadata": {},
   "outputs": [],
   "source": [
    "from zipfile import ZipFile"
   ]
  },
  {
   "cell_type": "code",
   "execution_count": 47,
   "metadata": {},
   "outputs": [
    {
     "name": "stdout",
     "output_type": "stream",
     "text": [
      "[]\n",
      "[]\n",
      "[]\n",
      "[]\n",
      "[]\n",
      "[]\n",
      "[]\n",
      "[]\n",
      "[]\n",
      "[]\n",
      "[]\n"
     ]
    }
   ],
   "source": [
    "for y in filenames:\n",
    "    z=ZipFile(y)\n",
    "    print(list(filter(lambda x:x.endswith('.xlsx'),z.namelist())))\n",
    "    z.extractall()"
   ]
  },
  {
   "cell_type": "code",
   "execution_count": 24,
   "metadata": {},
   "outputs": [],
   "source": [
    "import pandas as pd\n",
    "    "
   ]
  },
  {
   "cell_type": "code",
   "execution_count": 50,
   "metadata": {
    "scrolled": true
   },
   "outputs": [
    {
     "name": "stdout",
     "output_type": "stream",
     "text": [
      "C:/Users/User/PycharmProjects/pythonProject7/FF/CN 2003 - PRODCOM 2003.txt\n",
      "10109\n",
      "10302\n",
      "10343\n",
      "*** No CODEPAGE record, no encoding_override: will use 'iso-8859-1'\n",
      "*** No CODEPAGE record, no encoding_override: will use 'iso-8859-1'\n",
      "*** No CODEPAGE record, no encoding_override: will use 'iso-8859-1'\n",
      "*** No CODEPAGE record, no encoding_override: will use 'iso-8859-1'\n",
      "8995\n",
      "*** No CODEPAGE record, no encoding_override: will use 'iso-8859-1'\n",
      "*** No CODEPAGE record, no encoding_override: will use 'iso-8859-1'\n",
      "*** No CODEPAGE record, no encoding_override: will use 'iso-8859-1'\n",
      "*** No CODEPAGE record, no encoding_override: will use 'iso-8859-1'\n",
      "9155\n",
      "*** No CODEPAGE record, no encoding_override: will use 'iso-8859-1'\n",
      "*** No CODEPAGE record, no encoding_override: will use 'iso-8859-1'\n",
      "*** No CODEPAGE record, no encoding_override: will use 'iso-8859-1'\n",
      "*** No CODEPAGE record, no encoding_override: will use 'iso-8859-1'\n",
      "9386\n",
      "10177\n",
      "*** No CODEPAGE record, no encoding_override: will use 'iso-8859-1'\n",
      "*** No CODEPAGE record, no encoding_override: will use 'iso-8859-1'\n",
      "*** No CODEPAGE record, no encoding_override: will use 'iso-8859-1'\n",
      "*** No CODEPAGE record, no encoding_override: will use 'iso-8859-1'\n",
      "9568\n",
      "*** No CODEPAGE record, no encoding_override: will use 'iso-8859-1'\n",
      "*** No CODEPAGE record, no encoding_override: will use 'iso-8859-1'\n",
      "*** No CODEPAGE record, no encoding_override: will use 'iso-8859-1'\n",
      "*** No CODEPAGE record, no encoding_override: will use 'iso-8859-1'\n",
      "9417\n",
      "9534\n",
      "10109\n",
      "10302\n",
      "10343\n",
      "*** No CODEPAGE record, no encoding_override: will use 'iso-8859-1'\n",
      "*** No CODEPAGE record, no encoding_override: will use 'iso-8859-1'\n",
      "*** No CODEPAGE record, no encoding_override: will use 'iso-8859-1'\n",
      "*** No CODEPAGE record, no encoding_override: will use 'iso-8859-1'\n",
      "8995\n",
      "*** No CODEPAGE record, no encoding_override: will use 'iso-8859-1'\n",
      "*** No CODEPAGE record, no encoding_override: will use 'iso-8859-1'\n",
      "*** No CODEPAGE record, no encoding_override: will use 'iso-8859-1'\n",
      "*** No CODEPAGE record, no encoding_override: will use 'iso-8859-1'\n",
      "9155\n",
      "*** No CODEPAGE record, no encoding_override: will use 'iso-8859-1'\n",
      "*** No CODEPAGE record, no encoding_override: will use 'iso-8859-1'\n",
      "*** No CODEPAGE record, no encoding_override: will use 'iso-8859-1'\n",
      "*** No CODEPAGE record, no encoding_override: will use 'iso-8859-1'\n",
      "9386\n",
      "10177\n",
      "C:/Users/User/PycharmProjects/pythonProject7/FF/PRD_1999-PRD_1998.pdf\n",
      "C:/Users/User/PycharmProjects/pythonProject7/FF/prd_2000_prd_1999.pdf\n",
      "C:/Users/User/PycharmProjects/pythonProject7/FF/prd_2001_prd_2000.pdf\n",
      "C:/Users/User/PycharmProjects/pythonProject7/FF/PRD_94_PRD_93.pdf\n",
      "C:/Users/User/PycharmProjects/pythonProject7/FF/PRD_95-PRD_94.pdf\n",
      "C:/Users/User/PycharmProjects/pythonProject7/FF/prodcom 2001 - prodcom 2002 - final.doc\n",
      "C:/Users/User/PycharmProjects/pythonProject7/FF/prodcom 2002 - prodcom 2001 - final.doc\n",
      "C:/Users/User/PycharmProjects/pythonProject7/FF/PRODCOM 2003 - CN 2003.txt\n",
      "*** No CODEPAGE record, no encoding_override: will use 'iso-8859-1'\n",
      "*** No CODEPAGE record, no encoding_override: will use 'iso-8859-1'\n",
      "*** No CODEPAGE record, no encoding_override: will use 'iso-8859-1'\n",
      "*** No CODEPAGE record, no encoding_override: will use 'iso-8859-1'\n",
      "9417\n",
      "C:/Users/User/PycharmProjects/pythonProject7/FF/PRODCOM_1996_PRODCOM_1995.pdf\n",
      "9534\n",
      "C:/Users/User/PycharmProjects/pythonProject7/FF/prodcom_1997_prodcom_1996.pdf\n",
      "*** No CODEPAGE record, no encoding_override: will use 'iso-8859-1'\n",
      "*** No CODEPAGE record, no encoding_override: will use 'iso-8859-1'\n",
      "*** No CODEPAGE record, no encoding_override: will use 'iso-8859-1'\n",
      "*** No CODEPAGE record, no encoding_override: will use 'iso-8859-1'\n",
      "9568\n",
      "C:/Users/User/PycharmProjects/pythonProject7/FF/prodcom_1998_prodcom_1997.pdf\n",
      "C:/Users/User/PycharmProjects/pythonProject7/FF/prodcom_2002_prodcom_2003.pdf\n",
      "C:/Users/User/PycharmProjects/pythonProject7/FF/prodcom_2003_prodcom_2002.pdf\n",
      "C:/Users/User/PycharmProjects/pythonProject7/FF/Zipfile_extraction.ipynb\n"
     ]
    }
   ],
   "source": [
    "path=\"C:/Users/User/PycharmProjects/pythonProject7/FF/\"\n",
    "tr=0\n",
    "for nam in filenames:\n",
    "    fp=os.path.join(path,nam)\n",
    "    try:\n",
    "        row=int(len(pd.read_excel(f\"{fp}\")))\n",
    "        print(row)\n",
    "        tr=tr+row\n",
    "        \n",
    "    except:\n",
    "        print(f\"{fp}\")"
   ]
  },
  {
   "cell_type": "code",
   "execution_count": 51,
   "metadata": {},
   "outputs": [
    {
     "name": "stdout",
     "output_type": "stream",
     "text": [
      "193972\n"
     ]
    }
   ],
   "source": [
    "print(tr)"
   ]
  },
  {
   "cell_type": "code",
   "execution_count": 28,
   "metadata": {},
   "outputs": [],
   "source": [
    "import os"
   ]
  },
  {
   "cell_type": "code",
   "execution_count": 29,
   "metadata": {},
   "outputs": [
    {
     "name": "stdout",
     "output_type": "stream",
     "text": [
      "['cnbec8806.xls', 'cncpa8806.xls', 'CN_1988-2022.xlsx', 'CN_BEC-REV4_2022.xlsx', 'CN_BEC-REV5_2022.xlsx', 'CN_BEC_2009.xls', 'CN_BEC_2010.xls', 'CN_BEC_2011.xls', 'CN_BEC_2012.xls', 'CN_BEC_2013.xls', 'CN_BEC_2014.xls', 'CN_BEC_2015.xls', 'CN_BEC_2016.xls', 'CN_BEC_2017.xlsx', 'CN_BEC_2018.xlsx', 'CN_BEC_2019.xlsx', 'CN_BEC_2020.xlsx', 'CN_BEC_2021.xlsx', 'cn_bec_8807.xls', 'CN_BEC_8808.xls', 'CN_CPA2002_2011.xls', 'CN_CPA2002_2012.xls', 'CN_CPA2002_2013.xls', 'CN_CPA2002_2014.xls', 'CN_CPA2002_2015.xls', 'CN_CPA2002_2016.xls', 'CN_CPA2002_2017.xlsx', 'CN_CPA2002_2018.xlsx', 'CN_CPA2002_2019.xlsx', 'CN_CPA2002_2020.xlsx', 'CN_CPA2002_2021.xlsx', 'CN_CPA2008_2010.xls', 'CN_CPA2008_2011.xls', 'CN_CPA2008_2012.xls', 'CN_CPA2008_2013.xls', 'CN_CPA2008_2014.xls', 'CN_CPA2008_2015.xls', 'CN_CPA2008_2016.xls', 'CN_CPA2008_2017.xlsx', 'CN_CPA2008_2018.xlsx', 'CN_CPA2008_2019.xlsx', 'CN_CPA2008_2020.xlsx', 'CN_CPA2008_2021.xlsx', 'CN_CPA2008_2022.xlsx', 'CN_CPA21_2019.xlsx', 'CN_CPA21_2020.xlsx', 'CN_CPA21_2021.xlsx', 'CN_CPA21_2022.xlsx', 'CN_CPA_2009.xls', 'CN_CPA_2010.xls', 'cn_cpa_8808.xls', 'CN_NSTR_2009.xls', 'CN_NSTR_2010.xls', 'CN_NSTR_2011.xls', 'CN_NSTR_2012.xls', 'CN_NSTR_2013.xls', 'CN_NSTR_2014.xls', 'CN_NSTR_2015.xls', 'CN_NSTR_2016.xls', 'CN_NSTR_2017.xlsx', 'CN_NSTR_2018.xlsx', 'CN_NSTR_2019.xlsx', 'CN_NSTR_2020.xlsx', 'CN_NSTR_2021.xlsx', 'CN_NSTR_2022.xlsx', 'cn_nstr_8807.xls', 'CN_NSTR_8808.xls', 'CN_SITC_2009.xls', 'CN_SITC_2010.xls', 'CN_SITC_2011.xls', 'CN_SITC_2012.xls', 'CN_SITC_2013.xls', 'CN_SITC_2014.xls', 'CN_SITC_2015.xls', 'CN_SITC_2016.xls', 'CN_SITC_2017.xlsx', 'CN_SITC_2018.xlsx', 'CN_SITC_2019.xlsx', 'CN_SITC_2020.xlsx', 'CN_SITC_2021.xlsx', 'CN_SITC_2022.xlsx', 'cn_sitc_8807.xls', 'CN_SITC_8808.xls', 'cpa2007.xls', 'cpa8804.xls', 'cpa8805.xls', 'CTCI5R-NC8_final.xls', 'ctci8805.xls', 'ctci_8806.xls', 'nstr8804.xls', 'nstr8805.xls', 'nstr_8806.xls', 'PRDC8803.xls', '~$CN_1988-2022.xlsx']\n"
     ]
    }
   ],
   "source": [
    "folder_to_view=\"eurostat_extract\"\n",
    "print(os.listdir(folder_to_view))"
   ]
  },
  {
   "cell_type": "code",
   "execution_count": 30,
   "metadata": {},
   "outputs": [
    {
     "name": "stdout",
     "output_type": "stream",
     "text": [
      "cnbec8806.xls\n",
      "cncpa8806.xls\n",
      "CN_1988-2022.xlsx\n",
      "CN_BEC-REV4_2022.xlsx\n",
      "CN_BEC-REV5_2022.xlsx\n",
      "CN_BEC_2009.xls\n",
      "CN_BEC_2010.xls\n",
      "CN_BEC_2011.xls\n",
      "CN_BEC_2012.xls\n",
      "CN_BEC_2013.xls\n",
      "CN_BEC_2014.xls\n",
      "CN_BEC_2015.xls\n",
      "CN_BEC_2016.xls\n",
      "CN_BEC_2017.xlsx\n",
      "CN_BEC_2018.xlsx\n",
      "CN_BEC_2019.xlsx\n",
      "CN_BEC_2020.xlsx\n",
      "CN_BEC_2021.xlsx\n",
      "cn_bec_8807.xls\n",
      "CN_BEC_8808.xls\n",
      "CN_CPA2002_2011.xls\n",
      "CN_CPA2002_2012.xls\n",
      "CN_CPA2002_2013.xls\n",
      "CN_CPA2002_2014.xls\n",
      "CN_CPA2002_2015.xls\n",
      "CN_CPA2002_2016.xls\n",
      "CN_CPA2002_2017.xlsx\n",
      "CN_CPA2002_2018.xlsx\n",
      "CN_CPA2002_2019.xlsx\n",
      "CN_CPA2002_2020.xlsx\n",
      "CN_CPA2002_2021.xlsx\n",
      "CN_CPA2008_2010.xls\n",
      "CN_CPA2008_2011.xls\n",
      "CN_CPA2008_2012.xls\n",
      "CN_CPA2008_2013.xls\n",
      "CN_CPA2008_2014.xls\n",
      "CN_CPA2008_2015.xls\n",
      "CN_CPA2008_2016.xls\n",
      "CN_CPA2008_2017.xlsx\n",
      "CN_CPA2008_2018.xlsx\n",
      "CN_CPA2008_2019.xlsx\n",
      "CN_CPA2008_2020.xlsx\n",
      "CN_CPA2008_2021.xlsx\n",
      "CN_CPA2008_2022.xlsx\n",
      "CN_CPA21_2019.xlsx\n",
      "CN_CPA21_2020.xlsx\n",
      "CN_CPA21_2021.xlsx\n",
      "CN_CPA21_2022.xlsx\n",
      "CN_CPA_2009.xls\n",
      "CN_CPA_2010.xls\n",
      "cn_cpa_8808.xls\n",
      "CN_NSTR_2009.xls\n",
      "CN_NSTR_2010.xls\n",
      "CN_NSTR_2011.xls\n",
      "CN_NSTR_2012.xls\n",
      "CN_NSTR_2013.xls\n",
      "CN_NSTR_2014.xls\n",
      "CN_NSTR_2015.xls\n",
      "CN_NSTR_2016.xls\n",
      "CN_NSTR_2017.xlsx\n",
      "CN_NSTR_2018.xlsx\n",
      "CN_NSTR_2019.xlsx\n",
      "CN_NSTR_2020.xlsx\n",
      "CN_NSTR_2021.xlsx\n",
      "CN_NSTR_2022.xlsx\n",
      "cn_nstr_8807.xls\n",
      "CN_NSTR_8808.xls\n",
      "CN_SITC_2009.xls\n",
      "CN_SITC_2010.xls\n",
      "CN_SITC_2011.xls\n",
      "CN_SITC_2012.xls\n",
      "CN_SITC_2013.xls\n",
      "CN_SITC_2014.xls\n",
      "CN_SITC_2015.xls\n",
      "CN_SITC_2016.xls\n",
      "CN_SITC_2017.xlsx\n",
      "CN_SITC_2018.xlsx\n",
      "CN_SITC_2019.xlsx\n",
      "CN_SITC_2020.xlsx\n",
      "CN_SITC_2021.xlsx\n",
      "CN_SITC_2022.xlsx\n",
      "cn_sitc_8807.xls\n",
      "CN_SITC_8808.xls\n",
      "cpa2007.xls\n",
      "cpa8804.xls\n",
      "cpa8805.xls\n",
      "CTCI5R-NC8_final.xls\n",
      "ctci8805.xls\n",
      "ctci_8806.xls\n",
      "nstr8804.xls\n",
      "nstr8805.xls\n",
      "nstr_8806.xls\n",
      "PRDC8803.xls\n",
      "~$CN_1988-2022.xlsx\n"
     ]
    }
   ],
   "source": [
    "for file in os.listdir(folder_to_view):\n",
    "    print(file)"
   ]
  },
  {
   "cell_type": "code",
   "execution_count": 31,
   "metadata": {},
   "outputs": [
    {
     "name": "stdout",
     "output_type": "stream",
     "text": [
      "C:/Users/User/PycharmProjects/pythonProject7/eurostat_extract/PRDC8803.xls\n"
     ]
    }
   ],
   "source": [
    "path=\"C:/Users/User/PycharmProjects/pythonProject7/eurostat_extract/\"\n",
    "fn=\"PRDC8803.xls\"\n",
    "fp=os.path.join(path,fn)\n",
    "print(fp)"
   ]
  },
  {
   "cell_type": "code",
   "execution_count": null,
   "metadata": {},
   "outputs": [],
   "source": []
  }
 ],
 "metadata": {
  "kernelspec": {
   "display_name": "Python 3",
   "language": "python",
   "name": "python3"
  },
  "language_info": {
   "codemirror_mode": {
    "name": "ipython",
    "version": 3
   },
   "file_extension": ".py",
   "mimetype": "text/x-python",
   "name": "python",
   "nbconvert_exporter": "python",
   "pygments_lexer": "ipython3",
   "version": "3.9.0"
  }
 },
 "nbformat": 4,
 "nbformat_minor": 4
}
