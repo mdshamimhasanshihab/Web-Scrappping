{
 "cells": [
  {
   "cell_type": "code",
   "execution_count": 1,
   "metadata": {},
   "outputs": [],
   "source": [
    "from selenium import webdriver\n",
    "import time\n",
    "from selenium.webdriver.common.keys import Keys\n",
    "from selenium.webdriver.common.by import By\n",
    "import pandas as pd\n",
    "import re"
   ]
  },
  {
   "cell_type": "code",
   "execution_count": 17,
   "metadata": {},
   "outputs": [
    {
     "name": "stderr",
     "output_type": "stream",
     "text": [
      "<ipython-input-17-de775243a53d>:1: DeprecationWarning: executable_path has been deprecated, please pass in a Service object\n",
      "  driver=webdriver.Chrome(executable_path=\"C:\\Driver\\chromedriver_win32 (3)\\chromedriver.exe\")\n"
     ]
    }
   ],
   "source": [
    "driver=webdriver.Chrome(executable_path=\"C:\\Driver\\chromedriver_win32 (3)\\chromedriver.exe\")\n",
    "driver.get(\"https://testautomationpractice.blogspot.com/\")"
   ]
  },
  {
   "cell_type": "code",
   "execution_count": 72,
   "metadata": {},
   "outputs": [],
   "source": [
    "Dic = {}\n",
    "# from selenium import webdriver\n",
    "gc= pd.DataFrame(data=Dic,index=[0],columns=['brand_link'])"
   ]
  },
  {
   "cell_type": "code",
   "execution_count": 73,
   "metadata": {},
   "outputs": [
    {
     "name": "stderr",
     "output_type": "stream",
     "text": [
      "<ipython-input-73-17b00cb60ef7>:1: DeprecationWarning: find_elements_by_css_selector is deprecated. Please use find_elements(by=By.CSS_SELECTOR, value=css_selector) instead\n",
      "  x=driver.find_elements_by_css_selector(\"#__next > div:nth-child(2) > div > div > div\")\n",
      "<ipython-input-73-17b00cb60ef7>:6: DeprecationWarning: find_elements_by_tag_name is deprecated. Please use find_elements(by=By.TAG_NAME, value=name) instead\n",
      "  test=y.find_elements_by_tag_name(\"div\")\n",
      "<ipython-input-73-17b00cb60ef7>:10: DeprecationWarning: find_element_by_tag_name is deprecated. Please use find_element(by=By.TAG_NAME, value=name) instead\n",
      "  a=test[i].find_element_by_tag_name(\"a\")\n"
     ]
    },
    {
     "name": "stdout",
     "output_type": "stream",
     "text": [
      "https://www.boom-power.co.uk/\n",
      "https://www.burton.com/gb/en/home\n",
      "https://icebug.com/\n",
      "https://www.jonessnowboards.com/\n",
      "https://www.edensustainable.co.uk/\n",
      "https://www.ellis-brigham.com/\n",
      "https://www.patagonia.com/home/\n",
      "https://www.sungod.co/\n",
      "https://surfdome.com/\n",
      "https://www.snowboard-asylum.com/\n",
      "https://www.inghams.co.uk/\n",
      "http://www.njlconsulting.co.uk/\n",
      "https://www.absolute-snow.co.uk/\n",
      "https://www.canteen-collective.com/\n",
      "https://cl-pm.com/\n",
      "https://ecoski.co.uk/\n",
      "https://entropyresins.com/\n",
      "https://gogglesoc.com/\n",
      "http://www.maisonsport.com/\n",
      "https://www.planksclothing.com/\n",
      "https://www.skisolutions.com/\n",
      "https://www.skullcandy.co.uk/\n",
      "https://www.progressionski.com/\n",
      "https://dewerstone.com/\n",
      "https://www.afterjamcollective.com/\n",
      "http://www.boardsportsource.com/\n",
      "https://www.cactus-energy.com/\n",
      "https://thecoolbus.co.uk/\n",
      "http://www.enviral.co.uk/\n",
      "https://esputnik.com/en/email-campaigns?utm_source=protectourwinters&utm_medium=email&utm_campaign=follow\n",
      "https://expeditionengineering.com/\n",
      "https://www.fishandpips.co.uk/\n",
      "https://www.friskiwear.com/apparel\n",
      "https://graystoneactionsports.co.uk/\n",
      "https://www.leotrippi.com/luxury-ski-chalets/\n",
      "https://mossy.earth/\n",
      "https://mountainmavericks.com/\n",
      "https://themountainrescue.com/\n",
      "https://www.oxfordski.com/\n",
      "https://www.skiinluxury.com/\n",
      "https://www.skiverbierexclusive.com/\n",
      "https://www.snowexpress.co.uk/\n",
      "https://solve.co.uk/\n",
      "https://wastelandski.com/\n",
      "https://www.consensiochalets.co.uk/\n",
      "https://camelsnow.com/\n",
      "https://mountaintradenetwork.com/\n",
      "https://www.xforwhy.com/\n",
      "http://www.jungleculture.eco/\n"
     ]
    }
   ],
   "source": [
    "x=driver.find_elements_by_css_selector(\"#__next > div:nth-child(2) > div > div > div\")\n",
    "for i in range(len(x)):\n",
    "    if i<4 or i>8:\n",
    "        continue\n",
    "    y=x[i]\n",
    "    test=y.find_elements_by_tag_name(\"div\")\n",
    "    for i in range(len(test)):\n",
    "        if i==0:\n",
    "            continue\n",
    "        a=test[i].find_element_by_tag_name(\"a\")\n",
    "        print(a.get_attribute(\"href\"))\n",
    "        Dic={'brand_link':a.get_attribute(\"href\")}\n",
    "        gc = gc.append(Dic, ignore_index=True)\n",
    "    "
   ]
  },
  {
   "cell_type": "code",
   "execution_count": 90,
   "metadata": {},
   "outputs": [],
   "source": [
    "Dic2 = {}\n",
    "# from selenium import webdriver\n",
    "gc2= pd.DataFrame(data=Dic2,index=[0],columns=['partner','brand_link'])"
   ]
  },
  {
   "cell_type": "code",
   "execution_count": 94,
   "metadata": {},
   "outputs": [
    {
     "name": "stderr",
     "output_type": "stream",
     "text": [
      "<ipython-input-94-1dadda9905d1>:1: DeprecationWarning: executable_path has been deprecated, please pass in a Service object\n",
      "  driver=webdriver.Chrome(executable_path=\"C:\\Driver\\chromedriver_win32 (3)\\chromedriver.exe\")\n"
     ]
    },
    {
     "name": "stdout",
     "output_type": "stream",
     "text": [
      "                                 partner                     brand_link\n",
      "0                                    NaN                            NaN\n",
      "1  Renewable Energy Experts - BOOM POWER  https://www.boom-power.co.uk/\n",
      "                                             partner  \\\n",
      "0                                                NaN   \n",
      "1              Renewable Energy Experts - BOOM POWER   \n",
      "2  Icebug - Official Webshop | Largest range of I...   \n",
      "\n",
      "                      brand_link  \n",
      "0                            NaN  \n",
      "1  https://www.boom-power.co.uk/  \n",
      "2            https://icebug.com/  \n",
      "                                             partner  \\\n",
      "0                                                NaN   \n",
      "1              Renewable Energy Experts - BOOM POWER   \n",
      "2  Icebug - Official Webshop | Largest range of I...   \n",
      "3  Jones | Snowboards, Splitboards, Outerwear & B...   \n",
      "\n",
      "                         brand_link  \n",
      "0                               NaN  \n",
      "1     https://www.boom-power.co.uk/  \n",
      "2               https://icebug.com/  \n",
      "3  https://www.jonessnowboards.com/  \n"
     ]
    },
    {
     "ename": "KeyboardInterrupt",
     "evalue": "",
     "output_type": "error",
     "traceback": [
      "\u001b[1;31m---------------------------------------------------------------------------\u001b[0m",
      "\u001b[1;31mKeyboardInterrupt\u001b[0m                         Traceback (most recent call last)",
      "\u001b[1;32m<ipython-input-94-1dadda9905d1>\u001b[0m in \u001b[0;36m<module>\u001b[1;34m\u001b[0m\n\u001b[0;32m      5\u001b[0m         \u001b[1;32mcontinue\u001b[0m\u001b[1;33m\u001b[0m\u001b[1;33m\u001b[0m\u001b[0m\n\u001b[0;32m      6\u001b[0m     \u001b[0mdriver\u001b[0m\u001b[1;33m.\u001b[0m\u001b[0mget\u001b[0m\u001b[1;33m(\u001b[0m\u001b[0mdf\u001b[0m\u001b[1;33m[\u001b[0m\u001b[0mURL\u001b[0m\u001b[1;33m]\u001b[0m\u001b[1;33m)\u001b[0m\u001b[1;33m\u001b[0m\u001b[1;33m\u001b[0m\u001b[0m\n\u001b[1;32m----> 7\u001b[1;33m     \u001b[0mtime\u001b[0m\u001b[1;33m.\u001b[0m\u001b[0msleep\u001b[0m\u001b[1;33m(\u001b[0m\u001b[1;36m5\u001b[0m\u001b[1;33m)\u001b[0m\u001b[1;33m\u001b[0m\u001b[1;33m\u001b[0m\u001b[0m\n\u001b[0m\u001b[0;32m      8\u001b[0m     \u001b[1;32mtry\u001b[0m\u001b[1;33m:\u001b[0m\u001b[1;33m\u001b[0m\u001b[1;33m\u001b[0m\u001b[0m\n\u001b[0;32m      9\u001b[0m         \u001b[0mpartner_brand\u001b[0m\u001b[1;33m=\u001b[0m\u001b[0mdriver\u001b[0m\u001b[1;33m.\u001b[0m\u001b[0mtitle\u001b[0m\u001b[1;33m\u001b[0m\u001b[1;33m\u001b[0m\u001b[0m\n",
      "\u001b[1;31mKeyboardInterrupt\u001b[0m: "
     ]
    }
   ],
   "source": [
    "driver=webdriver.Chrome(executable_path=\"C:\\Driver\\chromedriver_win32 (3)\\chromedriver.exe\")\n",
    "df=gc.brand_link\n",
    "for URL in range(len(df)):\n",
    "    if URL==0 or URL==2:\n",
    "        continue\n",
    "    driver.get(df[URL])\n",
    "    time.sleep(5)\n",
    "    try:\n",
    "        partner_brand=driver.title\n",
    "    except:\n",
    "        partner_brand=\"N?A\"\n",
    "    brand_site=df[URL]\n",
    "    Dic2={'brand_link':brand_site,'partner':partner_brand}\n",
    "    gc2 = gc2.append(Dic2, ignore_index=True)\n",
    "    print(gc2)"
   ]
  },
  {
   "cell_type": "code",
   "execution_count": 77,
   "metadata": {},
   "outputs": [],
   "source": [
    "driver.get(\"https://www.boom-power.co.uk/\")"
   ]
  },
  {
   "cell_type": "code",
   "execution_count": 78,
   "metadata": {},
   "outputs": [
    {
     "name": "stdout",
     "output_type": "stream",
     "text": [
      "Renewable Energy Experts - BOOM POWER\n"
     ]
    }
   ],
   "source": [
    "print(driver.title)"
   ]
  },
  {
   "cell_type": "code",
   "execution_count": 68,
   "metadata": {},
   "outputs": [
    {
     "name": "stderr",
     "output_type": "stream",
     "text": [
      "<ipython-input-68-67ee600a55df>:4: DeprecationWarning: find_element_by_tag_name is deprecated. Please use find_element(by=By.TAG_NAME, value=name) instead\n",
      "  a=test[i].find_element_by_tag_name(\"a\")\n"
     ]
    },
    {
     "name": "stdout",
     "output_type": "stream",
     "text": [
      "https://www.burton.com/gb/en/home\n",
      "https://icebug.com/\n",
      "https://www.jonessnowboards.com/\n"
     ]
    }
   ],
   "source": [
    "for i in range(len(test)):\n",
    "    if i==0:\n",
    "        continue\n",
    "    a=test[i].find_element_by_tag_name(\"a\")\n",
    "    print(a.get_attribute(\"href\"))"
   ]
  },
  {
   "cell_type": "code",
   "execution_count": null,
   "metadata": {},
   "outputs": [],
   "source": []
  }
 ],
 "metadata": {
  "kernelspec": {
   "display_name": "Python 3",
   "language": "python",
   "name": "python3"
  },
  "language_info": {
   "codemirror_mode": {
    "name": "ipython",
    "version": 3
   },
   "file_extension": ".py",
   "mimetype": "text/x-python",
   "name": "python",
   "nbconvert_exporter": "python",
   "pygments_lexer": "ipython3",
   "version": "3.9.0"
  }
 },
 "nbformat": 4,
 "nbformat_minor": 4
}
