{
 "cells": [
  {
   "cell_type": "code",
   "execution_count": 7,
   "metadata": {},
   "outputs": [],
   "source": [
    "from selenium import webdriver\n",
    "import time\n",
    "from selenium.webdriver.common.keys import Keys\n",
    "from selenium.webdriver.common.by import By\n",
    "import pandas as pd\n",
    "import re\n",
    "from selenium.webdriver.chrome.options import Options\n",
    "chrome_options = Options()\n",
    "chrome_options.add_argument(\"--disable-popup-blocking\")"
   ]
  },
  {
   "cell_type": "code",
   "execution_count": 10,
   "metadata": {},
   "outputs": [
    {
     "name": "stderr",
     "output_type": "stream",
     "text": [
      "<ipython-input-10-a8b7ccb72efe>:1: DeprecationWarning: executable_path has been deprecated, please pass in a Service object\n",
      "  driver=webdriver.Chrome(executable_path=\"C:\\Driver\\chromedriver_win32 (3)\\chromedriver.exe\",chrome_options=chrome_options)\n",
      "<ipython-input-10-a8b7ccb72efe>:1: DeprecationWarning: use options instead of chrome_options\n",
      "  driver=webdriver.Chrome(executable_path=\"C:\\Driver\\chromedriver_win32 (3)\\chromedriver.exe\",chrome_options=chrome_options)\n"
     ]
    }
   ],
   "source": [
    "\n",
    "driver=webdriver.Chrome(executable_path=\"C:\\Driver\\chromedriver_win32 (3)\\chromedriver.exe\",chrome_options=chrome_options)\n",
    "driver.get(\"https://www.madesafe.org/find-products/companies-we-work-with/\")"
   ]
  },
  {
   "cell_type": "code",
   "execution_count": 11,
   "metadata": {},
   "outputs": [],
   "source": [
    "driver.maximize_window()"
   ]
  },
  {
   "cell_type": "code",
   "execution_count": 19,
   "metadata": {},
   "outputs": [
    {
     "name": "stdout",
     "output_type": "stream",
     "text": [
      "[<selenium.webdriver.remote.webelement.WebElement (session=\"2dce273441351c17cfe4e5444824e5e6\", element=\"9ca20472-bdd5-4ed8-b623-9d9840c5dfce\")>, <selenium.webdriver.remote.webelement.WebElement (session=\"2dce273441351c17cfe4e5444824e5e6\", element=\"bca7a862-dbf1-4f90-bc0c-f69294a681a9\")>, <selenium.webdriver.remote.webelement.WebElement (session=\"2dce273441351c17cfe4e5444824e5e6\", element=\"67887dfc-8c08-4dca-be59-b8613f59b666\")>, <selenium.webdriver.remote.webelement.WebElement (session=\"2dce273441351c17cfe4e5444824e5e6\", element=\"95e1a226-4334-422e-a010-478769fac720\")>, <selenium.webdriver.remote.webelement.WebElement (session=\"2dce273441351c17cfe4e5444824e5e6\", element=\"6f53ca7b-c75d-4ef9-8bcf-1c9f169153ab\")>, <selenium.webdriver.remote.webelement.WebElement (session=\"2dce273441351c17cfe4e5444824e5e6\", element=\"9848231b-66b0-47e8-9184-3fdf7e4462c3\")>, <selenium.webdriver.remote.webelement.WebElement (session=\"2dce273441351c17cfe4e5444824e5e6\", element=\"e2a8e095-bbe0-4499-9630-6e83566de7fd\")>, <selenium.webdriver.remote.webelement.WebElement (session=\"2dce273441351c17cfe4e5444824e5e6\", element=\"0eff8c5f-6e0a-498f-a9a8-67f55d87843d\")>, <selenium.webdriver.remote.webelement.WebElement (session=\"2dce273441351c17cfe4e5444824e5e6\", element=\"94126407-8a01-40d7-b542-0b3f3e8f4d0f\")>, <selenium.webdriver.remote.webelement.WebElement (session=\"2dce273441351c17cfe4e5444824e5e6\", element=\"cfa3d332-d73d-419c-8e8e-3b9a9147b55e\")>, <selenium.webdriver.remote.webelement.WebElement (session=\"2dce273441351c17cfe4e5444824e5e6\", element=\"c6d93962-c1a3-4cb1-8ae1-10efe2cd068e\")>, <selenium.webdriver.remote.webelement.WebElement (session=\"2dce273441351c17cfe4e5444824e5e6\", element=\"615b4629-3efc-4dee-960c-9a1ae13de2b7\")>, <selenium.webdriver.remote.webelement.WebElement (session=\"2dce273441351c17cfe4e5444824e5e6\", element=\"a6d7ffaf-99b5-40c9-9370-f9ad86c03ef3\")>, <selenium.webdriver.remote.webelement.WebElement (session=\"2dce273441351c17cfe4e5444824e5e6\", element=\"4e83e6bc-05e0-47ab-bf95-aca8fd5daae7\")>, <selenium.webdriver.remote.webelement.WebElement (session=\"2dce273441351c17cfe4e5444824e5e6\", element=\"b0e2cc78-5359-4388-b65e-9fccce0cd710\")>, <selenium.webdriver.remote.webelement.WebElement (session=\"2dce273441351c17cfe4e5444824e5e6\", element=\"308f69f0-996a-4c49-ace2-2e0bf2813cc0\")>, <selenium.webdriver.remote.webelement.WebElement (session=\"2dce273441351c17cfe4e5444824e5e6\", element=\"ec6a0e77-9b8b-4d09-929f-5cc89b69b246\")>, <selenium.webdriver.remote.webelement.WebElement (session=\"2dce273441351c17cfe4e5444824e5e6\", element=\"49e5b8a3-9d81-4091-bf7c-7df4b4c760ed\")>, <selenium.webdriver.remote.webelement.WebElement (session=\"2dce273441351c17cfe4e5444824e5e6\", element=\"6fe2b697-bc67-4937-b215-c1ce0ae509d9\")>, <selenium.webdriver.remote.webelement.WebElement (session=\"2dce273441351c17cfe4e5444824e5e6\", element=\"e1aad698-1f1f-4841-9def-4c149c666f7a\")>, <selenium.webdriver.remote.webelement.WebElement (session=\"2dce273441351c17cfe4e5444824e5e6\", element=\"5be1a642-b76d-4993-ae0a-b065f83bdff3\")>, <selenium.webdriver.remote.webelement.WebElement (session=\"2dce273441351c17cfe4e5444824e5e6\", element=\"33927d73-80fc-445d-ae82-497336e87a7c\")>, <selenium.webdriver.remote.webelement.WebElement (session=\"2dce273441351c17cfe4e5444824e5e6\", element=\"ae161192-06ca-492f-93ea-701b20c65e5d\")>, <selenium.webdriver.remote.webelement.WebElement (session=\"2dce273441351c17cfe4e5444824e5e6\", element=\"4b094cba-274f-4768-b6a7-0ae7c3cbd6db\")>, <selenium.webdriver.remote.webelement.WebElement (session=\"2dce273441351c17cfe4e5444824e5e6\", element=\"819bf4b6-e82e-4676-8c94-af04277a0861\")>, <selenium.webdriver.remote.webelement.WebElement (session=\"2dce273441351c17cfe4e5444824e5e6\", element=\"80a4cb0f-92de-4502-a4a6-e532cb093206\")>, <selenium.webdriver.remote.webelement.WebElement (session=\"2dce273441351c17cfe4e5444824e5e6\", element=\"bf916123-b0c1-427c-ae56-b45782f6482c\")>, <selenium.webdriver.remote.webelement.WebElement (session=\"2dce273441351c17cfe4e5444824e5e6\", element=\"fe7834de-62b2-4a48-b3f3-602d5e6fc8fe\")>, <selenium.webdriver.remote.webelement.WebElement (session=\"2dce273441351c17cfe4e5444824e5e6\", element=\"179cc8ee-8673-4f09-9e6f-53098d171730\")>, <selenium.webdriver.remote.webelement.WebElement (session=\"2dce273441351c17cfe4e5444824e5e6\", element=\"e522145b-7477-4258-a226-a9ff22128c4e\")>, <selenium.webdriver.remote.webelement.WebElement (session=\"2dce273441351c17cfe4e5444824e5e6\", element=\"2ec3e538-78f8-42cb-8343-6f30c56a0dbc\")>, <selenium.webdriver.remote.webelement.WebElement (session=\"2dce273441351c17cfe4e5444824e5e6\", element=\"4d36dbd6-a2c7-40a3-9bdc-2f600c8d2c92\")>, <selenium.webdriver.remote.webelement.WebElement (session=\"2dce273441351c17cfe4e5444824e5e6\", element=\"68d83295-a364-4e15-bc02-e78f9068e6e0\")>, <selenium.webdriver.remote.webelement.WebElement (session=\"2dce273441351c17cfe4e5444824e5e6\", element=\"cc745de6-d61b-468b-bb85-752f6dda54fd\")>, <selenium.webdriver.remote.webelement.WebElement (session=\"2dce273441351c17cfe4e5444824e5e6\", element=\"d79c2e43-ed9a-4204-a71f-7fdb5060c807\")>, <selenium.webdriver.remote.webelement.WebElement (session=\"2dce273441351c17cfe4e5444824e5e6\", element=\"95dbb0d6-5b9e-4da5-ab5f-daf0046687da\")>, <selenium.webdriver.remote.webelement.WebElement (session=\"2dce273441351c17cfe4e5444824e5e6\", element=\"cfecb3f1-312c-41cb-ad0a-5f4a6e9244f8\")>, <selenium.webdriver.remote.webelement.WebElement (session=\"2dce273441351c17cfe4e5444824e5e6\", element=\"a6a815f3-7624-40fc-9c79-dca836b49e40\")>, <selenium.webdriver.remote.webelement.WebElement (session=\"2dce273441351c17cfe4e5444824e5e6\", element=\"cd082ef0-d6c0-41d7-b965-a5395d8532d5\")>, <selenium.webdriver.remote.webelement.WebElement (session=\"2dce273441351c17cfe4e5444824e5e6\", element=\"b79c42d8-379c-45e0-92c6-02785e7b3000\")>, <selenium.webdriver.remote.webelement.WebElement (session=\"2dce273441351c17cfe4e5444824e5e6\", element=\"35577f92-120a-4e79-92ee-618ca45fc3ba\")>, <selenium.webdriver.remote.webelement.WebElement (session=\"2dce273441351c17cfe4e5444824e5e6\", element=\"626f1fac-cee0-4107-82bc-b72e5a8d20cb\")>, <selenium.webdriver.remote.webelement.WebElement (session=\"2dce273441351c17cfe4e5444824e5e6\", element=\"6f5e0aad-8bf1-4a47-b30e-1be63a7f55cb\")>, <selenium.webdriver.remote.webelement.WebElement (session=\"2dce273441351c17cfe4e5444824e5e6\", element=\"cb5ed57b-5e8f-47f5-a020-4d1ac82371b3\")>, <selenium.webdriver.remote.webelement.WebElement (session=\"2dce273441351c17cfe4e5444824e5e6\", element=\"b99f15dd-ce5b-431c-ac0f-53d56d67a143\")>, <selenium.webdriver.remote.webelement.WebElement (session=\"2dce273441351c17cfe4e5444824e5e6\", element=\"a331a577-8a24-4c91-b66b-a0b948c2a7e0\")>, <selenium.webdriver.remote.webelement.WebElement (session=\"2dce273441351c17cfe4e5444824e5e6\", element=\"bca83f47-166f-46e0-83f1-c66e0f56b3a0\")>, <selenium.webdriver.remote.webelement.WebElement (session=\"2dce273441351c17cfe4e5444824e5e6\", element=\"89ffbd72-530f-492f-8efe-b0ea342730b9\")>, <selenium.webdriver.remote.webelement.WebElement (session=\"2dce273441351c17cfe4e5444824e5e6\", element=\"db188e56-19ac-42d4-84c8-728b90eee5ae\")>, <selenium.webdriver.remote.webelement.WebElement (session=\"2dce273441351c17cfe4e5444824e5e6\", element=\"e852e452-a384-461b-a049-922f80569def\")>, <selenium.webdriver.remote.webelement.WebElement (session=\"2dce273441351c17cfe4e5444824e5e6\", element=\"8ec38409-a3e8-4313-9156-e76a0aa386a7\")>, <selenium.webdriver.remote.webelement.WebElement (session=\"2dce273441351c17cfe4e5444824e5e6\", element=\"8ee19031-ee3b-4fb7-9d9b-dd1de97a3ff7\")>]\n"
     ]
    },
    {
     "name": "stderr",
     "output_type": "stream",
     "text": [
      "<ipython-input-19-e2a07ebadad6>:1: DeprecationWarning: find_elements_by_tag_name is deprecated. Please use find_elements(by=By.TAG_NAME, value=name) instead\n",
      "  x=driver.find_elements_by_tag_name(\"td\")\n"
     ]
    }
   ],
   "source": [
    "x=driver.find_elements_by_tag_name(\"td\")\n",
    "print(x)"
   ]
  },
  {
   "cell_type": "code",
   "execution_count": 21,
   "metadata": {},
   "outputs": [
    {
     "name": "stderr",
     "output_type": "stream",
     "text": [
      "<ipython-input-21-265582d53bbf>:2: DeprecationWarning: find_element_by_tag_name is deprecated. Please use find_element(by=By.TAG_NAME, value=name) instead\n",
      "  y=link.find_element_by_tag_name(\"a\")\n"
     ]
    },
    {
     "ename": "NoSuchElementException",
     "evalue": "Message: no such element: Unable to locate element: {\"method\":\"tag name\",\"selector\":\"a\"}\n  (Session info: chrome=103.0.5060.53)\nStacktrace:\nBacktrace:\n\tOrdinal0 [0x00352733+2434867]\n\tOrdinal0 [0x002E07A1+1968033]\n\tOrdinal0 [0x001CC678+837240]\n\tOrdinal0 [0x001F94E0+1021152]\n\tOrdinal0 [0x001F977B+1021819]\n\tOrdinal0 [0x001EFCD1+982225]\n\tOrdinal0 [0x00214484+1131652]\n\tOrdinal0 [0x001EFC54+982100]\n\tOrdinal0 [0x00214654+1132116]\n\tOrdinal0 [0x00224892+1198226]\n\tOrdinal0 [0x00214256+1131094]\n\tOrdinal0 [0x001EE840+976960]\n\tOrdinal0 [0x001EF736+980790]\n\tGetHandleVerifier [0x005C3C72+2515426]\n\tGetHandleVerifier [0x005B702F+2463135]\n\tGetHandleVerifier [0x003F522A+620442]\n\tGetHandleVerifier [0x003F4016+615814]\n\tOrdinal0 [0x002E707B+1994875]\n\tOrdinal0 [0x002EB938+2013496]\n\tOrdinal0 [0x002EBA25+2013733]\n\tOrdinal0 [0x002F4DE1+2051553]\n\tBaseThreadInitThunk [0x770CFA29+25]\n\tRtlGetAppContainerNamedObjectPath [0x77AC7A9E+286]\n\tRtlGetAppContainerNamedObjectPath [0x77AC7A6E+238]\n",
     "output_type": "error",
     "traceback": [
      "\u001b[1;31m---------------------------------------------------------------------------\u001b[0m",
      "\u001b[1;31mNoSuchElementException\u001b[0m                    Traceback (most recent call last)",
      "\u001b[1;32m<ipython-input-21-265582d53bbf>\u001b[0m in \u001b[0;36m<module>\u001b[1;34m\u001b[0m\n\u001b[0;32m      1\u001b[0m \u001b[1;32mfor\u001b[0m \u001b[0mlink\u001b[0m \u001b[1;32min\u001b[0m \u001b[0mx\u001b[0m\u001b[1;33m:\u001b[0m\u001b[1;33m\u001b[0m\u001b[1;33m\u001b[0m\u001b[0m\n\u001b[1;32m----> 2\u001b[1;33m     \u001b[0my\u001b[0m\u001b[1;33m=\u001b[0m\u001b[0mlink\u001b[0m\u001b[1;33m.\u001b[0m\u001b[0mfind_element_by_tag_name\u001b[0m\u001b[1;33m(\u001b[0m\u001b[1;34m\"a\"\u001b[0m\u001b[1;33m)\u001b[0m\u001b[1;33m\u001b[0m\u001b[1;33m\u001b[0m\u001b[0m\n\u001b[0m",
      "\u001b[1;32mc:\\users\\user\\appdata\\local\\programs\\python\\python39\\lib\\site-packages\\selenium\\webdriver\\remote\\webelement.py\u001b[0m in \u001b[0;36mfind_element_by_tag_name\u001b[1;34m(self, name)\u001b[0m\n\u001b[0;32m    381\u001b[0m             \u001b[0mDeprecationWarning\u001b[0m\u001b[1;33m,\u001b[0m\u001b[1;33m\u001b[0m\u001b[1;33m\u001b[0m\u001b[0m\n\u001b[0;32m    382\u001b[0m             stacklevel=2)\n\u001b[1;32m--> 383\u001b[1;33m         \u001b[1;32mreturn\u001b[0m \u001b[0mself\u001b[0m\u001b[1;33m.\u001b[0m\u001b[0mfind_element\u001b[0m\u001b[1;33m(\u001b[0m\u001b[0mby\u001b[0m\u001b[1;33m=\u001b[0m\u001b[0mBy\u001b[0m\u001b[1;33m.\u001b[0m\u001b[0mTAG_NAME\u001b[0m\u001b[1;33m,\u001b[0m \u001b[0mvalue\u001b[0m\u001b[1;33m=\u001b[0m\u001b[0mname\u001b[0m\u001b[1;33m)\u001b[0m\u001b[1;33m\u001b[0m\u001b[1;33m\u001b[0m\u001b[0m\n\u001b[0m\u001b[0;32m    384\u001b[0m \u001b[1;33m\u001b[0m\u001b[0m\n\u001b[0;32m    385\u001b[0m     \u001b[1;32mdef\u001b[0m \u001b[0mfind_elements_by_tag_name\u001b[0m\u001b[1;33m(\u001b[0m\u001b[0mself\u001b[0m\u001b[1;33m,\u001b[0m \u001b[0mname\u001b[0m\u001b[1;33m)\u001b[0m\u001b[1;33m:\u001b[0m\u001b[1;33m\u001b[0m\u001b[1;33m\u001b[0m\u001b[0m\n",
      "\u001b[1;32mc:\\users\\user\\appdata\\local\\programs\\python\\python39\\lib\\site-packages\\selenium\\webdriver\\remote\\webelement.py\u001b[0m in \u001b[0;36mfind_element\u001b[1;34m(self, by, value)\u001b[0m\n\u001b[0;32m    794\u001b[0m             \u001b[0mvalue\u001b[0m \u001b[1;33m=\u001b[0m \u001b[1;34m'[name=\"%s\"]'\u001b[0m \u001b[1;33m%\u001b[0m \u001b[0mvalue\u001b[0m\u001b[1;33m\u001b[0m\u001b[1;33m\u001b[0m\u001b[0m\n\u001b[0;32m    795\u001b[0m \u001b[1;33m\u001b[0m\u001b[0m\n\u001b[1;32m--> 796\u001b[1;33m         return self._execute(Command.FIND_CHILD_ELEMENT,\n\u001b[0m\u001b[0;32m    797\u001b[0m                              {\"using\": by, \"value\": value})['value']\n\u001b[0;32m    798\u001b[0m \u001b[1;33m\u001b[0m\u001b[0m\n",
      "\u001b[1;32mc:\\users\\user\\appdata\\local\\programs\\python\\python39\\lib\\site-packages\\selenium\\webdriver\\remote\\webelement.py\u001b[0m in \u001b[0;36m_execute\u001b[1;34m(self, command, params)\u001b[0m\n\u001b[0;32m    771\u001b[0m             \u001b[0mparams\u001b[0m \u001b[1;33m=\u001b[0m \u001b[1;33m{\u001b[0m\u001b[1;33m}\u001b[0m\u001b[1;33m\u001b[0m\u001b[1;33m\u001b[0m\u001b[0m\n\u001b[0;32m    772\u001b[0m         \u001b[0mparams\u001b[0m\u001b[1;33m[\u001b[0m\u001b[1;34m'id'\u001b[0m\u001b[1;33m]\u001b[0m \u001b[1;33m=\u001b[0m \u001b[0mself\u001b[0m\u001b[1;33m.\u001b[0m\u001b[0m_id\u001b[0m\u001b[1;33m\u001b[0m\u001b[1;33m\u001b[0m\u001b[0m\n\u001b[1;32m--> 773\u001b[1;33m         \u001b[1;32mreturn\u001b[0m \u001b[0mself\u001b[0m\u001b[1;33m.\u001b[0m\u001b[0m_parent\u001b[0m\u001b[1;33m.\u001b[0m\u001b[0mexecute\u001b[0m\u001b[1;33m(\u001b[0m\u001b[0mcommand\u001b[0m\u001b[1;33m,\u001b[0m \u001b[0mparams\u001b[0m\u001b[1;33m)\u001b[0m\u001b[1;33m\u001b[0m\u001b[1;33m\u001b[0m\u001b[0m\n\u001b[0m\u001b[0;32m    774\u001b[0m \u001b[1;33m\u001b[0m\u001b[0m\n\u001b[0;32m    775\u001b[0m     \u001b[1;32mdef\u001b[0m \u001b[0mfind_element\u001b[0m\u001b[1;33m(\u001b[0m\u001b[0mself\u001b[0m\u001b[1;33m,\u001b[0m \u001b[0mby\u001b[0m\u001b[1;33m=\u001b[0m\u001b[0mBy\u001b[0m\u001b[1;33m.\u001b[0m\u001b[0mID\u001b[0m\u001b[1;33m,\u001b[0m \u001b[0mvalue\u001b[0m\u001b[1;33m=\u001b[0m\u001b[1;32mNone\u001b[0m\u001b[1;33m)\u001b[0m\u001b[1;33m:\u001b[0m\u001b[1;33m\u001b[0m\u001b[1;33m\u001b[0m\u001b[0m\n",
      "\u001b[1;32mc:\\users\\user\\appdata\\local\\programs\\python\\python39\\lib\\site-packages\\selenium\\webdriver\\remote\\webdriver.py\u001b[0m in \u001b[0;36mexecute\u001b[1;34m(self, driver_command, params)\u001b[0m\n\u001b[0;32m    428\u001b[0m         \u001b[0mresponse\u001b[0m \u001b[1;33m=\u001b[0m \u001b[0mself\u001b[0m\u001b[1;33m.\u001b[0m\u001b[0mcommand_executor\u001b[0m\u001b[1;33m.\u001b[0m\u001b[0mexecute\u001b[0m\u001b[1;33m(\u001b[0m\u001b[0mdriver_command\u001b[0m\u001b[1;33m,\u001b[0m \u001b[0mparams\u001b[0m\u001b[1;33m)\u001b[0m\u001b[1;33m\u001b[0m\u001b[1;33m\u001b[0m\u001b[0m\n\u001b[0;32m    429\u001b[0m         \u001b[1;32mif\u001b[0m \u001b[0mresponse\u001b[0m\u001b[1;33m:\u001b[0m\u001b[1;33m\u001b[0m\u001b[1;33m\u001b[0m\u001b[0m\n\u001b[1;32m--> 430\u001b[1;33m             \u001b[0mself\u001b[0m\u001b[1;33m.\u001b[0m\u001b[0merror_handler\u001b[0m\u001b[1;33m.\u001b[0m\u001b[0mcheck_response\u001b[0m\u001b[1;33m(\u001b[0m\u001b[0mresponse\u001b[0m\u001b[1;33m)\u001b[0m\u001b[1;33m\u001b[0m\u001b[1;33m\u001b[0m\u001b[0m\n\u001b[0m\u001b[0;32m    431\u001b[0m             response['value'] = self._unwrap_value(\n\u001b[0;32m    432\u001b[0m                 response.get('value', None))\n",
      "\u001b[1;32mc:\\users\\user\\appdata\\local\\programs\\python\\python39\\lib\\site-packages\\selenium\\webdriver\\remote\\errorhandler.py\u001b[0m in \u001b[0;36mcheck_response\u001b[1;34m(self, response)\u001b[0m\n\u001b[0;32m    245\u001b[0m                 \u001b[0malert_text\u001b[0m \u001b[1;33m=\u001b[0m \u001b[0mvalue\u001b[0m\u001b[1;33m[\u001b[0m\u001b[1;34m'alert'\u001b[0m\u001b[1;33m]\u001b[0m\u001b[1;33m.\u001b[0m\u001b[0mget\u001b[0m\u001b[1;33m(\u001b[0m\u001b[1;34m'text'\u001b[0m\u001b[1;33m)\u001b[0m\u001b[1;33m\u001b[0m\u001b[1;33m\u001b[0m\u001b[0m\n\u001b[0;32m    246\u001b[0m             \u001b[1;32mraise\u001b[0m \u001b[0mexception_class\u001b[0m\u001b[1;33m(\u001b[0m\u001b[0mmessage\u001b[0m\u001b[1;33m,\u001b[0m \u001b[0mscreen\u001b[0m\u001b[1;33m,\u001b[0m \u001b[0mstacktrace\u001b[0m\u001b[1;33m,\u001b[0m \u001b[0malert_text\u001b[0m\u001b[1;33m)\u001b[0m  \u001b[1;31m# type: ignore[call-arg]  # mypy is not smart enough here\u001b[0m\u001b[1;33m\u001b[0m\u001b[1;33m\u001b[0m\u001b[0m\n\u001b[1;32m--> 247\u001b[1;33m         \u001b[1;32mraise\u001b[0m \u001b[0mexception_class\u001b[0m\u001b[1;33m(\u001b[0m\u001b[0mmessage\u001b[0m\u001b[1;33m,\u001b[0m \u001b[0mscreen\u001b[0m\u001b[1;33m,\u001b[0m \u001b[0mstacktrace\u001b[0m\u001b[1;33m)\u001b[0m\u001b[1;33m\u001b[0m\u001b[1;33m\u001b[0m\u001b[0m\n\u001b[0m\u001b[0;32m    248\u001b[0m \u001b[1;33m\u001b[0m\u001b[0m\n\u001b[0;32m    249\u001b[0m     \u001b[1;32mdef\u001b[0m \u001b[0m_value_or_default\u001b[0m\u001b[1;33m(\u001b[0m\u001b[0mself\u001b[0m\u001b[1;33m,\u001b[0m \u001b[0mobj\u001b[0m\u001b[1;33m:\u001b[0m \u001b[0mMapping\u001b[0m\u001b[1;33m[\u001b[0m\u001b[0m_KT\u001b[0m\u001b[1;33m,\u001b[0m \u001b[0m_VT\u001b[0m\u001b[1;33m]\u001b[0m\u001b[1;33m,\u001b[0m \u001b[0mkey\u001b[0m\u001b[1;33m:\u001b[0m \u001b[0m_KT\u001b[0m\u001b[1;33m,\u001b[0m \u001b[0mdefault\u001b[0m\u001b[1;33m:\u001b[0m \u001b[0m_VT\u001b[0m\u001b[1;33m)\u001b[0m \u001b[1;33m->\u001b[0m \u001b[0m_VT\u001b[0m\u001b[1;33m:\u001b[0m\u001b[1;33m\u001b[0m\u001b[1;33m\u001b[0m\u001b[0m\n",
      "\u001b[1;31mNoSuchElementException\u001b[0m: Message: no such element: Unable to locate element: {\"method\":\"tag name\",\"selector\":\"a\"}\n  (Session info: chrome=103.0.5060.53)\nStacktrace:\nBacktrace:\n\tOrdinal0 [0x00352733+2434867]\n\tOrdinal0 [0x002E07A1+1968033]\n\tOrdinal0 [0x001CC678+837240]\n\tOrdinal0 [0x001F94E0+1021152]\n\tOrdinal0 [0x001F977B+1021819]\n\tOrdinal0 [0x001EFCD1+982225]\n\tOrdinal0 [0x00214484+1131652]\n\tOrdinal0 [0x001EFC54+982100]\n\tOrdinal0 [0x00214654+1132116]\n\tOrdinal0 [0x00224892+1198226]\n\tOrdinal0 [0x00214256+1131094]\n\tOrdinal0 [0x001EE840+976960]\n\tOrdinal0 [0x001EF736+980790]\n\tGetHandleVerifier [0x005C3C72+2515426]\n\tGetHandleVerifier [0x005B702F+2463135]\n\tGetHandleVerifier [0x003F522A+620442]\n\tGetHandleVerifier [0x003F4016+615814]\n\tOrdinal0 [0x002E707B+1994875]\n\tOrdinal0 [0x002EB938+2013496]\n\tOrdinal0 [0x002EBA25+2013733]\n\tOrdinal0 [0x002F4DE1+2051553]\n\tBaseThreadInitThunk [0x770CFA29+25]\n\tRtlGetAppContainerNamedObjectPath [0x77AC7A9E+286]\n\tRtlGetAppContainerNamedObjectPath [0x77AC7A6E+238]\n"
     ]
    }
   ],
   "source": [
    "for link in x:\n",
    "    y=link.find_element_by_tag_name(\"a\")"
   ]
  },
  {
   "cell_type": "code",
   "execution_count": null,
   "metadata": {},
   "outputs": [],
   "source": []
  }
 ],
 "metadata": {
  "kernelspec": {
   "display_name": "Python 3",
   "language": "python",
   "name": "python3"
  },
  "language_info": {
   "codemirror_mode": {
    "name": "ipython",
    "version": 3
   },
   "file_extension": ".py",
   "mimetype": "text/x-python",
   "name": "python",
   "nbconvert_exporter": "python",
   "pygments_lexer": "ipython3",
   "version": "3.9.0"
  }
 },
 "nbformat": 4,
 "nbformat_minor": 4
}
