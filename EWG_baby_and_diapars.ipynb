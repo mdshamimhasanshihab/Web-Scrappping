{
 "cells": [
  {
   "cell_type": "code",
   "execution_count": 43,
   "metadata": {},
   "outputs": [],
   "source": [
    "from selenium import webdriver\n",
    "import time\n",
    "from selenium.webdriver.common.keys import Keys\n",
    "from selenium.webdriver.common.by import By\n",
    "import pandas as pd\n",
    "import re\n",
    "from selenium.webdriver.chrome.options import Options\n",
    "chrome_options = Options()\n",
    "chrome_options.add_argument(\"--disable-popup-blocking\")"
   ]
  },
  {
   "cell_type": "code",
   "execution_count": 44,
   "metadata": {},
   "outputs": [],
   "source": [
    "Dic = {}\n",
    "# from selenium import webdriver\n",
    "gc2= pd.DataFrame(data=Dic,index=[0],columns=['product_name','Category','brand','Data last Updated','Where to buy','Online link for purchasing','ingradiants'])"
   ]
  },
  {
   "cell_type": "code",
   "execution_count": 45,
   "metadata": {},
   "outputs": [
    {
     "data": {
      "text/plain": [
       "176"
      ]
     },
     "execution_count": 45,
     "metadata": {},
     "output_type": "execute_result"
    }
   ],
   "source": [
    "link=pd.read_excel(r'C:/Users/User/OneDrive/Desktop/Data_acq/EWC/Baby_and_diapars.xlsx')\n",
    "URL=link.product_link\n",
    "len(URL)"
   ]
  },
  {
   "cell_type": "code",
   "execution_count": 47,
   "metadata": {},
   "outputs": [
    {
     "name": "stderr",
     "output_type": "stream",
     "text": [
      "<ipython-input-47-6299ca1eca46>:4: DeprecationWarning: executable_path has been deprecated, please pass in a Service object\n",
      "  driver=webdriver.Chrome(executable_path=\"C:\\Driver\\chromedriver_win32 (3)\\chromedriver.exe\",chrome_options=chrome_options)\n",
      "<ipython-input-47-6299ca1eca46>:4: DeprecationWarning: use options instead of chrome_options\n",
      "  driver=webdriver.Chrome(executable_path=\"C:\\Driver\\chromedriver_win32 (3)\\chromedriver.exe\",chrome_options=chrome_options)\n",
      "<ipython-input-47-6299ca1eca46>:10: DeprecationWarning: find_element_by_css_selector is deprecated. Please use find_element(by=By.CSS_SELECTOR, value=css_selector) instead\n",
      "  p_name=driver.find_element_by_css_selector(\"body > div.content > div > main > section.product > div.radial-bg-green > div.product-info-wrapper.content-max-width > div.product-score-name-wrapper > h2\").text\n",
      "<ipython-input-47-6299ca1eca46>:11: DeprecationWarning: find_elements_by_xpath is deprecated. Please use find_elements(by=By.XPATH, value=xpath) instead\n",
      "  Category=driver.find_elements_by_xpath(\"/html/body/div[2]/div/main/section[1]/div[1]/div[3]/div[2]/div[2]/a\")\n",
      "<ipython-input-47-6299ca1eca46>:22: DeprecationWarning: find_element_by_css_selector is deprecated. Please use find_element(by=By.CSS_SELECTOR, value=css_selector) instead\n",
      "  dlu=driver.find_element_by_css_selector(\"body > div.content > div > main > section.product > div.radial-bg-green > div.product-info-wrapper.content-max-width > div.product-wrapper > div.product-lower > div > p:nth-child(2)\").text\n",
      "<ipython-input-47-6299ca1eca46>:23: DeprecationWarning: find_element_by_xpath is deprecated. Please use find_element(by=By.XPATH, value=xpath) instead\n",
      "  wtb=driver.find_element_by_xpath(\"/html/body/div[2]/div/main/section[1]/div[1]/div[3]/div[2]/div[1]/ul\").text\n",
      "<ipython-input-47-6299ca1eca46>:26: DeprecationWarning: find_element_by_css_selector is deprecated. Please use find_element(by=By.CSS_SELECTOR, value=css_selector) instead\n",
      "  div=driver.find_element_by_css_selector(\"body > div.content > div > main > section.product > div.radial-bg-green > div.product-info-wrapper.content-max-width > div.product-wrapper > div.product-upper\")\n",
      "<ipython-input-47-6299ca1eca46>:31: DeprecationWarning: find_elements_by_class_name is deprecated. Please use find_elements(by=By.CLASS_NAME, value=name) instead\n",
      "  in_list=driver.find_elements_by_class_name(\"ingredient-overview-tr\")\n"
     ]
    },
    {
     "name": "stdout",
     "output_type": "stream",
     "text": [
      "                                        product_name Category brand  \\\n",
      "0                                                NaN      NaN   NaN   \n",
      "1  vivvi & bloom Baby 2-in-1 Face and Body Whip L...                  \n",
      "\n",
      "  Data last Updated Where to buy  \\\n",
      "0               NaN          NaN   \n",
      "1                                  \n",
      "\n",
      "                          Online link for purchasing  \\\n",
      "0                                                NaN   \n",
      "1  https://www.amazon.com/dp/B0B35C3HFD?tag=ewgco...   \n",
      "\n",
      "                                        ingradiants  \n",
      "0                                               NaN  \n",
      "1  | | | | | | | | | | | | | | | | | | | | | | | |   \n"
     ]
    },
    {
     "name": "stderr",
     "output_type": "stream",
     "text": [
      "<ipython-input-47-6299ca1eca46>:10: DeprecationWarning: find_element_by_css_selector is deprecated. Please use find_element(by=By.CSS_SELECTOR, value=css_selector) instead\n",
      "  p_name=driver.find_element_by_css_selector(\"body > div.content > div > main > section.product > div.radial-bg-green > div.product-info-wrapper.content-max-width > div.product-score-name-wrapper > h2\").text\n"
     ]
    },
    {
     "ename": "WebDriverException",
     "evalue": "Message: chrome not reachable\n  (Session info: chrome=103.0.5060.53)\nStacktrace:\nBacktrace:\n\tOrdinal0 [0x00352733+2434867]\n\tOrdinal0 [0x002E07A1+1968033]\n\tOrdinal0 [0x001CC540+836928]\n\tOrdinal0 [0x001C01B2+786866]\n\tOrdinal0 [0x001C09E8+788968]\n\tOrdinal0 [0x001C22B2+795314]\n\tOrdinal0 [0x001BBCA9+769193]\n\tOrdinal0 [0x001CD9F0+842224]\n\tOrdinal0 [0x00224072+1196146]\n\tOrdinal0 [0x00214256+1131094]\n\tOrdinal0 [0x001EE840+976960]\n\tOrdinal0 [0x001EF736+980790]\n\tGetHandleVerifier [0x005C3C72+2515426]\n\tGetHandleVerifier [0x005B702F+2463135]\n\tGetHandleVerifier [0x003F522A+620442]\n\tGetHandleVerifier [0x003F4016+615814]\n\tOrdinal0 [0x002E707B+1994875]\n\tOrdinal0 [0x002EB938+2013496]\n\tOrdinal0 [0x002EBA25+2013733]\n\tOrdinal0 [0x002F4DE1+2051553]\n\tBaseThreadInitThunk [0x770CFA29+25]\n\tRtlGetAppContainerNamedObjectPath [0x77AC7A9E+286]\n\tRtlGetAppContainerNamedObjectPath [0x77AC7A6E+238]\n",
     "output_type": "error",
     "traceback": [
      "\u001b[1;31m---------------------------------------------------------------------------\u001b[0m",
      "\u001b[1;31mWebDriverException\u001b[0m                        Traceback (most recent call last)",
      "\u001b[1;32m<ipython-input-47-6299ca1eca46>\u001b[0m in \u001b[0;36m<module>\u001b[1;34m\u001b[0m\n\u001b[0;32m      4\u001b[0m \u001b[0mdriver\u001b[0m\u001b[1;33m=\u001b[0m\u001b[0mwebdriver\u001b[0m\u001b[1;33m.\u001b[0m\u001b[0mChrome\u001b[0m\u001b[1;33m(\u001b[0m\u001b[0mexecutable_path\u001b[0m\u001b[1;33m=\u001b[0m\u001b[1;34m\"C:\\Driver\\chromedriver_win32 (3)\\chromedriver.exe\"\u001b[0m\u001b[1;33m,\u001b[0m\u001b[0mchrome_options\u001b[0m\u001b[1;33m=\u001b[0m\u001b[0mchrome_options\u001b[0m\u001b[1;33m)\u001b[0m\u001b[1;33m\u001b[0m\u001b[1;33m\u001b[0m\u001b[0m\n\u001b[0;32m      5\u001b[0m \u001b[1;32mfor\u001b[0m \u001b[0mUR\u001b[0m \u001b[1;32min\u001b[0m \u001b[0mrange\u001b[0m\u001b[1;33m(\u001b[0m\u001b[0mlen\u001b[0m\u001b[1;33m(\u001b[0m\u001b[0mURL\u001b[0m\u001b[1;33m)\u001b[0m\u001b[1;33m)\u001b[0m\u001b[1;33m:\u001b[0m\u001b[1;33m\u001b[0m\u001b[1;33m\u001b[0m\u001b[0m\n\u001b[1;32m----> 6\u001b[1;33m     \u001b[0mdriver\u001b[0m\u001b[1;33m.\u001b[0m\u001b[0mget\u001b[0m\u001b[1;33m(\u001b[0m\u001b[0mURL\u001b[0m\u001b[1;33m[\u001b[0m\u001b[0mUR\u001b[0m\u001b[1;33m+\u001b[0m\u001b[1;36m1\u001b[0m\u001b[1;33m]\u001b[0m\u001b[1;33m)\u001b[0m\u001b[1;33m\u001b[0m\u001b[1;33m\u001b[0m\u001b[0m\n\u001b[0m\u001b[0;32m      7\u001b[0m     \u001b[0mdriver\u001b[0m\u001b[1;33m.\u001b[0m\u001b[0mmaximize_window\u001b[0m\u001b[1;33m(\u001b[0m\u001b[1;33m)\u001b[0m\u001b[1;33m\u001b[0m\u001b[1;33m\u001b[0m\u001b[0m\n\u001b[0;32m      8\u001b[0m     \u001b[0mtime\u001b[0m\u001b[1;33m.\u001b[0m\u001b[0msleep\u001b[0m\u001b[1;33m(\u001b[0m\u001b[1;36m5\u001b[0m\u001b[1;33m)\u001b[0m\u001b[1;33m\u001b[0m\u001b[1;33m\u001b[0m\u001b[0m\n",
      "\u001b[1;32mc:\\users\\user\\appdata\\local\\programs\\python\\python39\\lib\\site-packages\\selenium\\webdriver\\remote\\webdriver.py\u001b[0m in \u001b[0;36mget\u001b[1;34m(self, url)\u001b[0m\n\u001b[0;32m    440\u001b[0m         \u001b[0mLoads\u001b[0m \u001b[0ma\u001b[0m \u001b[0mweb\u001b[0m \u001b[0mpage\u001b[0m \u001b[1;32min\u001b[0m \u001b[0mthe\u001b[0m \u001b[0mcurrent\u001b[0m \u001b[0mbrowser\u001b[0m \u001b[0msession\u001b[0m\u001b[1;33m.\u001b[0m\u001b[1;33m\u001b[0m\u001b[1;33m\u001b[0m\u001b[0m\n\u001b[0;32m    441\u001b[0m         \"\"\"\n\u001b[1;32m--> 442\u001b[1;33m         \u001b[0mself\u001b[0m\u001b[1;33m.\u001b[0m\u001b[0mexecute\u001b[0m\u001b[1;33m(\u001b[0m\u001b[0mCommand\u001b[0m\u001b[1;33m.\u001b[0m\u001b[0mGET\u001b[0m\u001b[1;33m,\u001b[0m \u001b[1;33m{\u001b[0m\u001b[1;34m'url'\u001b[0m\u001b[1;33m:\u001b[0m \u001b[0murl\u001b[0m\u001b[1;33m}\u001b[0m\u001b[1;33m)\u001b[0m\u001b[1;33m\u001b[0m\u001b[1;33m\u001b[0m\u001b[0m\n\u001b[0m\u001b[0;32m    443\u001b[0m \u001b[1;33m\u001b[0m\u001b[0m\n\u001b[0;32m    444\u001b[0m     \u001b[1;33m@\u001b[0m\u001b[0mproperty\u001b[0m\u001b[1;33m\u001b[0m\u001b[1;33m\u001b[0m\u001b[0m\n",
      "\u001b[1;32mc:\\users\\user\\appdata\\local\\programs\\python\\python39\\lib\\site-packages\\selenium\\webdriver\\remote\\webdriver.py\u001b[0m in \u001b[0;36mexecute\u001b[1;34m(self, driver_command, params)\u001b[0m\n\u001b[0;32m    428\u001b[0m         \u001b[0mresponse\u001b[0m \u001b[1;33m=\u001b[0m \u001b[0mself\u001b[0m\u001b[1;33m.\u001b[0m\u001b[0mcommand_executor\u001b[0m\u001b[1;33m.\u001b[0m\u001b[0mexecute\u001b[0m\u001b[1;33m(\u001b[0m\u001b[0mdriver_command\u001b[0m\u001b[1;33m,\u001b[0m \u001b[0mparams\u001b[0m\u001b[1;33m)\u001b[0m\u001b[1;33m\u001b[0m\u001b[1;33m\u001b[0m\u001b[0m\n\u001b[0;32m    429\u001b[0m         \u001b[1;32mif\u001b[0m \u001b[0mresponse\u001b[0m\u001b[1;33m:\u001b[0m\u001b[1;33m\u001b[0m\u001b[1;33m\u001b[0m\u001b[0m\n\u001b[1;32m--> 430\u001b[1;33m             \u001b[0mself\u001b[0m\u001b[1;33m.\u001b[0m\u001b[0merror_handler\u001b[0m\u001b[1;33m.\u001b[0m\u001b[0mcheck_response\u001b[0m\u001b[1;33m(\u001b[0m\u001b[0mresponse\u001b[0m\u001b[1;33m)\u001b[0m\u001b[1;33m\u001b[0m\u001b[1;33m\u001b[0m\u001b[0m\n\u001b[0m\u001b[0;32m    431\u001b[0m             response['value'] = self._unwrap_value(\n\u001b[0;32m    432\u001b[0m                 response.get('value', None))\n",
      "\u001b[1;32mc:\\users\\user\\appdata\\local\\programs\\python\\python39\\lib\\site-packages\\selenium\\webdriver\\remote\\errorhandler.py\u001b[0m in \u001b[0;36mcheck_response\u001b[1;34m(self, response)\u001b[0m\n\u001b[0;32m    245\u001b[0m                 \u001b[0malert_text\u001b[0m \u001b[1;33m=\u001b[0m \u001b[0mvalue\u001b[0m\u001b[1;33m[\u001b[0m\u001b[1;34m'alert'\u001b[0m\u001b[1;33m]\u001b[0m\u001b[1;33m.\u001b[0m\u001b[0mget\u001b[0m\u001b[1;33m(\u001b[0m\u001b[1;34m'text'\u001b[0m\u001b[1;33m)\u001b[0m\u001b[1;33m\u001b[0m\u001b[1;33m\u001b[0m\u001b[0m\n\u001b[0;32m    246\u001b[0m             \u001b[1;32mraise\u001b[0m \u001b[0mexception_class\u001b[0m\u001b[1;33m(\u001b[0m\u001b[0mmessage\u001b[0m\u001b[1;33m,\u001b[0m \u001b[0mscreen\u001b[0m\u001b[1;33m,\u001b[0m \u001b[0mstacktrace\u001b[0m\u001b[1;33m,\u001b[0m \u001b[0malert_text\u001b[0m\u001b[1;33m)\u001b[0m  \u001b[1;31m# type: ignore[call-arg]  # mypy is not smart enough here\u001b[0m\u001b[1;33m\u001b[0m\u001b[1;33m\u001b[0m\u001b[0m\n\u001b[1;32m--> 247\u001b[1;33m         \u001b[1;32mraise\u001b[0m \u001b[0mexception_class\u001b[0m\u001b[1;33m(\u001b[0m\u001b[0mmessage\u001b[0m\u001b[1;33m,\u001b[0m \u001b[0mscreen\u001b[0m\u001b[1;33m,\u001b[0m \u001b[0mstacktrace\u001b[0m\u001b[1;33m)\u001b[0m\u001b[1;33m\u001b[0m\u001b[1;33m\u001b[0m\u001b[0m\n\u001b[0m\u001b[0;32m    248\u001b[0m \u001b[1;33m\u001b[0m\u001b[0m\n\u001b[0;32m    249\u001b[0m     \u001b[1;32mdef\u001b[0m \u001b[0m_value_or_default\u001b[0m\u001b[1;33m(\u001b[0m\u001b[0mself\u001b[0m\u001b[1;33m,\u001b[0m \u001b[0mobj\u001b[0m\u001b[1;33m:\u001b[0m \u001b[0mMapping\u001b[0m\u001b[1;33m[\u001b[0m\u001b[0m_KT\u001b[0m\u001b[1;33m,\u001b[0m \u001b[0m_VT\u001b[0m\u001b[1;33m]\u001b[0m\u001b[1;33m,\u001b[0m \u001b[0mkey\u001b[0m\u001b[1;33m:\u001b[0m \u001b[0m_KT\u001b[0m\u001b[1;33m,\u001b[0m \u001b[0mdefault\u001b[0m\u001b[1;33m:\u001b[0m \u001b[0m_VT\u001b[0m\u001b[1;33m)\u001b[0m \u001b[1;33m->\u001b[0m \u001b[0m_VT\u001b[0m\u001b[1;33m:\u001b[0m\u001b[1;33m\u001b[0m\u001b[1;33m\u001b[0m\u001b[0m\n",
      "\u001b[1;31mWebDriverException\u001b[0m: Message: chrome not reachable\n  (Session info: chrome=103.0.5060.53)\nStacktrace:\nBacktrace:\n\tOrdinal0 [0x00352733+2434867]\n\tOrdinal0 [0x002E07A1+1968033]\n\tOrdinal0 [0x001CC540+836928]\n\tOrdinal0 [0x001C01B2+786866]\n\tOrdinal0 [0x001C09E8+788968]\n\tOrdinal0 [0x001C22B2+795314]\n\tOrdinal0 [0x001BBCA9+769193]\n\tOrdinal0 [0x001CD9F0+842224]\n\tOrdinal0 [0x00224072+1196146]\n\tOrdinal0 [0x00214256+1131094]\n\tOrdinal0 [0x001EE840+976960]\n\tOrdinal0 [0x001EF736+980790]\n\tGetHandleVerifier [0x005C3C72+2515426]\n\tGetHandleVerifier [0x005B702F+2463135]\n\tGetHandleVerifier [0x003F522A+620442]\n\tGetHandleVerifier [0x003F4016+615814]\n\tOrdinal0 [0x002E707B+1994875]\n\tOrdinal0 [0x002EB938+2013496]\n\tOrdinal0 [0x002EBA25+2013733]\n\tOrdinal0 [0x002F4DE1+2051553]\n\tBaseThreadInitThunk [0x770CFA29+25]\n\tRtlGetAppContainerNamedObjectPath [0x77AC7A9E+286]\n\tRtlGetAppContainerNamedObjectPath [0x77AC7A6E+238]\n"
     ]
    }
   ],
   "source": [
    "from selenium.webdriver.chrome.options import Options\n",
    "chrome_options = Options()\n",
    "chrome_options.add_argument(\"--disable-popup-blocking\")\n",
    "driver=webdriver.Chrome(executable_path=\"C:\\Driver\\chromedriver_win32 (3)\\chromedriver.exe\",chrome_options=chrome_options)\n",
    "for UR in range(len(URL)):\n",
    "    driver.get(URL[UR+1])\n",
    "    driver.maximize_window()\n",
    "    time.sleep(5)\n",
    "    try:\n",
    "        p_name=driver.find_element_by_css_selector(\"body > div.content > div > main > section.product > div.radial-bg-green > div.product-info-wrapper.content-max-width > div.product-score-name-wrapper > h2\").text\n",
    "        Category=driver.find_elements_by_xpath(\"/html/body/div[2]/div/main/section[1]/div[1]/div[3]/div[2]/div[2]/a\")\n",
    "        cate=\"\"\n",
    "        coma=\"| \"\n",
    "        brand=Category[-1].text\n",
    "        for i in Category:\n",
    "            if i.text==brand or i.text==\"\":\n",
    "                continue\n",
    "            cate=i.text+coma+cate\n",
    "\n",
    "\n",
    "\n",
    "        dlu=driver.find_element_by_css_selector(\"body > div.content > div > main > section.product > div.radial-bg-green > div.product-info-wrapper.content-max-width > div.product-wrapper > div.product-lower > div > p:nth-child(2)\").text\n",
    "        wtb=driver.find_element_by_xpath(\"/html/body/div[2]/div/main/section[1]/div[1]/div[3]/div[2]/div[1]/ul\").text\n",
    "\n",
    "        # print(wtb)\n",
    "        div=driver.find_element_by_css_selector(\"body > div.content > div > main > section.product > div.radial-bg-green > div.product-info-wrapper.content-max-width > div.product-wrapper > div.product-upper\")\n",
    "        b_link=div.find_elements_by_class_name(\"btn\")\n",
    "        Purchasing_link=\"\"\n",
    "        for i in b_link:\n",
    "            Purchasing_link=i.get_attribute(\"href\")+coma+Purchasing_link\n",
    "        in_list=driver.find_elements_by_class_name(\"ingredient-overview-tr\")    \n",
    "        ingra=\"\"\n",
    "        for i in in_list:\n",
    "            ingra=ingra+coma+i.text\n",
    "\n",
    "        Dic={'product_name':p_name,'Category':cate,'brand':brand,'Data last Updated':dlu,'Where to buy':wtb,'Online link for purchasing':Purchasing_link,'ingradiants':ingra}\n",
    "        gc2 = gc2.append(Dic, ignore_index=True)\n",
    "        print(gc2)\n",
    "    except:\n",
    "        continue\n",
    "    "
   ]
  },
  {
   "cell_type": "code",
   "execution_count": 25,
   "metadata": {},
   "outputs": [],
   "source": [
    "driver.get(\"https://www.ewg.org/skindeep/product/992043/vivvi_%26_bloom_Baby_2-in-1_Wash_and_Shampoo%2C_Cleansing_Gel_/\")"
   ]
  },
  {
   "cell_type": "code",
   "execution_count": 15,
   "metadata": {},
   "outputs": [],
   "source": [
    "driver.maximize_window()"
   ]
  },
  {
   "cell_type": "code",
   "execution_count": null,
   "metadata": {},
   "outputs": [],
   "source": []
  }
 ],
 "metadata": {
  "kernelspec": {
   "display_name": "Python 3",
   "language": "python",
   "name": "python3"
  },
  "language_info": {
   "codemirror_mode": {
    "name": "ipython",
    "version": 3
   },
   "file_extension": ".py",
   "mimetype": "text/x-python",
   "name": "python",
   "nbconvert_exporter": "python",
   "pygments_lexer": "ipython3",
   "version": "3.9.0"
  }
 },
 "nbformat": 4,
 "nbformat_minor": 4
}
