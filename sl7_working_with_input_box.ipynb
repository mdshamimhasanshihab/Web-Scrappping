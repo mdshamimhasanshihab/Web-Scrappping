{
 "cells": [
  {
   "cell_type": "code",
   "execution_count": 1,
   "metadata": {
    "pycharm": {
     "is_executing": true,
     "name": "#%%\n"
    }
   },
   "outputs": [],
   "source": [
    "from selenium import webdriver\n",
    "import time\n",
    "from selenium.webdriver.common.keys import Keys"
   ]
  },
  {
   "cell_type": "code",
   "execution_count": 2,
   "metadata": {
    "pycharm": {
     "is_executing": true,
     "name": "#%%\n"
    }
   },
   "outputs": [
    {
     "name": "stderr",
     "output_type": "stream",
     "text": [
      "<ipython-input-2-3004ac0232e0>:1: DeprecationWarning: executable_path has been deprecated, please pass in a Service object\n",
      "  driver=webdriver.Chrome(executable_path=\"C:\\Driver\\chromedriver_win32 (3)\\chromedriver.exe\")\n"
     ]
    }
   ],
   "source": [
    "driver=webdriver.Chrome(executable_path=\"C:\\Driver\\chromedriver_win32 (3)\\chromedriver.exe\")\n",
    "driver.get(\"https://fs2.formsite.com/meherpavan/form2/index.html?1537702596407\")\n",
    "driver.maximize_window()"
   ]
  },
  {
   "cell_type": "code",
   "execution_count": 3,
   "metadata": {
    "pycharm": {
     "name": "#%%\n"
    }
   },
   "outputs": [
    {
     "name": "stderr",
     "output_type": "stream",
     "text": [
      "<ipython-input-3-a390fa22ac42>:1: DeprecationWarning: find_element_by_class_name is deprecated. Please use find_element(by=By.CLASS_NAME, value=name) instead\n",
      "  inputboxes=driver.find_element_by_class_name(\"text_field\")\n"
     ]
    }
   ],
   "source": [
    "inputboxes=driver.find_element_by_class_name(\"text_field\")"
   ]
  },
  {
   "cell_type": "code",
   "execution_count": 4,
   "metadata": {
    "pycharm": {
     "name": "#%%\n"
    }
   },
   "outputs": [
    {
     "name": "stderr",
     "output_type": "stream",
     "text": [
      "<ipython-input-4-ff8e0ec2a472>:1: DeprecationWarning: find_element_by_* commands are deprecated. Please use find_element() instead\n",
      "  driver.find_element_by_id('RESULT_TextField-1').send_keys('Shamim')\n",
      "<ipython-input-4-ff8e0ec2a472>:2: DeprecationWarning: find_element_by_* commands are deprecated. Please use find_element() instead\n",
      "  driver.find_element_by_id('RESULT_TextField-2').send_keys('Hasan')\n",
      "<ipython-input-4-ff8e0ec2a472>:3: DeprecationWarning: find_element_by_* commands are deprecated. Please use find_element() instead\n",
      "  driver.find_element_by_id('RESULT_TextField-3').send_keys('01784365872')\n"
     ]
    }
   ],
   "source": [
    "driver.find_element_by_id('RESULT_TextField-1').send_keys('Shamim')\n",
    "driver.find_element_by_id('RESULT_TextField-2').send_keys('Hasan')\n",
    "driver.find_element_by_id('RESULT_TextField-3').send_keys('01784365872')"
   ]
  },
  {
   "cell_type": "code",
   "execution_count": 7,
   "metadata": {
    "pycharm": {
     "name": "#%%\n"
    }
   },
   "outputs": [
    {
     "name": "stderr",
     "output_type": "stream",
     "text": [
      "<ipython-input-7-f44dac3b421b>:1: DeprecationWarning: find_element_by_css_selector is deprecated. Please use find_element(by=By.CSS_SELECTOR, value=css_selector) instead\n",
      "  driver.find_element_by_css_selector(\"#q26 > table > tbody > tr:nth-child(1) > td > label\").click()\n"
     ]
    }
   ],
   "source": [
    "driver.find_element_by_css_selector(\"#q26 > table > tbody > tr:nth-child(1) > td > label\").click()"
   ]
  },
  {
   "cell_type": "code",
   "execution_count": 26,
   "metadata": {
    "pycharm": {
     "name": "#%%\n"
    }
   },
   "outputs": [],
   "source": [
    "from selenium.webdriver.common.by import By\n",
    "clk=driver.find_element(By.ID,\"RESULT_CheckBox-8_0\")\n",
    "driver.execute_script(\"arguments[0].click();\", clk)\n",
    "clk1=driver.find_element(By.ID,\"RESULT_CheckBox-8_1\")\n",
    "driver.execute_script(\"arguments[0].click();\", clk1)"
   ]
  },
  {
   "cell_type": "code",
   "execution_count": 32,
   "metadata": {},
   "outputs": [],
   "source": [
    "clk2=driver.find_element(By.ID,\"RESULT_RadioButton-9\")\n",
    "from selenium.webdriver.support.ui import Select\n",
    "drp=Select(clk2)\n",
    "drp.select_by_visible_text(\"Morning\")"
   ]
  },
  {
   "cell_type": "code",
   "execution_count": 35,
   "metadata": {},
   "outputs": [
    {
     "name": "stdout",
     "output_type": "stream",
     "text": [
      "None\n"
     ]
    }
   ],
   "source": [
    "op=drp.select_by_value(\"Radio-2\")\n",
    "print(op)"
   ]
  },
  {
   "cell_type": "code",
   "execution_count": 38,
   "metadata": {},
   "outputs": [
    {
     "name": "stdout",
     "output_type": "stream",
     "text": [
      "\n",
      "Morning\n",
      "Afternoon\n",
      "Evening\n"
     ]
    }
   ],
   "source": [
    "drp.options\n",
    "for i in drp.options:\n",
    "    print(i.text)"
   ]
  },
  {
   "cell_type": "code",
   "execution_count": null,
   "metadata": {},
   "outputs": [],
   "source": []
  }
 ],
 "metadata": {
  "kernelspec": {
   "display_name": "Python 3",
   "language": "python",
   "name": "python3"
  },
  "language_info": {
   "codemirror_mode": {
    "name": "ipython",
    "version": 3
   },
   "file_extension": ".py",
   "mimetype": "text/x-python",
   "name": "python",
   "nbconvert_exporter": "python",
   "pygments_lexer": "ipython3",
   "version": "3.9.0"
  }
 },
 "nbformat": 4,
 "nbformat_minor": 4
}
