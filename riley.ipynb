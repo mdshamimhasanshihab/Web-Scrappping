{
 "cells": [
  {
   "cell_type": "code",
   "execution_count": 1,
   "id": "655b3c80",
   "metadata": {},
   "outputs": [],
   "source": [
    "from selenium import webdriver\n",
    "import time\n",
    "from selenium.webdriver.common.keys import Keys\n",
    "from selenium.webdriver.common.by import By\n",
    "import pandas as pd\n",
    "from selenium.webdriver.support.ui import Select"
   ]
  },
  {
   "cell_type": "code",
   "execution_count": 2,
   "id": "8c42b2bb",
   "metadata": {},
   "outputs": [],
   "source": [
    "import undetected_chromedriver as uc\n",
    "driver = uc.Chrome()"
   ]
  },
  {
   "cell_type": "code",
   "execution_count": 3,
   "id": "674ef931",
   "metadata": {},
   "outputs": [
    {
     "name": "stderr",
     "output_type": "stream",
     "text": [
      "C:\\Users\\User\\AppData\\Local\\Temp\\ipykernel_18248\\759209450.py:1: FutureWarning: Inferring datetime64[ns] from data containing strings is deprecated and will be removed in a future version. To retain the old behavior explicitly pass Series(data, dtype=datetime64[ns])\n",
      "  importing_excel=pd.read_excel(\"aaa.xlsx\")\n"
     ]
    }
   ],
   "source": [
    "importing_excel=pd.read_excel(\"aaa.xlsx\")"
   ]
  },
  {
   "cell_type": "code",
   "execution_count": 4,
   "id": "1cc679ee",
   "metadata": {},
   "outputs": [],
   "source": [
    "driver.get(\"https://www.google.com/\")"
   ]
  },
  {
   "cell_type": "code",
   "execution_count": 5,
   "id": "a68e5d0c",
   "metadata": {},
   "outputs": [
    {
     "name": "stdout",
     "output_type": "stream",
     "text": [
      "Belmont-Redwood Shores Elementary school district 403(b)\n"
     ]
    }
   ],
   "source": [
    "search_box=driver.find_element(By.CSS_SELECTOR,\"#APjFqb\")\n",
    "search_text1=importing_excel.Name[0]+\" \"+\"school district 403(b)\"\n",
    "print(search_text1)"
   ]
  },
  {
   "cell_type": "code",
   "execution_count": 6,
   "id": "ccfae7f0",
   "metadata": {},
   "outputs": [],
   "source": [
    "search_box.send_keys(search_text1)\n",
    "search_box.send_keys(Keys.ENTER)"
   ]
  },
  {
   "cell_type": "code",
   "execution_count": null,
   "id": "bdab698a",
   "metadata": {},
   "outputs": [],
   "source": []
  },
  {
   "cell_type": "code",
   "execution_count": null,
   "id": "5e2237b4",
   "metadata": {},
   "outputs": [],
   "source": []
  },
  {
   "cell_type": "code",
   "execution_count": null,
   "id": "4ccb756a",
   "metadata": {},
   "outputs": [],
   "source": []
  },
  {
   "cell_type": "code",
   "execution_count": null,
   "id": "17697bd7",
   "metadata": {},
   "outputs": [],
   "source": []
  },
  {
   "cell_type": "code",
   "execution_count": null,
   "id": "bd378eae",
   "metadata": {},
   "outputs": [],
   "source": []
  },
  {
   "cell_type": "code",
   "execution_count": 32,
   "id": "88672489",
   "metadata": {},
   "outputs": [],
   "source": [
    "row=driver.find_elements(By.CSS_SELECTOR,\"#board-content-component_currentBoard > div > div > div:nth-child(n)\")"
   ]
  },
  {
   "cell_type": "code",
   "execution_count": 33,
   "id": "a8d946bb",
   "metadata": {},
   "outputs": [],
   "source": [
    "item=row[0].find_elements(By.TAG_NAME,\"div\")"
   ]
  },
  {
   "cell_type": "code",
   "execution_count": 34,
   "id": "ed435736",
   "metadata": {},
   "outputs": [
    {
     "data": {
      "text/plain": [
       "0"
      ]
     },
     "execution_count": 34,
     "metadata": {},
     "output_type": "execute_result"
    }
   ],
   "source": [
    "len(item)"
   ]
  },
  {
   "cell_type": "code",
   "execution_count": 41,
   "id": "aa8e9a04",
   "metadata": {},
   "outputs": [],
   "source": [
    "importing_excel=pd.read_excel(\"Territories_1678347107.xlsx\")"
   ]
  },
  {
   "cell_type": "code",
   "execution_count": 43,
   "id": "04ebcbb4",
   "metadata": {},
   "outputs": [],
   "source": [
    "driver.get(\"https://www.google.com/\")"
   ]
  },
  {
   "cell_type": "code",
   "execution_count": 46,
   "id": "ba9f9c20",
   "metadata": {},
   "outputs": [],
   "source": [
    "search_box=driver.find_element(By.CSS_SELECTOR,\"#APjFqb\")"
   ]
  },
  {
   "cell_type": "code",
   "execution_count": 50,
   "id": "7ed1e696",
   "metadata": {},
   "outputs": [
    {
     "name": "stdout",
     "output_type": "stream",
     "text": [
      "Baldwin County school district 403(b)\n"
     ]
    }
   ],
   "source": [
    "search_text1=importing_excel.Name[0]+\" \"+\"school district 403(b)\"\n",
    "print(search_text1)"
   ]
  },
  {
   "cell_type": "code",
   "execution_count": 53,
   "id": "50ecf334",
   "metadata": {},
   "outputs": [],
   "source": [
    "search_box.send_keys(search_text1)\n",
    "search_box.send_keys(Keys.ENTER)"
   ]
  },
  {
   "cell_type": "code",
   "execution_count": 64,
   "id": "07af70d1",
   "metadata": {},
   "outputs": [],
   "source": [
    "links=driver.find_elements(By.CLASS_NAME,\"yuRUbf\")"
   ]
  },
  {
   "cell_type": "code",
   "execution_count": 66,
   "id": "bc5b61c2",
   "metadata": {},
   "outputs": [
    {
     "name": "stdout",
     "output_type": "stream",
     "text": [
      "https://www.bcbe.org/site/default.aspx?PageType=3&ModuleInstanceID=501&ViewID=C9E0416E-F0E7-4626-AA7B-C14D59F72F85&RenderLoc=0&FlexDataID=397&PageID=387&Comments=true\n",
      "https://www.bcbe.org/site/handlers/filedownload.ashx?moduleinstanceid=501&dataid=397&FileName=20180207_084505.pdf\n",
      "https://baldwincountyschoolsbenefits.com/\n",
      "https://www.gcpsk12.org/Page/24698\n",
      "https://baldwincountyal.gov/docs/default-source/personnel-department/employee-benefits/insurance_retirement_supplemental-benefits/ers_employee_handbook.pdf?sfvrsn=7293bf0c_0\n",
      "https://www.schoolsfirstfcu.org/products/just-for-school-employees/retirement-plan-administration/districts-we-serve/los-angeles-county/\n",
      "https://www.tsacg.com/individual/plan-sponsor/michigan/tri-county-area-schools/\n",
      "https://dcps.duvalschools.org/Page/28238\n",
      "https://calstrspension2.voya.com/einfo/pdfs/forms/caltia/401737/CZ400CZ2ENROLLN.pdf\n"
     ]
    }
   ],
   "source": [
    "for i in (links):\n",
    "    print(i.find_element(By.TAG_NAME,\"a\").get_attribute(\"href\"))"
   ]
  },
  {
   "cell_type": "code",
   "execution_count": 78,
   "id": "299639fb",
   "metadata": {},
   "outputs": [
    {
     "name": "stdout",
     "output_type": "stream",
     "text": [
      "https://www.tsacg.com/individual/plan-sponsor/New York/NORTHPORT\n"
     ]
    }
   ],
   "source": [
    "state=\"\n",
    "print(state)"
   ]
  },
  {
   "cell_type": "code",
   "execution_count": 83,
   "id": "ac83aeb4",
   "metadata": {},
   "outputs": [],
   "source": [
    "driver.get(\"https://www.tsacg.com/individual/plan-sponsor\")\n"
   ]
  },
  {
   "cell_type": "code",
   "execution_count": 85,
   "id": "32d821c4",
   "metadata": {},
   "outputs": [],
   "source": [
    "state=driver.find_element(By.PARTIAL_LINK_TEXT,\"New\")"
   ]
  },
  {
   "cell_type": "code",
   "execution_count": null,
   "id": "19995e9c",
   "metadata": {},
   "outputs": [],
   "source": []
  }
 ],
 "metadata": {
  "kernelspec": {
   "display_name": "Python 3 (ipykernel)",
   "language": "python",
   "name": "python3"
  },
  "language_info": {
   "codemirror_mode": {
    "name": "ipython",
    "version": 3
   },
   "file_extension": ".py",
   "mimetype": "text/x-python",
   "name": "python",
   "nbconvert_exporter": "python",
   "pygments_lexer": "ipython3",
   "version": "3.10.6"
  }
 },
 "nbformat": 4,
 "nbformat_minor": 5
}
