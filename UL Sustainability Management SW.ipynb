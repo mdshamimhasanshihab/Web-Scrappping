{
 "cells": [
  {
   "cell_type": "code",
   "execution_count": 2,
   "id": "d7d3db74",
   "metadata": {},
   "outputs": [],
   "source": [
    "from selenium import webdriver\n",
    "import time\n",
    "from selenium.webdriver.common.keys import Keys\n",
    "from selenium.webdriver.common.by import By\n",
    "import pandas as pd\n",
    "from selenium.webdriver.support.ui import Select"
   ]
  },
  {
   "cell_type": "code",
   "execution_count": 71,
   "id": "0ad17cd1",
   "metadata": {},
   "outputs": [
    {
     "name": "stderr",
     "output_type": "stream",
     "text": [
      "C:\\Users\\User\\AppData\\Local\\Temp\\ipykernel_3988\\2474747822.py:1: DeprecationWarning: executable_path has been deprecated, please pass in a Service object\n",
      "  driver=webdriver.Chrome(executable_path=\"C:/Driver/cc/chromedriver.exe\")\n"
     ]
    }
   ],
   "source": [
    "driver=webdriver.Chrome(executable_path=\"C:/Driver/cc/chromedriver.exe\")\n",
    "driver.get(\"https://www.ul.com/services/esg-and-sustainability-management-software\")\n",
    "driver.maximize_window()"
   ]
  },
  {
   "cell_type": "code",
   "execution_count": 76,
   "id": "cc491a62",
   "metadata": {},
   "outputs": [],
   "source": [
    "industries=driver.find_elements(By.CSS_SELECTOR,\"body > div.dialog-off-canvas-main-canvas > div.global-header--fix.auto-hide-header > div.region.region-header-after > div > section:nth-child(7) > div.wrapper > div > div.nav__content.span-12 > div > div.nav__menu.span-12.span-12-ld.full-menu-section.col-count-4 > ul > li:nth-child(n)\")\n"
   ]
  },
  {
   "cell_type": "code",
   "execution_count": 77,
   "id": "9880b91c",
   "metadata": {},
   "outputs": [
    {
     "name": "stdout",
     "output_type": "stream",
     "text": [
      "12\n"
     ]
    }
   ],
   "source": [
    "print(len(industries))"
   ]
  },
  {
   "cell_type": "code",
   "execution_count": 78,
   "id": "0ee4a644",
   "metadata": {},
   "outputs": [],
   "source": [
    "Dic = {}\n",
    "gc= pd.DataFrame(data=Dic,index=[0],columns=['Category','Link'])"
   ]
  },
  {
   "cell_type": "code",
   "execution_count": 79,
   "id": "2ef24985",
   "metadata": {},
   "outputs": [
    {
     "name": "stdout",
     "output_type": "stream",
     "text": [
      "https://www.ul.com/industries/automotive-and-mobility/automotive-and-commercial-vehicles\n",
      "https://www.ul.com/industries/automotive-and-mobility/e-mobility\n",
      "https://www.ul.com/industries/automotive-and-mobility/micromobility-device-testing-and-certification\n"
     ]
    },
    {
     "name": "stderr",
     "output_type": "stream",
     "text": [
      "C:\\Users\\User\\AppData\\Local\\Temp\\ipykernel_3988\\222190392.py:8: FutureWarning: The frame.append method is deprecated and will be removed from pandas in a future version. Use pandas.concat instead.\n",
      "  gc = gc.append(Dic, ignore_index=True)\n",
      "C:\\Users\\User\\AppData\\Local\\Temp\\ipykernel_3988\\222190392.py:8: FutureWarning: The frame.append method is deprecated and will be removed from pandas in a future version. Use pandas.concat instead.\n",
      "  gc = gc.append(Dic, ignore_index=True)\n",
      "C:\\Users\\User\\AppData\\Local\\Temp\\ipykernel_3988\\222190392.py:8: FutureWarning: The frame.append method is deprecated and will be removed from pandas in a future version. Use pandas.concat instead.\n",
      "  gc = gc.append(Dic, ignore_index=True)\n"
     ]
    },
    {
     "name": "stdout",
     "output_type": "stream",
     "text": [
      "https://www.ul.com/industries/building-and-construction/architecture-engineering-and-construction\n",
      "https://www.ul.com/industries/building-and-construction/building-envelope-testing-commissioning-and-advisory-services\n",
      "https://www.ul.com/industries/building-and-construction/building-products-and-systems\n",
      "https://www.ul.com/industries/chemicals-and-materials/basic-and-industrial-chemicals\n"
     ]
    },
    {
     "name": "stderr",
     "output_type": "stream",
     "text": [
      "C:\\Users\\User\\AppData\\Local\\Temp\\ipykernel_3988\\222190392.py:8: FutureWarning: The frame.append method is deprecated and will be removed from pandas in a future version. Use pandas.concat instead.\n",
      "  gc = gc.append(Dic, ignore_index=True)\n",
      "C:\\Users\\User\\AppData\\Local\\Temp\\ipykernel_3988\\222190392.py:8: FutureWarning: The frame.append method is deprecated and will be removed from pandas in a future version. Use pandas.concat instead.\n",
      "  gc = gc.append(Dic, ignore_index=True)\n",
      "C:\\Users\\User\\AppData\\Local\\Temp\\ipykernel_3988\\222190392.py:8: FutureWarning: The frame.append method is deprecated and will be removed from pandas in a future version. Use pandas.concat instead.\n",
      "  gc = gc.append(Dic, ignore_index=True)\n",
      "C:\\Users\\User\\AppData\\Local\\Temp\\ipykernel_3988\\222190392.py:8: FutureWarning: The frame.append method is deprecated and will be removed from pandas in a future version. Use pandas.concat instead.\n",
      "  gc = gc.append(Dic, ignore_index=True)\n"
     ]
    },
    {
     "name": "stdout",
     "output_type": "stream",
     "text": [
      "https://www.ul.com/industries/chemicals-and-materials/plastics-and-engineered-materials\n",
      "https://www.ul.com/industries/chemicals-and-materials/specialty-and-fine-chemicals\n",
      "https://www.ul.com/industries/energy-and-utilities/batteries-and-energy-storage\n",
      "https://www.ul.com/industries/energy-and-utilities/energy-equipment\n"
     ]
    },
    {
     "name": "stderr",
     "output_type": "stream",
     "text": [
      "C:\\Users\\User\\AppData\\Local\\Temp\\ipykernel_3988\\222190392.py:8: FutureWarning: The frame.append method is deprecated and will be removed from pandas in a future version. Use pandas.concat instead.\n",
      "  gc = gc.append(Dic, ignore_index=True)\n",
      "C:\\Users\\User\\AppData\\Local\\Temp\\ipykernel_3988\\222190392.py:8: FutureWarning: The frame.append method is deprecated and will be removed from pandas in a future version. Use pandas.concat instead.\n",
      "  gc = gc.append(Dic, ignore_index=True)\n",
      "C:\\Users\\User\\AppData\\Local\\Temp\\ipykernel_3988\\222190392.py:8: FutureWarning: The frame.append method is deprecated and will be removed from pandas in a future version. Use pandas.concat instead.\n",
      "  gc = gc.append(Dic, ignore_index=True)\n",
      "C:\\Users\\User\\AppData\\Local\\Temp\\ipykernel_3988\\222190392.py:8: FutureWarning: The frame.append method is deprecated and will be removed from pandas in a future version. Use pandas.concat instead.\n",
      "  gc = gc.append(Dic, ignore_index=True)\n"
     ]
    },
    {
     "name": "stdout",
     "output_type": "stream",
     "text": [
      "https://www.ul.com/industries/energy-and-utilities/oil-and-gas\n",
      "https://www.ul.com/industries/energy-and-utilities/power-distribution\n",
      "https://www.ul.com/industries/energy-and-utilities/renewables\n",
      "https://www.ul.com/industries/healthcare-and-life-sciences/health-and-wellness-retail\n"
     ]
    },
    {
     "name": "stderr",
     "output_type": "stream",
     "text": [
      "C:\\Users\\User\\AppData\\Local\\Temp\\ipykernel_3988\\222190392.py:8: FutureWarning: The frame.append method is deprecated and will be removed from pandas in a future version. Use pandas.concat instead.\n",
      "  gc = gc.append(Dic, ignore_index=True)\n",
      "C:\\Users\\User\\AppData\\Local\\Temp\\ipykernel_3988\\222190392.py:8: FutureWarning: The frame.append method is deprecated and will be removed from pandas in a future version. Use pandas.concat instead.\n",
      "  gc = gc.append(Dic, ignore_index=True)\n",
      "C:\\Users\\User\\AppData\\Local\\Temp\\ipykernel_3988\\222190392.py:8: FutureWarning: The frame.append method is deprecated and will be removed from pandas in a future version. Use pandas.concat instead.\n",
      "  gc = gc.append(Dic, ignore_index=True)\n",
      "C:\\Users\\User\\AppData\\Local\\Temp\\ipykernel_3988\\222190392.py:8: FutureWarning: The frame.append method is deprecated and will be removed from pandas in a future version. Use pandas.concat instead.\n",
      "  gc = gc.append(Dic, ignore_index=True)\n"
     ]
    },
    {
     "name": "stdout",
     "output_type": "stream",
     "text": [
      "https://www.ul.com/industries/healthcare-and-life-sciences/healthcare-providers\n",
      "https://www.ul.com/industries/healthcare-and-life-sciences/healthtech\n",
      "https://www.ul.com/industries/healthcare-and-life-sciences/medtech\n",
      "https://www.ul.com/industries/healthcare-and-life-sciences/pharmaceuticals-and-biotech\n"
     ]
    },
    {
     "name": "stderr",
     "output_type": "stream",
     "text": [
      "C:\\Users\\User\\AppData\\Local\\Temp\\ipykernel_3988\\222190392.py:8: FutureWarning: The frame.append method is deprecated and will be removed from pandas in a future version. Use pandas.concat instead.\n",
      "  gc = gc.append(Dic, ignore_index=True)\n",
      "C:\\Users\\User\\AppData\\Local\\Temp\\ipykernel_3988\\222190392.py:8: FutureWarning: The frame.append method is deprecated and will be removed from pandas in a future version. Use pandas.concat instead.\n",
      "  gc = gc.append(Dic, ignore_index=True)\n",
      "C:\\Users\\User\\AppData\\Local\\Temp\\ipykernel_3988\\222190392.py:8: FutureWarning: The frame.append method is deprecated and will be removed from pandas in a future version. Use pandas.concat instead.\n",
      "  gc = gc.append(Dic, ignore_index=True)\n",
      "C:\\Users\\User\\AppData\\Local\\Temp\\ipykernel_3988\\222190392.py:8: FutureWarning: The frame.append method is deprecated and will be removed from pandas in a future version. Use pandas.concat instead.\n",
      "  gc = gc.append(Dic, ignore_index=True)\n"
     ]
    },
    {
     "name": "stdout",
     "output_type": "stream",
     "text": [
      "https://www.ul.com/industries/industrial-products-and-systems/industrial-machinery-and-automation\n",
      "https://www.ul.com/industries/industrial-products-and-systems/instruments-and-controls\n",
      "https://www.ul.com/industries/industrial-products-and-systems/low-and-medium-voltage-distribution\n",
      "https://www.ul.com/industries/industrial-products-and-systems/manufacturing-facilities\n"
     ]
    },
    {
     "name": "stderr",
     "output_type": "stream",
     "text": [
      "C:\\Users\\User\\AppData\\Local\\Temp\\ipykernel_3988\\222190392.py:8: FutureWarning: The frame.append method is deprecated and will be removed from pandas in a future version. Use pandas.concat instead.\n",
      "  gc = gc.append(Dic, ignore_index=True)\n",
      "C:\\Users\\User\\AppData\\Local\\Temp\\ipykernel_3988\\222190392.py:8: FutureWarning: The frame.append method is deprecated and will be removed from pandas in a future version. Use pandas.concat instead.\n",
      "  gc = gc.append(Dic, ignore_index=True)\n",
      "C:\\Users\\User\\AppData\\Local\\Temp\\ipykernel_3988\\222190392.py:8: FutureWarning: The frame.append method is deprecated and will be removed from pandas in a future version. Use pandas.concat instead.\n",
      "  gc = gc.append(Dic, ignore_index=True)\n",
      "C:\\Users\\User\\AppData\\Local\\Temp\\ipykernel_3988\\222190392.py:8: FutureWarning: The frame.append method is deprecated and will be removed from pandas in a future version. Use pandas.concat instead.\n",
      "  gc = gc.append(Dic, ignore_index=True)\n"
     ]
    },
    {
     "name": "stdout",
     "output_type": "stream",
     "text": [
      "https://www.ul.com/industries/technology-and-electronics/consumer-electronics\n",
      "https://www.ul.com/industries/technology-and-electronics/information-and-communications-technology\n",
      "https://www.ul.com/industries/products-and-components/appliances\n"
     ]
    },
    {
     "name": "stderr",
     "output_type": "stream",
     "text": [
      "C:\\Users\\User\\AppData\\Local\\Temp\\ipykernel_3988\\222190392.py:8: FutureWarning: The frame.append method is deprecated and will be removed from pandas in a future version. Use pandas.concat instead.\n",
      "  gc = gc.append(Dic, ignore_index=True)\n",
      "C:\\Users\\User\\AppData\\Local\\Temp\\ipykernel_3988\\222190392.py:8: FutureWarning: The frame.append method is deprecated and will be removed from pandas in a future version. Use pandas.concat instead.\n",
      "  gc = gc.append(Dic, ignore_index=True)\n",
      "C:\\Users\\User\\AppData\\Local\\Temp\\ipykernel_3988\\222190392.py:8: FutureWarning: The frame.append method is deprecated and will be removed from pandas in a future version. Use pandas.concat instead.\n",
      "  gc = gc.append(Dic, ignore_index=True)\n"
     ]
    },
    {
     "name": "stdout",
     "output_type": "stream",
     "text": [
      "https://www.ul.com/industries/products-and-components/batteries\n",
      "https://www.ul.com/industries/products-and-components/beauty-and-personal-care\n",
      "https://www.ul.com/industries/products-and-components/components\n",
      "https://www.ul.com/industries/products-and-components/consumer-packaged-goods\n"
     ]
    },
    {
     "name": "stderr",
     "output_type": "stream",
     "text": [
      "C:\\Users\\User\\AppData\\Local\\Temp\\ipykernel_3988\\222190392.py:8: FutureWarning: The frame.append method is deprecated and will be removed from pandas in a future version. Use pandas.concat instead.\n",
      "  gc = gc.append(Dic, ignore_index=True)\n",
      "C:\\Users\\User\\AppData\\Local\\Temp\\ipykernel_3988\\222190392.py:8: FutureWarning: The frame.append method is deprecated and will be removed from pandas in a future version. Use pandas.concat instead.\n",
      "  gc = gc.append(Dic, ignore_index=True)\n",
      "C:\\Users\\User\\AppData\\Local\\Temp\\ipykernel_3988\\222190392.py:8: FutureWarning: The frame.append method is deprecated and will be removed from pandas in a future version. Use pandas.concat instead.\n",
      "  gc = gc.append(Dic, ignore_index=True)\n",
      "C:\\Users\\User\\AppData\\Local\\Temp\\ipykernel_3988\\222190392.py:8: FutureWarning: The frame.append method is deprecated and will be removed from pandas in a future version. Use pandas.concat instead.\n",
      "  gc = gc.append(Dic, ignore_index=True)\n"
     ]
    },
    {
     "name": "stdout",
     "output_type": "stream",
     "text": [
      "https://www.ul.com/industries/products-and-components/furniture\n",
      "https://www.ul.com/industries/products-and-components/general-merchandise\n",
      "https://www.ul.com/industries/products-and-components/hvacr\n",
      "https://www.ul.com/industries/products-and-components/household-and-industrial-cleaners\n"
     ]
    },
    {
     "name": "stderr",
     "output_type": "stream",
     "text": [
      "C:\\Users\\User\\AppData\\Local\\Temp\\ipykernel_3988\\222190392.py:8: FutureWarning: The frame.append method is deprecated and will be removed from pandas in a future version. Use pandas.concat instead.\n",
      "  gc = gc.append(Dic, ignore_index=True)\n",
      "C:\\Users\\User\\AppData\\Local\\Temp\\ipykernel_3988\\222190392.py:8: FutureWarning: The frame.append method is deprecated and will be removed from pandas in a future version. Use pandas.concat instead.\n",
      "  gc = gc.append(Dic, ignore_index=True)\n",
      "C:\\Users\\User\\AppData\\Local\\Temp\\ipykernel_3988\\222190392.py:8: FutureWarning: The frame.append method is deprecated and will be removed from pandas in a future version. Use pandas.concat instead.\n",
      "  gc = gc.append(Dic, ignore_index=True)\n",
      "C:\\Users\\User\\AppData\\Local\\Temp\\ipykernel_3988\\222190392.py:8: FutureWarning: The frame.append method is deprecated and will be removed from pandas in a future version. Use pandas.concat instead.\n",
      "  gc = gc.append(Dic, ignore_index=True)\n"
     ]
    },
    {
     "name": "stdout",
     "output_type": "stream",
     "text": [
      "https://www.ul.com/industries/products-and-components/lighting\n",
      "https://www.ul.com/industries/products-and-components/otc-and-dietary-supplements\n",
      "https://www.ul.com/industries/products-and-components/textiles-apparel-and-footwear\n"
     ]
    },
    {
     "name": "stderr",
     "output_type": "stream",
     "text": [
      "C:\\Users\\User\\AppData\\Local\\Temp\\ipykernel_3988\\222190392.py:8: FutureWarning: The frame.append method is deprecated and will be removed from pandas in a future version. Use pandas.concat instead.\n",
      "  gc = gc.append(Dic, ignore_index=True)\n",
      "C:\\Users\\User\\AppData\\Local\\Temp\\ipykernel_3988\\222190392.py:8: FutureWarning: The frame.append method is deprecated and will be removed from pandas in a future version. Use pandas.concat instead.\n",
      "  gc = gc.append(Dic, ignore_index=True)\n",
      "C:\\Users\\User\\AppData\\Local\\Temp\\ipykernel_3988\\222190392.py:8: FutureWarning: The frame.append method is deprecated and will be removed from pandas in a future version. Use pandas.concat instead.\n",
      "  gc = gc.append(Dic, ignore_index=True)\n"
     ]
    },
    {
     "name": "stdout",
     "output_type": "stream",
     "text": [
      "https://www.ul.com/industries/products-and-components/toys-and-childrens-products\n",
      "https://www.ul.com/industries/products-and-components/water-and-plumbing\n",
      "https://www.ul.com/services/wire-and-cable-testing-certification\n"
     ]
    },
    {
     "name": "stderr",
     "output_type": "stream",
     "text": [
      "C:\\Users\\User\\AppData\\Local\\Temp\\ipykernel_3988\\222190392.py:8: FutureWarning: The frame.append method is deprecated and will be removed from pandas in a future version. Use pandas.concat instead.\n",
      "  gc = gc.append(Dic, ignore_index=True)\n",
      "C:\\Users\\User\\AppData\\Local\\Temp\\ipykernel_3988\\222190392.py:8: FutureWarning: The frame.append method is deprecated and will be removed from pandas in a future version. Use pandas.concat instead.\n",
      "  gc = gc.append(Dic, ignore_index=True)\n",
      "C:\\Users\\User\\AppData\\Local\\Temp\\ipykernel_3988\\222190392.py:8: FutureWarning: The frame.append method is deprecated and will be removed from pandas in a future version. Use pandas.concat instead.\n",
      "  gc = gc.append(Dic, ignore_index=True)\n"
     ]
    }
   ],
   "source": [
    "for i in industries:\n",
    "    categories=i.find_elements(By.TAG_NAME,\"li\")\n",
    "    for a in categories:\n",
    "        category=a.text\n",
    "        link=a.find_element(By.TAG_NAME,\"a\").get_attribute(\"href\")\n",
    "        print(link)\n",
    "        Dic={'Category':category,'Link':link}\n",
    "        gc = gc.append(Dic, ignore_index=True)\n",
    "        "
   ]
  },
  {
   "cell_type": "code",
   "execution_count": 37,
   "id": "5c545b76",
   "metadata": {},
   "outputs": [
    {
     "name": "stdout",
     "output_type": "stream",
     "text": [
      "https://www.ul.com/industries/automotive-and-mobility/e-mobility\n"
     ]
    }
   ],
   "source": [
    "url=gc.Link[2]\n",
    "cate=gc.Category[2]\n",
    "print(url)"
   ]
  },
  {
   "cell_type": "code",
   "execution_count": 80,
   "id": "1c6a9b73",
   "metadata": {},
   "outputs": [],
   "source": [
    "gc.to_excel(\"UL Sustainability Management SW_08_09_22.xlsx\")"
   ]
  },
  {
   "cell_type": "code",
   "execution_count": 68,
   "id": "8a8bea3b",
   "metadata": {},
   "outputs": [
    {
     "name": "stdout",
     "output_type": "stream",
     "text": [
      "<selenium.webdriver.remote.webelement.WebElement (session=\"f74b002623f3817a7d91f1d4864d871a\", element=\"ffe6910c-f354-4789-9e70-54d6b7f960e8\")>\n"
     ]
    }
   ],
   "source": [
    "servicess=driver.find_elements(By.TAG_NAME,\"section\")[1]\n",
    "print(servicess)\n",
    "# div1=servicess.find_elements(By.TAG_NAME,\"div\")[10]\n",
    "# div2=div1.find_element(By.TAG_NAME,\"a\")\n",
    "# print(div2.get_attribute(\"href\"))"
   ]
  },
  {
   "cell_type": "code",
   "execution_count": 31,
   "id": "a4f37ae4",
   "metadata": {},
   "outputs": [],
   "source": [
    "for i in servicess:\n",
    "    print(i)"
   ]
  },
  {
   "cell_type": "code",
   "execution_count": null,
   "id": "2eb883ac",
   "metadata": {},
   "outputs": [],
   "source": []
  }
 ],
 "metadata": {
  "kernelspec": {
   "display_name": "Python 3 (ipykernel)",
   "language": "python",
   "name": "python3"
  },
  "language_info": {
   "codemirror_mode": {
    "name": "ipython",
    "version": 3
   },
   "file_extension": ".py",
   "mimetype": "text/x-python",
   "name": "python",
   "nbconvert_exporter": "python",
   "pygments_lexer": "ipython3",
   "version": "3.10.6"
  }
 },
 "nbformat": 4,
 "nbformat_minor": 5
}
