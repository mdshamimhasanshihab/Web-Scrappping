{
 "cells": [
  {
   "cell_type": "code",
   "execution_count": 48,
   "metadata": {},
   "outputs": [],
   "source": [
    "from selenium import webdriver\n",
    "import time\n",
    "from selenium.webdriver.common.keys import Keys"
   ]
  },
  {
   "cell_type": "code",
   "execution_count": 49,
   "metadata": {},
   "outputs": [
    {
     "name": "stderr",
     "output_type": "stream",
     "text": [
      "<ipython-input-49-5d70705ec755>:1: DeprecationWarning: executable_path has been deprecated, please pass in a Service object\n",
      "  driver=webdriver.Chrome(executable_path=\"C:\\Driver\\chromedriver_win32 (3)\\chromedriver.exe\")\n"
     ]
    }
   ],
   "source": [
    "driver=webdriver.Chrome(executable_path=\"C:\\Driver\\chromedriver_win32 (3)\\chromedriver.exe\")\n",
    "driver.get(\"https://www.ecomark.jp/nintei/index_en.html\")"
   ]
  },
  {
   "cell_type": "code",
   "execution_count": 50,
   "metadata": {},
   "outputs": [],
   "source": [
    "from selenium.webdriver.common.by import By\n",
    "links=driver.find_elements(By.TAG_NAME,\"a\")"
   ]
  },
  {
   "cell_type": "code",
   "execution_count": 51,
   "metadata": {
    "scrolled": false
   },
   "outputs": [
    {
     "name": "stdout",
     "output_type": "stream",
     "text": [
      "https://www.ecomark.jp/nintei/pdf/e101V1_cover.pdf\n",
      "https://www.ecomark.jp/nintei/pdf/e101V1_A_a.pdf\n",
      "https://www.ecomark.jp/nintei/pdf/e101V1_B_a.pdf\n",
      "https://www.ecomark.jp/nintei/pdf/e101V1_C_a.pdf\n",
      "https://www.ecomark.jp/nintei/pdf/e101V1_D_a.pdf\n",
      "https://www.ecomark.jp/nintei/pdf/e101V1_E_a.pdf\n",
      "https://www.ecomark.jp/nintei/pdf/e101V1_F_a.pdf\n",
      "https://www.ecomark.jp/nintei/pdf/e102V2_a.pdf\n",
      "https://www.ecomark.jp/nintei/pdf/e103V3_a.pdf\n",
      "https://www.ecomark.jp/nintei/word/e103V3_c.docx\n",
      "https://www.ecomark.jp/nintei/excel/e103V3_c.xls\n",
      "https://www.ecomark.jp/nintei/pdf/e104V3_a.pdf\n",
      "https://www.ecomark.jp/nintei/word/e104V3_c.doc\n",
      "https://www.ecomark.jp/nintei/excel/e104V3_c.xls\n",
      "https://www.ecomark.jp/nintei/pdf/e105V3_a.pdf\n",
      "https://www.ecomark.jp/nintei/pdf/e106V3_a.pdf\n",
      "https://www.ecomark.jp/nintei/pdf/e107V3_a.pdf\n",
      "https://www.ecomark.jp/nintei/pdf/e108V2_a.pdf\n",
      "https://www.ecomark.jp/nintei/109/e109V2_a.pdf\n",
      "https://www.ecomark.jp/nintei/pdf/e110V2_a.pdf\n",
      "https://www.ecomark.jp/nintei/word/e110V2_c.doc\n",
      "https://www.ecomark.jp/nintei/pdf/e111V2_a.pdf\n",
      "https://www.ecomark.jp/nintei/pdf/e112V2_a.pdf\n",
      "https://www.ecomark.jp/nintei/word/e112V2_c.doc\n",
      "https://www.ecomark.jp/nintei/pdf/e113V3_a.pdf\n",
      "https://www.ecomark.jp/nintei/pdf/e114V2_a.pdf\n",
      "https://www.ecomark.jp/nintei/pdf/e115V2_a.pdf\n",
      "https://www.ecomark.jp/nintei/pdf/e118V2_a.pdf\n",
      "https://www.ecomark.jp/nintei/word/e118V2_c.doc\n",
      "https://www.ecomark.jp/nintei/pdf/e119V3_a.pdf\n",
      "https://www.ecomark.jp/nintei/pdf/e120V2_a.pdf\n",
      "https://www.ecomark.jp/nintei/pdf/e121V2_cover.pdf\n",
      "https://www.ecomark.jp/nintei/pdf/e121V2_A_a.pdf\n",
      "https://www.ecomark.jp/nintei/pdf/e121V2_B_a.pdf\n",
      "https://www.ecomark.jp/nintei/pdf/e121V2_C_a.pdf\n",
      "https://www.ecomark.jp/nintei/pdf/e121V2_D_a.pdf\n",
      "https://www.ecomark.jp/nintei/pdf/e121V2_E_a.pdf\n",
      "https://www.ecomark.jp/nintei/pdf/e121V2_F_a.pdf\n",
      "https://www.ecomark.jp/nintei/pdf/e121V2_G_a.pdf\n",
      "https://www.ecomark.jp/nintei/pdf/e121V2_H_a.pdf\n",
      "https://www.ecomark.jp/nintei/pdf/e123V2_cover.pdf\n",
      "https://www.ecomark.jp/nintei/pdf/e123V2_A_a.pdf\n",
      "https://www.ecomark.jp/nintei/pdf/e123V2_B_a.pdf\n",
      "https://www.ecomark.jp/nintei/pdf/e123V2_C_a.pdf\n",
      "https://www.ecomark.jp/nintei/pdf/e123V2_D_a.pdf\n",
      "https://www.ecomark.jp/nintei/pdf/e124V2_a.pdf\n",
      "https://www.ecomark.jp/nintei/pdf/e125V1_A_a.pdf\n",
      "https://www.ecomark.jp/nintei/pdf/e125V1_B_a.pdf\n",
      "https://www.ecomark.jp/nintei/pdf/e126V2_A-IK_a.pdf\n",
      "https://www.ecomark.jp/nintei/pdf/e126V2_J_a.pdf\n",
      "https://www.ecomark.jp/nintei/pdf/e127V2_a.pdf\n",
      "https://www.ecomark.jp/nintei/pdf/e128V1_cover.pdf\n",
      "https://www.ecomark.jp/nintei/pdf/e128V1_A_a.pdf\n",
      "https://www.ecomark.jp/nintei/pdf/e128V1_B_a.pdf\n",
      "https://www.ecomark.jp/nintei/pdf/e128V1_C_a.pdf\n",
      "https://www.ecomark.jp/nintei/pdf/e128V1_D_a.pdf\n",
      "https://www.ecomark.jp/nintei/pdf/e128V1_E_a.pdf\n",
      "https://www.ecomark.jp/nintei/pdf/e128V1_F_a.pdf\n",
      "https://www.ecomark.jp/nintei/pdf/e128V1_G_a.pdf\n",
      "https://www.ecomark.jp/nintei/pdf/e128V1_H_a.pdf\n",
      "https://www.ecomark.jp/nintei/pdf/e128V1_I_a.pdf\n",
      "https://www.ecomark.jp/nintei/pdf/e128V1_J_a.pdf\n",
      "https://www.ecomark.jp/nintei/pdf/e128V1_K_a.pdf\n",
      "https://www.ecomark.jp/nintei/pdf/e128V1_L_a.pdf\n",
      "https://www.ecomark.jp/nintei/pdf/e128V1_M_a.pdf\n",
      "https://www.ecomark.jp/nintei/pdf/e129V1_a.pdf\n",
      "https://www.ecomark.jp/nintei/pdf/e130V2_a.pdf\n",
      "https://www.ecomark.jp/nintei/pdf/e131V1_cover.pdf\n",
      "https://www.ecomark.jp/nintei/pdf/e131V1_A_a.pdf\n",
      "https://www.ecomark.jp/nintei/pdf/e131V1_B_a.pdf\n",
      "https://www.ecomark.jp/nintei/pdf/e131V1_C_a.pdf\n",
      "https://www.ecomark.jp/nintei/pdf/e131V1_D_a.pdf\n",
      "https://www.ecomark.jp/nintei/pdf/e131V1_E_a.pdf\n",
      "https://www.ecomark.jp/nintei/pdf/e131V1_F_a.pdf\n",
      "https://www.ecomark.jp/nintei/pdf/e131V1_G_a.pdf\n",
      "https://www.ecomark.jp/nintei/pdf/e131V1_H_a.pdf\n",
      "https://www.ecomark.jp/nintei/pdf/e131V1_I_a.pdf\n",
      "https://www.ecomark.jp/nintei/pdf/e131V1_J_a.pdf\n",
      "https://www.ecomark.jp/nintei/pdf/e132V2_a.pdf\n",
      "https://www.ecomark.jp/nintei/pdf/e133V1_A_a.pdf\n",
      "https://www.ecomark.jp/nintei/pdf/e133V1_B_a.pdf\n",
      "https://www.ecomark.jp/nintei/pdf/e134V1_a.pdf\n",
      "https://www.ecomark.jp/nintei/pdf/e135V1_A_a.pdf\n",
      "https://www.ecomark.jp/nintei/pdf/e135V1_B_a.pdf\n",
      "https://www.ecomark.jp/nintei/pdf/e135V1_C_a.pdf\n",
      "https://www.ecomark.jp/nintei/pdf/e135V1_D_a.pdf\n",
      "https://www.ecomark.jp/nintei/pdf/e135V1_E_a.pdf\n",
      "https://www.ecomark.jp/nintei/pdf/e135V1_F_a.pdf\n",
      "https://www.ecomark.jp/nintei/pdf/e136V1_A_a.pdf\n",
      "https://www.ecomark.jp/nintei/pdf/e136V1_B_a.pdf\n",
      "https://www.ecomark.jp/nintei/pdf/e136V1_C_a.pdf\n",
      "https://www.ecomark.jp/nintei/pdf/e137V1_cover.pdf\n",
      "https://www.ecomark.jp/nintei/pdf/e137V1_a.pdf\n",
      "https://www.ecomark.jp/nintei/pdf/e138V1_cover.pdf\n",
      "https://www.ecomark.jp/nintei/pdf/e138V1_A-1_a.pdf\n",
      "https://www.ecomark.jp/nintei/pdf/e138V1_B-1_a.pdf\n",
      "https://www.ecomark.jp/nintei/pdf/e138V1_B-2_a.pdf\n",
      "https://www.ecomark.jp/nintei/pdf/e138V1_C-1_a.pdf\n",
      "https://www.ecomark.jp/nintei/pdf/e138V1_D-1_a.pdf\n",
      "https://www.ecomark.jp/nintei/pdf/e138V1_D-2_a.pdf\n",
      "https://www.ecomark.jp/nintei/pdf/e139V1_cover.pdf\n",
      "https://www.ecomark.jp/nintei/pdf/e139V1_A-1_a.pdf\n",
      "https://www.ecomark.jp/nintei/pdf/e139V1_B-1_a.pdf\n",
      "https://www.ecomark.jp/nintei/pdf/e139V1_B-2_a.pdf\n",
      "https://www.ecomark.jp/nintei/pdf/e140V1_A-1_a.pdf\n",
      "https://www.ecomark.jp/nintei/pdf/e140V1_A-2_a.pdf\n",
      "https://www.ecomark.jp/nintei/pdf/e140V1_B_a.pdf\n",
      "https://www.ecomark.jp/nintei/pdf/e140V1_C_a.pdf\n",
      "https://www.ecomark.jp/nintei/pdf/e140V1_D_a.pdf\n",
      "https://www.ecomark.jp/nintei/pdf/e140V1_G_a.pdf\n",
      "https://www.ecomark.jp/nintei/pdf/e140V1_H_a.pdf\n",
      "https://www.ecomark.jp/nintei/pdf/e140V1_I_a.pdf\n",
      "https://www.ecomark.jp/nintei/pdf/e140V1_J_a.pdf\n",
      "https://www.ecomark.jp/nintei/pdf/e141V1_a.pdf\n",
      "https://www.ecomark.jp/nintei/pdf/e142V2_a.pdf\n",
      "https://www.ecomark.jp/nintei/word/e142V2_c.doc\n",
      "https://www.ecomark.jp/nintei/pdf/e143V1_A_a.pdf\n",
      "https://www.ecomark.jp/nintei/pdf/e143V1_B_a.pdf\n",
      "https://www.ecomark.jp/nintei/pdf/e143V1_C_a.pdf\n",
      "https://www.ecomark.jp/nintei/pdf/e144V1_a.pdf\n",
      "https://www.ecomark.jp/nintei/pdf/e145V2_a.pdf\n",
      "https://www.ecomark.jp/nintei/pdf/e146V1_a.pdf\n",
      "https://www.ecomark.jp/nintei/pdf/e147V1_a.pdf\n",
      "https://www.ecomark.jp/nintei/pdf/e148V1_a.pdf\n",
      "https://www.ecomark.jp/nintei/pdf/e149V1_a.pdf\n",
      "https://www.ecomark.jp/nintei/pdf/e150V1_a.pdf\n",
      "https://www.ecomark.jp/nintei/pdf/e151V1_a.pdf\n",
      "https://www.ecomark.jp/nintei/pdf/e152V1_a.pdf\n",
      "https://www.ecomark.jp/nintei/pdf/e153V1_a.pdf\n",
      "https://www.ecomark.jp/nintei/pdf/e154V1_a.pdf\n",
      "https://www.ecomark.jp/nintei/pdf/e155V1_a.pdf\n",
      "https://www.ecomark.jp/nintei/pdf/e156V1_a.pdf\n",
      "https://www.ecomark.jp/nintei/pdf/e157V1_a.pdf\n",
      "https://www.ecomark.jp/nintei/pdf/e158V1_a.pdf\n",
      "https://www.ecomark.jp/nintei/pdf/e159V1_a.pdf\n",
      "https://www.ecomark.jp/pdf/e160V1_A_a.pdf\n",
      "https://www.ecomark.jp/pdf/e160V1_B_a.pdf\n",
      "https://www.ecomark.jp/nintei/pdf/e161V1_a.pdf\n",
      "https://www.ecomark.jp/nintei/pdf/e162V1_a.pdf\n",
      "https://www.ecomark.jp/nintei/pdf/e163V1_a.pdf\n",
      "https://www.ecomark.jp/nintei/pdf/e164V1_a.pdf\n",
      "https://www.ecomark.jp/nintei/pdf/e501V2_a.pdf\n",
      "https://www.ecomark.jp/nintei/pdf/e502V1_a.pdf\n",
      "https://www.ecomark.jp/nintei/pdf/e503V2_a.pdf\n",
      "https://www.ecomark.jp/nintei/pdf/e504V1_a.pdf\n",
      "https://www.ecomark.jp/nintei/pdf/e505V1_a.pdf\n",
      "https://www.ecomark.jp/nintei/pdf/e506V1_a.pdf\n",
      "https://www.ecomark.jp/nintei/pdf/e507V1_a.pdf\n",
      "https://www.ecomark.jp/nintei/pdf/e508V1_A_a.pdf\n",
      "https://www.ecomark.jp/nintei/pdf/e508V1_B_a.pdf\n",
      "https://www.ecomark.jp/nintei/pdf/e509V1_a.pdf\n",
      "https://www.ecomark.jp/nintei/pdf/e510V1_a.pdf\n",
      "https://www.ecomark.jp/nintei/pdf/e511V1_a.pdf\n"
     ]
    }
   ],
   "source": [
    "for i in range(len(links)):\n",
    "    hrf=links[i].get_attribute('href')\n",
    "    splited_hrf=hrf.split(\".\")\n",
    "    desired_ext=splited_hrf[-1]\n",
    "    if (desired_ext==\"pdf\" or desired_ext==\"docx\" or desired_ext==\"doc\" or desired_ext==\"xls\"):\n",
    "        print(hrf)"
   ]
  },
  {
   "cell_type": "code",
   "execution_count": 53,
   "metadata": {},
   "outputs": [
    {
     "data": {
      "text/plain": [
       "186"
      ]
     },
     "execution_count": 53,
     "metadata": {},
     "output_type": "execute_result"
    }
   ],
   "source": [
    "len(links)"
   ]
  },
  {
   "cell_type": "code",
   "execution_count": null,
   "metadata": {},
   "outputs": [],
   "source": []
  },
  {
   "cell_type": "code",
   "execution_count": 55,
   "metadata": {},
   "outputs": [
    {
     "ename": "IndexError",
     "evalue": "list index out of range",
     "output_type": "error",
     "traceback": [
      "\u001b[1;31m---------------------------------------------------------------------------\u001b[0m",
      "\u001b[1;31mIndexError\u001b[0m                                Traceback (most recent call last)",
      "\u001b[1;32m<ipython-input-55-36bfe1d69c0e>\u001b[0m in \u001b[0;36m<module>\u001b[1;34m\u001b[0m\n\u001b[0;32m      2\u001b[0m \u001b[1;32mimport\u001b[0m \u001b[0mrequests\u001b[0m\u001b[1;33m\u001b[0m\u001b[1;33m\u001b[0m\u001b[0m\n\u001b[0;32m      3\u001b[0m \u001b[1;32mfor\u001b[0m \u001b[0mi\u001b[0m \u001b[1;32min\u001b[0m \u001b[0mrange\u001b[0m\u001b[1;33m(\u001b[0m\u001b[0mlen\u001b[0m\u001b[1;33m(\u001b[0m\u001b[0mlinks\u001b[0m\u001b[1;33m)\u001b[0m\u001b[1;33m)\u001b[0m\u001b[1;33m:\u001b[0m\u001b[1;33m\u001b[0m\u001b[1;33m\u001b[0m\u001b[0m\n\u001b[1;32m----> 4\u001b[1;33m     \u001b[0mhrf\u001b[0m\u001b[1;33m=\u001b[0m\u001b[0mlinks\u001b[0m\u001b[1;33m[\u001b[0m\u001b[0mi\u001b[0m\u001b[1;33m+\u001b[0m\u001b[1;36m156\u001b[0m\u001b[1;33m]\u001b[0m\u001b[1;33m.\u001b[0m\u001b[0mget_attribute\u001b[0m\u001b[1;33m(\u001b[0m\u001b[1;34m'href'\u001b[0m\u001b[1;33m)\u001b[0m\u001b[1;33m\u001b[0m\u001b[1;33m\u001b[0m\u001b[0m\n\u001b[0m\u001b[0;32m      5\u001b[0m     \u001b[0msplited_hrf\u001b[0m\u001b[1;33m=\u001b[0m\u001b[0mhrf\u001b[0m\u001b[1;33m.\u001b[0m\u001b[0msplit\u001b[0m\u001b[1;33m(\u001b[0m\u001b[1;34m\".\"\u001b[0m\u001b[1;33m)\u001b[0m\u001b[1;33m\u001b[0m\u001b[1;33m\u001b[0m\u001b[0m\n\u001b[0;32m      6\u001b[0m     \u001b[0mdesired_ext\u001b[0m\u001b[1;33m=\u001b[0m\u001b[0msplited_hrf\u001b[0m\u001b[1;33m[\u001b[0m\u001b[1;33m-\u001b[0m\u001b[1;36m1\u001b[0m\u001b[1;33m]\u001b[0m\u001b[1;33m\u001b[0m\u001b[1;33m\u001b[0m\u001b[0m\n",
      "\u001b[1;31mIndexError\u001b[0m: list index out of range"
     ]
    }
   ],
   "source": [
    "import os\n",
    "import requests\n",
    "for i in range(len(links)):\n",
    "    hrf=links[i+156].get_attribute('href')\n",
    "    splited_hrf=hrf.split(\".\")\n",
    "    desired_ext=splited_hrf[-1]\n",
    "    if (desired_ext==\"pdf\" or desired_ext==\"docx\" or desired_ext==\"doc\" or desired_ext==\"xls\"):\n",
    "        URL=hrf\n",
    "        output_dir='.\\Outputs'\n",
    "        response=requests.get(URL)\n",
    "        if response.status_code==200:\n",
    "            file_path=os.path.join(output_dir,os.path.basename(URL))\n",
    "            \n",
    "            with open(file_path,'wb') as f:\n",
    "                f.write(response.content)\n",
    "                time.sleep(5)\n",
    "        "
   ]
  },
  {
   "cell_type": "code",
   "execution_count": 56,
   "metadata": {},
   "outputs": [
    {
     "data": {
      "text/plain": [
       "30"
      ]
     },
     "execution_count": 56,
     "metadata": {},
     "output_type": "execute_result"
    }
   ],
   "source": [
    "i"
   ]
  },
  {
   "cell_type": "code",
   "execution_count": 39,
   "metadata": {},
   "outputs": [
    {
     "data": {
      "text/plain": [
       "'https://www.ecomark.jp/nintei/pdf/e511V1_a.pdf'"
      ]
     },
     "execution_count": 39,
     "metadata": {},
     "output_type": "execute_result"
    }
   ],
   "source": [
    "URL"
   ]
  },
  {
   "cell_type": "code",
   "execution_count": 40,
   "metadata": {},
   "outputs": [],
   "source": [
    "driver.get(URL)"
   ]
  },
  {
   "cell_type": "code",
   "execution_count": 42,
   "metadata": {},
   "outputs": [],
   "source": [
    "import os\n",
    "import requests"
   ]
  },
  {
   "cell_type": "code",
   "execution_count": 45,
   "metadata": {},
   "outputs": [],
   "source": [
    "output_dir='.\\Outputs'\n",
    "response=requests.get(URL)\n",
    "if response.status_code==200:\n",
    "    file_path=os.path.join(output_dir,os.path.basename(URL))\n",
    "    with open(file_path,'wb') as f:\n",
    "        f.write(response.content)\n",
    "    \n"
   ]
  },
  {
   "cell_type": "code",
   "execution_count": null,
   "metadata": {},
   "outputs": [],
   "source": []
  }
 ],
 "metadata": {
  "kernelspec": {
   "display_name": "Python 3",
   "language": "python",
   "name": "python3"
  },
  "language_info": {
   "codemirror_mode": {
    "name": "ipython",
    "version": 3
   },
   "file_extension": ".py",
   "mimetype": "text/x-python",
   "name": "python",
   "nbconvert_exporter": "python",
   "pygments_lexer": "ipython3",
   "version": "3.9.0"
  }
 },
 "nbformat": 4,
 "nbformat_minor": 4
}
