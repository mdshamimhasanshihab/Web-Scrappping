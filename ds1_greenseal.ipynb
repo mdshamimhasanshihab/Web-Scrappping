{
 "cells": [
  {
   "cell_type": "code",
   "execution_count": 92,
   "metadata": {},
   "outputs": [],
   "source": [
    "from selenium import webdriver\n",
    "import time\n",
    "from selenium.webdriver.common.keys import Keys"
   ]
  },
  {
   "cell_type": "code",
   "execution_count": 93,
   "metadata": {},
   "outputs": [
    {
     "name": "stderr",
     "output_type": "stream",
     "text": [
      "<ipython-input-93-a34289851f72>:1: DeprecationWarning: executable_path has been deprecated, please pass in a Service object\n",
      "  driver=webdriver.Chrome(executable_path=\"C:\\Driver\\chromedriver_win32 (3)\\chromedriver.exe\")\n"
     ]
    }
   ],
   "source": [
    "driver=webdriver.Chrome(executable_path=\"C:\\Driver\\chromedriver_win32 (3)\\chromedriver.exe\")\n",
    "driver.get(\"https://www.greenseal.org/certified-products-services\")\n",
    "driver.maximize_window()"
   ]
  },
  {
   "cell_type": "code",
   "execution_count": 94,
   "metadata": {},
   "outputs": [],
   "source": [
    "from selenium.webdriver.common.by import By\n",
    "links=driver.find_elements(By.TAG_NAME,\"a\")"
   ]
  },
  {
   "cell_type": "code",
   "execution_count": 95,
   "metadata": {},
   "outputs": [
    {
     "name": "stdout",
     "output_type": "stream",
     "text": [
      "\n",
      "\n",
      "\n",
      "\n",
      "\n",
      "\n",
      "\n",
      "\n",
      "\n",
      "\n",
      "\n",
      "\n",
      "\n",
      "\n",
      "\n",
      "\n",
      "\n",
      "\n",
      "\n",
      "\n",
      "\n",
      "\n",
      "\n",
      "\n",
      "\n",
      "\n",
      "\n",
      "\n",
      "\n",
      "\n",
      "\n",
      "\n",
      "\n",
      "\n",
      "\n",
      "\n",
      "\n",
      "\n",
      "\n",
      "\n",
      "\n",
      "\n",
      "\n",
      "\n",
      "\n",
      "\n",
      "\n",
      "\n",
      "\n",
      "\n",
      "FOR BUSINESSES\n",
      "FOR CONSUMERS\n",
      "CONTACT\n",
      "DONATE\n",
      "LOGIN\n",
      "\n",
      "\n",
      "\n",
      "ABOUT\n",
      "PROGRAMS\n",
      "CERTIFIED DIRECTORY\n",
      "LATEST\n",
      "STANDARDS\n",
      "GET CERTIFIED\n",
      "\n",
      "\n",
      "\n",
      "\n",
      "\n",
      "\n",
      "\n",
      "\n",
      "\n",
      "\n",
      "\n",
      "\n",
      "\n",
      "\n",
      "\n",
      "\n",
      "\n",
      "\n",
      "\n",
      "\n",
      "\n",
      "\n",
      "\n",
      "\n",
      "\n",
      "\n",
      "\n",
      "\n",
      "\n",
      "\n",
      "\n",
      "\n",
      "\n",
      "\n",
      "\n",
      "\n",
      "\n",
      "\n",
      "\n",
      "\n",
      "\n",
      "\n",
      "\n",
      "\n",
      "\n",
      "\n",
      "\n",
      "\n",
      "\n",
      "\n",
      "\n",
      "\n",
      "\n",
      "\n",
      "\n",
      "\n",
      "\n",
      "\n",
      "\n",
      "\n",
      "\n",
      "\n",
      "\n",
      "\n",
      "\n",
      "\n",
      "\n",
      "\n",
      "\n",
      "\n",
      "\n",
      "\n",
      "\n",
      "\n",
      "\n",
      "\n",
      "\n",
      "\n",
      "\n",
      "\n",
      "\n",
      "\n",
      "\n",
      "\n",
      "\n",
      "\n",
      "\n",
      "\n",
      "\n",
      "\n",
      "\n",
      "\n",
      "\n",
      "\n",
      "\n",
      "\n",
      "\n",
      "\n",
      "\n",
      "\n",
      "\n",
      "\n",
      "\n",
      "\n",
      "\n",
      "\n",
      "\n",
      "\n",
      "\n",
      "\n",
      "\n",
      "\n",
      "\n",
      "\n",
      "\n",
      "\n",
      "\n",
      "\n",
      "\n",
      "\n",
      "\n",
      "\n",
      "\n",
      "\n",
      "\n",
      "\n",
      "\n",
      "\n",
      "\n",
      "\n",
      "GREEN SEAL CERTIFIED DIRECTORY\n",
      "BROWSE BY PRODUCT\n",
      "\n",
      "\n",
      "\n",
      "\n",
      "\n",
      "\n",
      "\n",
      "\n",
      "\n",
      "\n",
      "\n",
      "\n",
      "\n",
      "\n",
      "\n",
      "\n",
      "\n",
      "\n",
      "\n",
      "\n",
      "\n",
      "\n",
      "\n",
      "\n",
      "\n",
      "\n",
      "\n",
      "BROWSE BY FACILITY\n",
      "\n",
      "\n",
      "\n",
      "\n",
      "\n",
      "\n",
      "\n",
      "\n",
      "\n",
      "\n",
      "\n",
      "\n",
      "\n",
      "\n",
      "\n",
      "\n",
      "BROWSE BY COMPANY\n",
      "202-872-6400\n",
      "CHECK OUT FAQS\n",
      "GET IN TOUCH\n",
      "\n",
      "\n",
      "\n",
      "Privacy\n",
      "Terms & Conditions\n",
      "\n"
     ]
    }
   ],
   "source": [
    "for i in links:\n",
    "    print(i.text)"
   ]
  },
  {
   "cell_type": "code",
   "execution_count": 96,
   "metadata": {},
   "outputs": [],
   "source": [
    "clk=driver.find_element(By.LINK_TEXT,\"BROWSE BY COMPANY\")\n",
    "driver.execute_script(\"arguments[0].click();\", clk)"
   ]
  },
  {
   "cell_type": "code",
   "execution_count": 97,
   "metadata": {},
   "outputs": [
    {
     "data": {
      "text/plain": [
       "347"
      ]
     },
     "execution_count": 97,
     "metadata": {},
     "output_type": "execute_result"
    }
   ],
   "source": [
    "links1=driver.find_elements(By.TAG_NAME,\"a\")\n",
    "len(links1)"
   ]
  },
  {
   "cell_type": "code",
   "execution_count": 98,
   "metadata": {},
   "outputs": [
    {
     "name": "stdout",
     "output_type": "stream",
     "text": [
      "3M\n",
      "\n",
      "ABC Compounding\n",
      "\n",
      "ABCO Products\n",
      "\n",
      "Accor Live Limitless\n",
      "\n",
      "ACE Janitorial Supply\n",
      "\n",
      "Acme Paper\n",
      "\n",
      "AFFLINK Strategic Brands\n",
      "\n",
      "Airlie\n",
      "\n",
      "Airlite (AM Technology)\n",
      "\n",
      "Al-Bahar Industries\n",
      "\n",
      "ALCO Soap and Supply\n",
      "\n",
      "AlkaVie Solutions\n",
      "\n",
      "ALMADION International Gen. Trading LLC\n",
      "\n",
      "American Cleaning Solutions\n",
      "\n",
      "American Formula\n",
      "\n",
      "American Hotel\n",
      "\n",
      "American Paper Converting\n",
      "\n",
      "Americo Manufacturing\n",
      "\n",
      "Angus Chemical Company\n",
      "\n",
      "ANGUS Chemical Company\n",
      "\n",
      "Annihilare\n",
      "\n",
      "Aqua ChemPacs\n",
      "\n",
      "Area Distributors\n",
      "\n",
      "ArmaKleen\n",
      "\n",
      "Asian Paints Limited\n",
      "\n",
      "Asia Pulp & Paper\n",
      "\n",
      "Associated Building Maintenance\n",
      "\n",
      "ATRA Janitorial Supply\n",
      "\n",
      "B.B.C. Paints\n",
      "\n",
      "Benjamin Moore\n",
      "\n",
      "Betco Corporation\n",
      "\n",
      "Big 3 Packaging\n",
      "\n",
      "Bioesque Solutions\n",
      "\n",
      "Birsch Industries\n",
      "\n",
      "Bison Production Company\n",
      "\n",
      "Blind Industries and Services of Maryland\n",
      "\n",
      "Bolana Enterprises\n",
      "\n",
      "Bona US\n",
      "\n",
      "Bortek Industries\n",
      "\n",
      "Brady Industries\n",
      "\n"
     ]
    }
   ],
   "source": [
    "k=252\n",
    "for i in range(len(links1)-267):\n",
    "    print(links1[k].text)\n",
    "    k=k+1"
   ]
  },
  {
   "cell_type": "code",
   "execution_count": 100,
   "metadata": {},
   "outputs": [
    {
     "data": {
      "text/plain": [
       "'3M'"
      ]
     },
     "execution_count": 100,
     "metadata": {},
     "output_type": "execute_result"
    }
   ],
   "source": [
    "links1[252].text"
   ]
  },
  {
   "cell_type": "code",
   "execution_count": 101,
   "metadata": {},
   "outputs": [],
   "source": [
    "clk=driver.find_element(By.LINK_TEXT,links1[252].text)\n",
    "driver.execute_script(\"arguments[0].click();\", clk)"
   ]
  },
  {
   "cell_type": "code",
   "execution_count": 102,
   "metadata": {},
   "outputs": [
    {
     "data": {
      "text/plain": [
       "334"
      ]
     },
     "execution_count": 102,
     "metadata": {},
     "output_type": "execute_result"
    }
   ],
   "source": [
    "links2=driver.find_elements(By.TAG_NAME,\"a\")\n",
    "len(links2)"
   ]
  },
  {
   "cell_type": "code",
   "execution_count": 1,
   "metadata": {},
   "outputs": [
    {
     "ename": "NameError",
     "evalue": "name 'links2' is not defined",
     "output_type": "error",
     "traceback": [
      "\u001b[1;31m---------------------------------------------------------------------------\u001b[0m",
      "\u001b[1;31mNameError\u001b[0m                                 Traceback (most recent call last)",
      "\u001b[1;32m<ipython-input-1-ae093839c333>\u001b[0m in \u001b[0;36m<module>\u001b[1;34m\u001b[0m\n\u001b[0;32m      1\u001b[0m \u001b[0mk\u001b[0m\u001b[1;33m=\u001b[0m\u001b[1;36m259\u001b[0m\u001b[1;33m\u001b[0m\u001b[1;33m\u001b[0m\u001b[0m\n\u001b[1;32m----> 2\u001b[1;33m \u001b[1;32mfor\u001b[0m \u001b[0mi\u001b[0m \u001b[1;32min\u001b[0m \u001b[0mrange\u001b[0m\u001b[1;33m(\u001b[0m\u001b[0mlen\u001b[0m\u001b[1;33m(\u001b[0m\u001b[0mlinks2\u001b[0m\u001b[1;33m)\u001b[0m\u001b[1;33m)\u001b[0m\u001b[1;33m:\u001b[0m\u001b[1;33m\u001b[0m\u001b[1;33m\u001b[0m\u001b[0m\n\u001b[0m\u001b[0;32m      3\u001b[0m     \u001b[1;32mif\u001b[0m \u001b[0mlen\u001b[0m\u001b[1;33m(\u001b[0m\u001b[0mlinks2\u001b[0m\u001b[1;33m[\u001b[0m\u001b[0mk\u001b[0m\u001b[1;33m]\u001b[0m\u001b[1;33m.\u001b[0m\u001b[0mtext\u001b[0m\u001b[1;33m)\u001b[0m\u001b[1;33m<\u001b[0m\u001b[1;36m15\u001b[0m\u001b[1;33m:\u001b[0m\u001b[1;33m\u001b[0m\u001b[1;33m\u001b[0m\u001b[0m\n\u001b[0;32m      4\u001b[0m         \u001b[1;32mbreak\u001b[0m\u001b[1;33m\u001b[0m\u001b[1;33m\u001b[0m\u001b[0m\n\u001b[0;32m      5\u001b[0m     \u001b[0mprint\u001b[0m\u001b[1;33m(\u001b[0m\u001b[0mlinks2\u001b[0m\u001b[1;33m[\u001b[0m\u001b[0mk\u001b[0m\u001b[1;33m]\u001b[0m\u001b[1;33m.\u001b[0m\u001b[0mtext\u001b[0m\u001b[1;33m)\u001b[0m\u001b[1;33m\u001b[0m\u001b[1;33m\u001b[0m\u001b[0m\n",
      "\u001b[1;31mNameError\u001b[0m: name 'links2' is not defined"
     ]
    }
   ],
   "source": [
    "k=259\n",
    "for i in range(len(links2)):\n",
    "    if len(links2[k].text)<15:\n",
    "        break\n",
    "    print(links2[k].text)\n",
    "    k=k+3"
   ]
  },
  {
   "cell_type": "code",
   "execution_count": 119,
   "metadata": {},
   "outputs": [],
   "source": [
    "clk=driver.find_element(By.LINK_TEXT,links2[259].text)\n",
    "driver.execute_script(\"arguments[0].click();\", clk)\n"
   ]
  },
  {
   "cell_type": "code",
   "execution_count": 144,
   "metadata": {},
   "outputs": [],
   "source": [
    "import pandas as pd\n",
    "Dic = {}\n",
    "gc= pd.DataFrame(data=Dic,index=[0], \n",
    "                columns=['Name',\n",
    "                        'Certified','Company','Brand','Iteam_Information','Website'])"
   ]
  },
  {
   "cell_type": "code",
   "execution_count": 145,
   "metadata": {},
   "outputs": [],
   "source": [
    "name=driver.find_element(By.CSS_SELECTOR,\"#app > main > div > div:nth-child(3) > div > p:nth-child(1)\")\n",
    "certified=driver.find_element(By.CSS_SELECTOR,\"#app > main > div > div:nth-child(3) > div > div > div > div:nth-child(3)\")\n",
    "cer=certified.text.split(\":\")\n",
    "company=driver.find_element(By.CSS_SELECTOR,\"#app > main > div > div:nth-child(3) > div > div > div > div:nth-child(4) > a\")\n",
    "brand=driver.find_element(By.CSS_SELECTOR,\"#app > main > div > div:nth-child(3) > div > div > div > div:nth-child(5)\")\n",
    "iteam_info=driver.find_element(By.CSS_SELECTOR,\"#app > main > div > div:nth-child(3) > div > div > div > div:nth-child(6)\")\n",
    "iteam=iteam_info.text.split(\":\")\n",
    "web=driver.find_element(By.CSS_SELECTOR,\"#app > main > div > div:nth-child(3) > div > div > div > div:nth-child(7) > a\")\n",
    "web=web.get_attribute('href')"
   ]
  },
  {
   "cell_type": "code",
   "execution_count": 147,
   "metadata": {},
   "outputs": [
    {
     "data": {
      "text/plain": [
       "{'Name': '3M 3-in-1 Floor Cleaner Concentrate 24A, 3M Flow Control System',\n",
       " 'Certified': ' 2015',\n",
       " 'Company': '3M',\n",
       " 'Brand': 'Brand: 3M',\n",
       " 'Iteam_Information': ' 24A',\n",
       " 'Website': 'https://greenseal.org/standards/gs-37-cleaning-products-for-industrial-and-institutional-use/'}"
      ]
     },
     "execution_count": 147,
     "metadata": {},
     "output_type": "execute_result"
    }
   ],
   "source": [
    "Dic={'Name':name.text,\n",
    "    'Certified':cer[1],'Company':company.text,'Brand':brand.text,'Iteam_Information':iteam[1],'Website':web}\n",
    "Dic"
   ]
  },
  {
   "cell_type": "code",
   "execution_count": 153,
   "metadata": {
    "scrolled": false
   },
   "outputs": [
    {
     "name": "stderr",
     "output_type": "stream",
     "text": [
      "<ipython-input-153-ff132f7c37a1>:1: DeprecationWarning: executable_path has been deprecated, please pass in a Service object\n",
      "  driver=webdriver.Chrome(executable_path=\"C:\\Driver\\chromedriver_win32 (3)\\chromedriver.exe\")\n"
     ]
    },
    {
     "ename": "NoSuchWindowException",
     "evalue": "Message: no such window: target window already closed\nfrom unknown error: web view not found\n  (Session info: chrome=103.0.5060.53)\nStacktrace:\nBacktrace:\n\tOrdinal0 [0x00352733+2434867]\n\tOrdinal0 [0x002E07A1+1968033]\n\tOrdinal0 [0x001CC678+837240]\n\tOrdinal0 [0x001B4120+737568]\n\tOrdinal0 [0x00216DD9+1142233]\n\tOrdinal0 [0x00224032+1196082]\n\tOrdinal0 [0x00214256+1131094]\n\tOrdinal0 [0x001EE840+976960]\n\tOrdinal0 [0x001EF736+980790]\n\tGetHandleVerifier [0x005C3C72+2515426]\n\tGetHandleVerifier [0x005B702F+2463135]\n\tGetHandleVerifier [0x003F522A+620442]\n\tGetHandleVerifier [0x003F4016+615814]\n\tOrdinal0 [0x002E707B+1994875]\n\tOrdinal0 [0x002EB938+2013496]\n\tOrdinal0 [0x002EBA25+2013733]\n\tOrdinal0 [0x002F4DE1+2051553]\n\tBaseThreadInitThunk [0x770CFA29+25]\n\tRtlGetAppContainerNamedObjectPath [0x77AC7A9E+286]\n\tRtlGetAppContainerNamedObjectPath [0x77AC7A6E+238]\n",
     "output_type": "error",
     "traceback": [
      "\u001b[1;31m---------------------------------------------------------------------------\u001b[0m",
      "\u001b[1;31mNoSuchWindowException\u001b[0m                     Traceback (most recent call last)",
      "\u001b[1;32m<ipython-input-153-ff132f7c37a1>\u001b[0m in \u001b[0;36m<module>\u001b[1;34m\u001b[0m\n\u001b[0;32m      6\u001b[0m \u001b[0mdriver\u001b[0m\u001b[1;33m.\u001b[0m\u001b[0mexecute_script\u001b[0m\u001b[1;33m(\u001b[0m\u001b[1;34m\"arguments[0].click();\"\u001b[0m\u001b[1;33m,\u001b[0m \u001b[0mclk\u001b[0m\u001b[1;33m)\u001b[0m\u001b[1;33m\u001b[0m\u001b[1;33m\u001b[0m\u001b[0m\n\u001b[0;32m      7\u001b[0m \u001b[0mdriver\u001b[0m\u001b[1;33m.\u001b[0m\u001b[0mimplicitly_wait\u001b[0m\u001b[1;33m(\u001b[0m\u001b[1;36m10\u001b[0m\u001b[1;33m)\u001b[0m\u001b[1;33m\u001b[0m\u001b[1;33m\u001b[0m\u001b[0m\n\u001b[1;32m----> 8\u001b[1;33m \u001b[0mlinks1\u001b[0m\u001b[1;33m=\u001b[0m\u001b[0mdriver\u001b[0m\u001b[1;33m.\u001b[0m\u001b[0mfind_elements\u001b[0m\u001b[1;33m(\u001b[0m\u001b[0mBy\u001b[0m\u001b[1;33m.\u001b[0m\u001b[0mTAG_NAME\u001b[0m\u001b[1;33m,\u001b[0m\u001b[1;34m\"a\"\u001b[0m\u001b[1;33m)\u001b[0m\u001b[1;33m\u001b[0m\u001b[1;33m\u001b[0m\u001b[0m\n\u001b[0m\u001b[0;32m      9\u001b[0m \u001b[0mk\u001b[0m\u001b[1;33m=\u001b[0m\u001b[1;36m252\u001b[0m\u001b[1;33m\u001b[0m\u001b[1;33m\u001b[0m\u001b[0m\n\u001b[0;32m     10\u001b[0m \u001b[1;32mfor\u001b[0m \u001b[0mi\u001b[0m \u001b[1;32min\u001b[0m \u001b[0mrange\u001b[0m\u001b[1;33m(\u001b[0m\u001b[0mlen\u001b[0m\u001b[1;33m(\u001b[0m\u001b[0mlinks1\u001b[0m\u001b[1;33m)\u001b[0m\u001b[1;33m-\u001b[0m\u001b[1;36m267\u001b[0m\u001b[1;33m)\u001b[0m\u001b[1;33m:\u001b[0m\u001b[1;33m\u001b[0m\u001b[1;33m\u001b[0m\u001b[0m\n",
      "\u001b[1;32mc:\\users\\user\\appdata\\local\\programs\\python\\python39\\lib\\site-packages\\selenium\\webdriver\\remote\\webdriver.py\u001b[0m in \u001b[0;36mfind_elements\u001b[1;34m(self, by, value)\u001b[0m\n\u001b[0;32m   1282\u001b[0m         \u001b[1;31m# Return empty list if driver returns null\u001b[0m\u001b[1;33m\u001b[0m\u001b[1;33m\u001b[0m\u001b[1;33m\u001b[0m\u001b[0m\n\u001b[0;32m   1283\u001b[0m         \u001b[1;31m# See https://github.com/SeleniumHQ/selenium/issues/4555\u001b[0m\u001b[1;33m\u001b[0m\u001b[1;33m\u001b[0m\u001b[1;33m\u001b[0m\u001b[0m\n\u001b[1;32m-> 1284\u001b[1;33m         return self.execute(Command.FIND_ELEMENTS, {\n\u001b[0m\u001b[0;32m   1285\u001b[0m             \u001b[1;34m'using'\u001b[0m\u001b[1;33m:\u001b[0m \u001b[0mby\u001b[0m\u001b[1;33m,\u001b[0m\u001b[1;33m\u001b[0m\u001b[1;33m\u001b[0m\u001b[0m\n\u001b[0;32m   1286\u001b[0m             'value': value})['value'] or []\n",
      "\u001b[1;32mc:\\users\\user\\appdata\\local\\programs\\python\\python39\\lib\\site-packages\\selenium\\webdriver\\remote\\webdriver.py\u001b[0m in \u001b[0;36mexecute\u001b[1;34m(self, driver_command, params)\u001b[0m\n\u001b[0;32m    428\u001b[0m         \u001b[0mresponse\u001b[0m \u001b[1;33m=\u001b[0m \u001b[0mself\u001b[0m\u001b[1;33m.\u001b[0m\u001b[0mcommand_executor\u001b[0m\u001b[1;33m.\u001b[0m\u001b[0mexecute\u001b[0m\u001b[1;33m(\u001b[0m\u001b[0mdriver_command\u001b[0m\u001b[1;33m,\u001b[0m \u001b[0mparams\u001b[0m\u001b[1;33m)\u001b[0m\u001b[1;33m\u001b[0m\u001b[1;33m\u001b[0m\u001b[0m\n\u001b[0;32m    429\u001b[0m         \u001b[1;32mif\u001b[0m \u001b[0mresponse\u001b[0m\u001b[1;33m:\u001b[0m\u001b[1;33m\u001b[0m\u001b[1;33m\u001b[0m\u001b[0m\n\u001b[1;32m--> 430\u001b[1;33m             \u001b[0mself\u001b[0m\u001b[1;33m.\u001b[0m\u001b[0merror_handler\u001b[0m\u001b[1;33m.\u001b[0m\u001b[0mcheck_response\u001b[0m\u001b[1;33m(\u001b[0m\u001b[0mresponse\u001b[0m\u001b[1;33m)\u001b[0m\u001b[1;33m\u001b[0m\u001b[1;33m\u001b[0m\u001b[0m\n\u001b[0m\u001b[0;32m    431\u001b[0m             response['value'] = self._unwrap_value(\n\u001b[0;32m    432\u001b[0m                 response.get('value', None))\n",
      "\u001b[1;32mc:\\users\\user\\appdata\\local\\programs\\python\\python39\\lib\\site-packages\\selenium\\webdriver\\remote\\errorhandler.py\u001b[0m in \u001b[0;36mcheck_response\u001b[1;34m(self, response)\u001b[0m\n\u001b[0;32m    245\u001b[0m                 \u001b[0malert_text\u001b[0m \u001b[1;33m=\u001b[0m \u001b[0mvalue\u001b[0m\u001b[1;33m[\u001b[0m\u001b[1;34m'alert'\u001b[0m\u001b[1;33m]\u001b[0m\u001b[1;33m.\u001b[0m\u001b[0mget\u001b[0m\u001b[1;33m(\u001b[0m\u001b[1;34m'text'\u001b[0m\u001b[1;33m)\u001b[0m\u001b[1;33m\u001b[0m\u001b[1;33m\u001b[0m\u001b[0m\n\u001b[0;32m    246\u001b[0m             \u001b[1;32mraise\u001b[0m \u001b[0mexception_class\u001b[0m\u001b[1;33m(\u001b[0m\u001b[0mmessage\u001b[0m\u001b[1;33m,\u001b[0m \u001b[0mscreen\u001b[0m\u001b[1;33m,\u001b[0m \u001b[0mstacktrace\u001b[0m\u001b[1;33m,\u001b[0m \u001b[0malert_text\u001b[0m\u001b[1;33m)\u001b[0m  \u001b[1;31m# type: ignore[call-arg]  # mypy is not smart enough here\u001b[0m\u001b[1;33m\u001b[0m\u001b[1;33m\u001b[0m\u001b[0m\n\u001b[1;32m--> 247\u001b[1;33m         \u001b[1;32mraise\u001b[0m \u001b[0mexception_class\u001b[0m\u001b[1;33m(\u001b[0m\u001b[0mmessage\u001b[0m\u001b[1;33m,\u001b[0m \u001b[0mscreen\u001b[0m\u001b[1;33m,\u001b[0m \u001b[0mstacktrace\u001b[0m\u001b[1;33m)\u001b[0m\u001b[1;33m\u001b[0m\u001b[1;33m\u001b[0m\u001b[0m\n\u001b[0m\u001b[0;32m    248\u001b[0m \u001b[1;33m\u001b[0m\u001b[0m\n\u001b[0;32m    249\u001b[0m     \u001b[1;32mdef\u001b[0m \u001b[0m_value_or_default\u001b[0m\u001b[1;33m(\u001b[0m\u001b[0mself\u001b[0m\u001b[1;33m,\u001b[0m \u001b[0mobj\u001b[0m\u001b[1;33m:\u001b[0m \u001b[0mMapping\u001b[0m\u001b[1;33m[\u001b[0m\u001b[0m_KT\u001b[0m\u001b[1;33m,\u001b[0m \u001b[0m_VT\u001b[0m\u001b[1;33m]\u001b[0m\u001b[1;33m,\u001b[0m \u001b[0mkey\u001b[0m\u001b[1;33m:\u001b[0m \u001b[0m_KT\u001b[0m\u001b[1;33m,\u001b[0m \u001b[0mdefault\u001b[0m\u001b[1;33m:\u001b[0m \u001b[0m_VT\u001b[0m\u001b[1;33m)\u001b[0m \u001b[1;33m->\u001b[0m \u001b[0m_VT\u001b[0m\u001b[1;33m:\u001b[0m\u001b[1;33m\u001b[0m\u001b[1;33m\u001b[0m\u001b[0m\n",
      "\u001b[1;31mNoSuchWindowException\u001b[0m: Message: no such window: target window already closed\nfrom unknown error: web view not found\n  (Session info: chrome=103.0.5060.53)\nStacktrace:\nBacktrace:\n\tOrdinal0 [0x00352733+2434867]\n\tOrdinal0 [0x002E07A1+1968033]\n\tOrdinal0 [0x001CC678+837240]\n\tOrdinal0 [0x001B4120+737568]\n\tOrdinal0 [0x00216DD9+1142233]\n\tOrdinal0 [0x00224032+1196082]\n\tOrdinal0 [0x00214256+1131094]\n\tOrdinal0 [0x001EE840+976960]\n\tOrdinal0 [0x001EF736+980790]\n\tGetHandleVerifier [0x005C3C72+2515426]\n\tGetHandleVerifier [0x005B702F+2463135]\n\tGetHandleVerifier [0x003F522A+620442]\n\tGetHandleVerifier [0x003F4016+615814]\n\tOrdinal0 [0x002E707B+1994875]\n\tOrdinal0 [0x002EB938+2013496]\n\tOrdinal0 [0x002EBA25+2013733]\n\tOrdinal0 [0x002F4DE1+2051553]\n\tBaseThreadInitThunk [0x770CFA29+25]\n\tRtlGetAppContainerNamedObjectPath [0x77AC7A9E+286]\n\tRtlGetAppContainerNamedObjectPath [0x77AC7A6E+238]\n"
     ]
    }
   ],
   "source": [
    "driver=webdriver.Chrome(executable_path=\"C:\\Driver\\chromedriver_win32 (3)\\chromedriver.exe\")\n",
    "driver.get(\"https://www.greenseal.org/certified-products-services\")\n",
    "driver.implicitly_wait(10)\n",
    "driver.maximize_window()\n",
    "clk=driver.find_element(By.LINK_TEXT,\"BROWSE BY COMPANY\")\n",
    "driver.execute_script(\"arguments[0].click();\", clk)\n",
    "driver.implicitly_wait(10)\n",
    "links1=driver.find_elements(By.TAG_NAME,\"a\")\n",
    "k=252\n",
    "for i in range(len(links1)-267):\n",
    "    clk=driver.find_element(By.LINK_TEXT,links1[k].text)\n",
    "    driver.execute_script(\"arguments[0].click();\", clk)\n",
    "    driver.implicitly_wait(4)\n",
    "    k=k+1\n",
    "    links2=driver.find_elements(By.TAG_NAME,\"a\")\n",
    "    l=259\n",
    "    for i in range(len(links2)):\n",
    "        if len(links2[l].text)<15:\n",
    "            break\n",
    "        clk=driver.find_element(By.LINK_TEXT,links2[l].text)\n",
    "        driver.execute_script(\"arguments[0].click();\", clk)\n",
    "        driver.implicitly_wait(4)\n",
    "        l=l+3\n",
    "        name=driver.find_element(By.CSS_SELECTOR,\"#app > main > div > div:nth-child(3) > div > p:nth-child(1)\")\n",
    "        certified=driver.find_element(By.CSS_SELECTOR,\"#app > main > div > div:nth-child(3) > div > div > div > div:nth-child(3)\")\n",
    "        cer=certified.text.split(\":\")\n",
    "        company=driver.find_element(By.CSS_SELECTOR,\"#app > main > div > div:nth-child(3) > div > div > div > div:nth-child(4) > a\")\n",
    "        brand=driver.find_element(By.CSS_SELECTOR,\"#app > main > div > div:nth-child(3) > div > div > div > div:nth-child(5)\")\n",
    "        iteam_info=driver.find_element(By.CSS_SELECTOR,\"#app > main > div > div:nth-child(3) > div > div > div > div:nth-child(6)\")\n",
    "        iteam=iteam_info.text.split(\":\")\n",
    "        web=driver.find_element(By.CSS_SELECTOR,\"#app > main > div > div:nth-child(3) > div > div > div > div:nth-child(7) > a\")\n",
    "        web=web.get_attribute('href')\n",
    "        Dic={'Name':name.text,\n",
    "            'Certified':cer[1],'Company':company.text,'Brand':brand.text,'Iteam_Information':iteam[1],'Website':web}\n",
    "        driver.refresh()\n",
    "        gc = gc.append(Dic, ignore_index=True)\n",
    "        print(gc)\n",
    "        driver.back()\n",
    "        driver.implicitly_wait(4)\n",
    "    driver.back()\n",
    "        \n",
    "    "
   ]
  },
  {
   "cell_type": "code",
   "execution_count": null,
   "metadata": {},
   "outputs": [],
   "source": [
    "\n",
    "clk=driver.find_element(By.LINK_TEXT,links2[l].text)\n",
    "        driver.execute_script(\"arguments[0].click();\", clk)\n",
    "        driver.implicitly_wait(4)\n",
    "        l=l+3\n",
    "\n",
    "\n",
    "name=driver.find_element(By.CSS_SELECTOR,\"#app > main > div > div:nth-child(3) > div > p:nth-child(1)\")\n",
    "        certified=driver.find_element(By.CSS_SELECTOR,\"#app > main > div > div:nth-child(3) > div > div > div > div:nth-child(3)\")\n",
    "        cer=certified.text.split(\":\")\n",
    "        company=driver.find_element(By.CSS_SELECTOR,\"#app > main > div > div:nth-child(3) > div > div > div > div:nth-child(4) > a\")\n",
    "        brand=driver.find_element(By.CSS_SELECTOR,\"#app > main > div > div:nth-child(3) > div > div > div > div:nth-child(5)\")\n",
    "        iteam_info=driver.find_element(By.CSS_SELECTOR,\"#app > main > div > div:nth-child(3) > div > div > div > div:nth-child(6)\")\n",
    "        iteam=iteam_info.text.split(\":\")\n",
    "        web=driver.find_element(By.CSS_SELECTOR,\"#app > main > div > div:nth-child(3) > div > div > div > div:nth-child(7) > a\")\n",
    "        web=web.get_attribute('href')\n",
    "        Dic={'Name':name.text,\n",
    "            'Certified':cer[1],'Company':company.text,'Brand':brand.text,'Iteam_Information':iteam[1],'Website':web}\n",
    "        driver.refresh()\n",
    "        gc = gc.append(Dic, ignore_index=True)\n",
    "        print(gc)\n",
    "        driver.back()\n",
    "        driver.implicitly_wait(4)\n",
    "    driver.back()"
   ]
  },
  {
   "cell_type": "code",
   "execution_count": null,
   "metadata": {},
   "outputs": [],
   "source": []
  }
 ],
 "metadata": {
  "kernelspec": {
   "display_name": "Python 3",
   "language": "python",
   "name": "python3"
  },
  "language_info": {
   "codemirror_mode": {
    "name": "ipython",
    "version": 3
   },
   "file_extension": ".py",
   "mimetype": "text/x-python",
   "name": "python",
   "nbconvert_exporter": "python",
   "pygments_lexer": "ipython3",
   "version": "3.9.0"
  }
 },
 "nbformat": 4,
 "nbformat_minor": 4
}
