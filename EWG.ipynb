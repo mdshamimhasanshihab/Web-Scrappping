{
 "cells": [
  {
   "cell_type": "code",
   "execution_count": 36,
   "metadata": {},
   "outputs": [],
   "source": [
    "from selenium import webdriver\n",
    "import time\n",
    "from selenium.webdriver.common.keys import Keys\n",
    "from selenium.webdriver.common.by import By\n",
    "import pandas as pd\n",
    "import re"
   ]
  },
  {
   "cell_type": "code",
   "execution_count": 37,
   "metadata": {},
   "outputs": [
    {
     "name": "stderr",
     "output_type": "stream",
     "text": [
      "<ipython-input-37-5320e27ce530>:1: DeprecationWarning: executable_path has been deprecated, please pass in a Service object\n",
      "  driver=webdriver.Chrome(executable_path=\"C:\\Driver\\chromedriver_win32 (3)\\chromedriver.exe\")\n"
     ]
    }
   ],
   "source": [
    "driver=webdriver.Chrome(executable_path=\"C:\\Driver\\chromedriver_win32 (3)\\chromedriver.exe\")\n",
    "driver.get(\"https://www.ewg.org/ewgverified/products.php?models=cosmetic%2Cdiaper%2Ccleaner&search=&minority_owned=&brand=&category=&sort=newest&type=baby%2Bkids\")"
   ]
  },
  {
   "cell_type": "code",
   "execution_count": 38,
   "metadata": {},
   "outputs": [],
   "source": [
    "driver.maximize_window()"
   ]
  },
  {
   "cell_type": "code",
   "execution_count": 39,
   "metadata": {},
   "outputs": [],
   "source": [
    "Dic = {}\n",
    "# from selenium import webdriver\n",
    "gc= pd.DataFrame(data=Dic,index=[0],columns=['product_link'])"
   ]
  },
  {
   "cell_type": "code",
   "execution_count": 40,
   "metadata": {},
   "outputs": [
    {
     "name": "stderr",
     "output_type": "stream",
     "text": [
      "<ipython-input-40-bb431b27d0f2>:2: DeprecationWarning: find_elements_by_css_selector is deprecated. Please use find_elements(by=By.CSS_SELECTOR, value=css_selector) instead\n",
      "  prdct = driver.find_elements_by_css_selector('div.product-listings-wrapper.flex > div.product-wrapper > div.product-tile > a')\n",
      "<ipython-input-40-bb431b27d0f2>:8: DeprecationWarning: find_element_by_css_selector is deprecated. Please use find_element(by=By.CSS_SELECTOR, value=css_selector) instead\n",
      "  clk = driver.find_element_by_css_selector('#pcps-products-load-more')\n"
     ]
    },
    {
     "name": "stdout",
     "output_type": "stream",
     "text": [
      "https://www.ewg.org/skindeep/product/992040/vivvi_%26_bloom_Baby_2-in-1_Face_and_Body_Whip_Lotion_/\n",
      "https://www.ewg.org/skindeep/product/992043/vivvi_%26_bloom_Baby_2-in-1_Wash_and_Shampoo%2C_Cleansing_Gel_/\n",
      "https://www.ewg.org/skindeep/product/992044/vivvi_%26_bloom_Baby_2-in-1_Wash_and_Shampoo%2C_Cleansing_Gel%2C_Fragrance_Free/\n",
      "https://www.ewg.org/skindeep/product/992042/vivvi_%26_bloom_Baby_2-in-1_Scalp_and_Body_Massage_Oil_/\n",
      "https://www.ewg.org/skindeep/product/992041/vivvi_%26_bloom_Baby_2-in-1_Face_and_Body_Whip_Lotion%2C_Fragrance_Free/\n",
      "https://www.ewg.org/guides/cleaners/10557-AttitudeNatureBabyBottleDishwashingLiquidRefillUnscented\n",
      "https://www.ewg.org/guides/cleaners/6074-AttitudeLittleOnesNatureBabyBottleDishwashingLiquidUnscented\n",
      "https://www.ewg.org/guides/cleaners/10549-AttitudeSensitiveHomeCleaningBabyLaundryDetergentUnscented\n",
      "https://www.ewg.org/guides/cleaners/6364-AttitudeLittleOnesNatureLaundryDetergentSoothingChamomile\n",
      "https://www.ewg.org/guides/cleaners/10550-AttitudeSensitiveHomeCleaningBabyDishwashingLiquidUnscented\n",
      "https://www.ewg.org/guides/cleaners/10551-AttitudeSensitiveHomeCleaningToySurfaceCleanerUnscented\n",
      "https://www.ewg.org/guides/cleaners/10558-AttitudeLittleOnesNatureLaundryDetergent80LoadsUnscented\n",
      "https://www.ewg.org/skindeep/product/977573/Mustela_Arnica_Gel_/\n",
      "https://www.ewg.org/skindeep/product/977574/Mustela_Organic_Cotton_Wipes_with_Water/\n",
      "https://www.ewg.org/skindeep/product/977057/Babo_Botanicals_Sensitive_Baby_Daily_Hydra_Lotion/\n",
      "https://www.ewg.org/skindeep/product/977058/Babo_Botanicals_Sensitive_Baby_Miracle_Cream%2C_Fragrance_Free/\n",
      "https://www.ewg.org/skindeep/product/977056/Babo_Botanicals_Sensitive_Baby_Bubble_Bath%2C_Wash_%26_Shampoo%2C_Fragrance_Free/\n",
      "https://www.ewg.org/skindeep/product/976753/EllaOla_Soothing_Baby_Face_Cream/\n",
      "https://www.ewg.org/skindeep/product/971615/EllaOla_Protective_Diaper_Rash_Cream/\n",
      "https://www.ewg.org/skindeep/product/971614/EllaOla_Baby_Shampoo_%26_Body_Wash/\n",
      "https://www.ewg.org/skindeep/product/971616/EllaOla_Hydrating_Baby_Lotion/\n",
      "https://www.ewg.org/skindeep/product/971613/EllaOla_Baby_Massage_Oil/\n",
      "https://www.ewg.org/skindeep/product/970928/Honest_Baby_Wipes/\n",
      "https://www.ewg.org/skindeep/product/970205/Pipette_Baby_Shampoo_%26_Wash%2C_Fragrance_Free/\n",
      "https://www.ewg.org/skindeep/product/969091/Pipette_Baby_Cream_to_Powder/\n",
      "https://www.ewg.org/skindeep/product/968911/Pipette_Baby_Shampoo_%2B_Wash_%2C_Vanilla_%2B_Ylang_Ylang/\n",
      "https://www.ewg.org/skindeep/product/968910/Pipette_Baby_Lotion%2C_Vanilla_%2B_Ylang_Ylang/\n",
      "https://www.ewg.org/skindeep/product/966953/Pipette_Baby_Lotion%2C_Fragrance_Free/\n",
      "https://www.ewg.org/skindeep/product/954002/Pipette_Balm_Stick/\n",
      "https://www.ewg.org/skindeep/product/966954/Pipette_Baby_Lotion%2C_Rose_%2B_Geranium_/\n",
      "https://www.ewg.org/skindeep/product/964527/Coterie_Baby_Wipes/\n",
      "https://www.ewg.org/ewgverified/diapers.php?product=64-ultrasoft_diaper_with_organic_cotton%2C_size_1\n",
      "https://www.ewg.org/ewgverified/diapers.php?product=65-ultrasoft_diaper_with_organic_cotton%2C_size_2\n",
      "https://www.ewg.org/ewgverified/diapers.php?product=67-ultrasoft_diaper_with_organic_cotton%2C_size_4\n",
      "https://www.ewg.org/ewgverified/diapers.php?product=68-ultrasoft_diaper_with_organic_cotton%2C_size_5\n",
      "https://www.ewg.org/ewgverified/diapers.php?product=66-ultrasoft_diaper_with_organic_cotton%2C_size_3\n",
      "https://www.ewg.org/ewgverified/diapers.php?product=69-ultrasoft_diaper_with_organic_cotton%2C_size_6\n",
      "https://www.ewg.org/skindeep/product/953764/Offspring_Gentle_Head-to-Toe_Wash/\n",
      "https://www.ewg.org/skindeep/product/953765/Offspring_Soothing_Nappy_Balm/\n",
      "https://www.ewg.org/skindeep/product/950639/Olivarrier_Baby_Organic_Ground_Top_to_Toe_Wash/\n",
      "https://www.ewg.org/skindeep/product/949633/Olivarrier_Baby_Organic_Ground_Cactus_Soothing_Cream/\n",
      "https://www.ewg.org/skindeep/product/949634/Olivarrier_Baby_Organic_Ground_Squ_Squ_Lotion/\n",
      "https://www.ewg.org/ewgverified/diapers.php?product=4-ultrasoft_diaper%2C_size_3\n",
      "https://www.ewg.org/ewgverified/diapers.php?product=7-ultrasoft_diaper%2C_size_6\n",
      "https://www.ewg.org/ewgverified/diapers.php?product=8-pull_up_style_diaper%2C_size_3\n",
      "https://www.ewg.org/ewgverified/diapers.php?product=10-pull_up_style_diaper%2C_size_5\n",
      "https://www.ewg.org/ewgverified/diapers.php?product=2-ultrasoft_diaper%2C_size_1\n",
      "https://www.ewg.org/ewgverified/diapers.php?product=6-ultrasoft_diaper%2C_size_5\n",
      "https://www.ewg.org/ewgverified/diapers.php?product=3-ultrasoft_diaper%2C_size_2\n",
      "https://www.ewg.org/ewgverified/diapers.php?product=5-ultrasoft_diaper%2C_size_4\n",
      "https://www.ewg.org/ewgverified/diapers.php?product=9-pull_up_style_diaper%2C_size_4\n",
      "https://www.ewg.org/ewgverified/diapers.php?product=11-pull_up_style_diaper%2C_size_6\n",
      "https://www.ewg.org/skindeep/product/943031/Evereden_Nourishing_Baby_Face_Cream%2C_Fragrance-Free/\n",
      "https://www.ewg.org/skindeep/product/941404/Offspring_Plant-Based_Wipes/\n",
      "https://www.ewg.org/skindeep/product/941410/Offspring_Rinse-Free_Baby_Bum_Cleansing_Spray/\n",
      "https://www.ewg.org/skindeep/product/938292/NOLEO_3-in-1_Diaper_Care/\n",
      "https://www.ewg.org/skindeep/product/936605/Mustela_Baby-Child_Diaper_Cream_with_Olive_Oil_and_Aloe%2C_Fragrance_Free/\n",
      "https://www.ewg.org/skindeep/product/936295/Mustela_Baby-Child_Hydrating_Cream_with_Olive_Oil_and_Aloe%2C_Fragrance_Free/\n",
      "https://www.ewg.org/skindeep/product/936079/Mustela_Soothing_Moisturizing_Face_Cream%2C_Fragrance_Free/\n",
      "https://www.ewg.org/skindeep/product/936294/Mustela_Baby-Child_Micellar_Water_with_Olive_Oil_and_Aloe%2C_Fragrance_Free/\n",
      "https://www.ewg.org/skindeep/product/933108/Babo_Botanicals_Eucalyptus_Remedy_Plant_Based_Shampoo%2C_Bubble_Bath_%26_Wash/\n",
      "https://www.ewg.org/skindeep/product/932873/Hanulsoo_Premium_Wet_Wipes/\n",
      "https://www.ewg.org/skindeep/product/932862/Earth_Mama_Organic_Diaper_Balm/\n",
      "https://www.ewg.org/skindeep/product/932861/Earth_Mama_Organic_Baby_Face_Nose_%26_Cheek_Balm/\n",
      "https://www.ewg.org/skindeep/product/932604/Healthynest_Shampoo_%26_Body_Wash_Concentrate/\n",
      "https://www.ewg.org/skindeep/product/932605/Healthynest_baby_wipes/\n",
      "https://www.ewg.org/skindeep/product/926940/Mustela_Soothing_Cleansing_Wipes%2C_Fragrance_Free/\n",
      "https://www.ewg.org/skindeep/product/926943/Mustela_No-Rinse_Soothing_Cleansing_Water%2C_Fragrance_Free/\n",
      "https://www.ewg.org/skindeep/product/926941/Mustela_Soothing_Moisturizing_Body_Lotion%2C_Fragrance_Free/\n",
      "https://www.ewg.org/skindeep/product/926942/Mustela_Soothing_Cleansing_Gel%2C_Fragrance_Free/\n",
      "https://www.ewg.org/skindeep/product/926945/Mustela_Cleansing_Wipes_with_Olive_Oil/\n",
      "https://www.ewg.org/skindeep/product/920615/Hello_Bello_Premium_Shampoo_and_Body_Wash%2C_Calming_Soft_Lavender_/\n",
      "https://www.ewg.org/skindeep/product/920616/Hello_Bello_Premium_Baby_Lotion%2C_Calming_Soft_Lavender/\n",
      "https://www.ewg.org/skindeep/product/920617/Hello_Bello_Premium_Bubble_Bath%2C_Calming_Soft_Lavender/\n",
      "https://www.ewg.org/skindeep/product/920369/Niki%27s_Natural_Wipes/\n",
      "https://www.ewg.org/skindeep/product/920257/Thinkbaby_Shampoo_%26_Body_Wash%2C_Chlorine_Remover/\n",
      "https://www.ewg.org/skindeep/product/919698/Evereden_Soothing_Diaper_Rash_Cream/\n",
      "https://www.ewg.org/skindeep/product/900347/Pipette_Baby_Lotion%2C_Fragrance_Free_%28old_formulation%29/\n",
      "https://www.ewg.org/skindeep/product/902531/Pipette_Baby_Lotion_with_Calming_Aroma/\n",
      "https://www.ewg.org/skindeep/product/901479/ATTITUDE_100%25_Biodegradable_Baby_Wipes%2C_Fragrance_Free/\n",
      "https://www.ewg.org/skindeep/product/900598/Pipette_Baby_Shampoo_%26_Wash_with_Calming_Aroma/\n",
      "https://www.ewg.org/skindeep/product/900353/Pipette_Baby_Wipes/\n",
      "https://www.ewg.org/skindeep/product/900349/Pipette_Baby_Shampoo_%26_Wash/\n",
      "https://www.ewg.org/skindeep/product/900352/Pipette_Baby_Balm/\n",
      "https://www.ewg.org/skindeep/product/900348/Pipette_Baby_Oil/\n",
      "https://www.ewg.org/skindeep/product/836400/Olivarrier_Baby_Organic_Ground_Squ_Squ_Oil/\n",
      "https://www.ewg.org/skindeep/product/836485/Olivarrier_Baby_Organic_Ground_Squ_Squ_Lotion_%28old_formulation%29/\n",
      "https://www.ewg.org/skindeep/product/836399/Olivarrier_Baby_Organic_Ground_Top_to_Toe_Wash_%28old_formulation%29/\n",
      "https://www.ewg.org/skindeep/product/794303/Earnest_Mom_Calendula_Butter_Baby_Cream/\n",
      "https://www.ewg.org/skindeep/product/794302/Earnest_Mom_Aloe_%26_Jojoba_Baby_Lotion/\n",
      "https://www.ewg.org/skindeep/product/829918/Thinkbaby_Diaper_Lotion/\n",
      "https://www.ewg.org/skindeep/product/829917/Thinkbaby_Bubble_Bath/\n",
      "https://www.ewg.org/skindeep/product/823601/Babo_Botanicals_Calming_Shampoo_Bubble_Bath_%26_Wash%2C_Lavender_%26_Meadowsweet/\n"
     ]
    },
    {
     "name": "stdout",
     "output_type": "stream",
     "text": [
      "https://www.ewg.org/skindeep/product/805214/Doctor_Butler%27s_Organic_Soothing_Wipes/\n",
      "https://www.ewg.org/skindeep/product/800360/natracare_Baby_Wipes/\n",
      "https://www.ewg.org/skindeep/product/801067/Evereden_Soothing_Baby_Massage_Oil/\n",
      "https://www.ewg.org/skindeep/product/800993/Ora%27s_Amazing_Herbal_Newborn_Salve/\n",
      "https://www.ewg.org/skindeep/product/795527/Bare_Nuhcessities_Bare_Bubbly_Baby_Wash/\n",
      "https://www.ewg.org/skindeep/product/795529/Bare_Nuhcessities_Bare_Barrier_Baby_Balm/\n",
      "https://www.ewg.org/skindeep/product/795528/Bare_Nuhcessities_Bare_Balancing_Baby_Lotion/\n",
      "https://www.ewg.org/skindeep/product/780158/Babo_Botanicals_Sensitive_Baby_Fragrance_Free_Diaper_Cream_%282018_formulation%29/\n",
      "https://www.ewg.org/skindeep/product/798723/Everyone_Baby_Lotion%2C_Simply_Unscented_%28old_formulation%29/\n",
      "https://www.ewg.org/skindeep/product/783361/Everyone_Baby_Lotion_Calendula_%2B_Oat_%28old_formulation%29/\n",
      "https://www.ewg.org/skindeep/product/783362/Everyone_Baby_Lotion_Lavender_%2B_Chamomile_%28old_formulation%29/\n",
      "https://www.ewg.org/skindeep/product/786982/Everyone_Baby_Wipes%2C_Simply_Unscented_%28old_formulation%29/\n",
      "https://www.ewg.org/skindeep/product/787927/Babo_Botanicals_Sensitive_Baby_Daily_Hydra_Lotion/\n",
      "https://www.ewg.org/skindeep/product/773150/ATTITUDE_Baby_Leaves_Body_Lotion%2C_Pear_Nectar/\n",
      "https://www.ewg.org/skindeep/product/773161/ATTITUDE_Baby_Leaves_Calendula_Cream%2C_Pear_Nectar/\n",
      "https://www.ewg.org/skindeep/product/773145/ATTITUDE_Baby_Leaves_2-in-1_Shampoo%2C_Orange_Pomegranate/\n",
      "https://www.ewg.org/skindeep/product/773146/ATTITUDE_Baby_Leaves_2-in-1_Shampoo%2C_Pear_Nectar/\n",
      "https://www.ewg.org/skindeep/product/773154/ATTITUDE_Baby_Leaves_Body_Lotion%2C_Fragrance_Free/\n",
      "https://www.ewg.org/skindeep/product/773158/ATTITUDE_Baby_Leaves_2-in-1_Foaming_Wash%2C_Apple/\n",
      "https://www.ewg.org/skindeep/product/773164/ATTITUDE_Baby_Leaves_Bubble_Wash%2C_Good_Night_%2F_Almond_Milk/\n",
      "https://www.ewg.org/skindeep/product/773157/ATTITUDE_Baby_Leaves_2-in-1_Foaming_Wash%2C_Good_Night_%2F_Almond_Milk/\n",
      "https://www.ewg.org/skindeep/product/773149/ATTITUDE_Baby_Leaves_2-in-1_Shampoo_%26_Body_Wash%2C_Fragrance_Free/\n",
      "https://www.ewg.org/skindeep/product/773155/ATTITUDE_Baby_Leaves_2-in-1_Foaming_Wash%2C_Orange_Pomegranate/\n",
      "https://www.ewg.org/skindeep/product/773159/ATTITUDE_Baby_Leaves_2-in-1_Foaming_Wash%2C_Fragrance-Free/\n",
      "https://www.ewg.org/skindeep/product/773160/ATTITUDE_Baby_Leaves_Diaper_Zinc_Cream/\n",
      "https://www.ewg.org/skindeep/product/773162/ATTITUDE_Baby_Leaves_Calendula_Cream%2C_Good_Night_%2F_Almond_Milk/\n",
      "https://www.ewg.org/skindeep/product/773163/ATTITUDE_Baby_Leaves_Bubble_Wash%2C_Pear_Nectar/\n",
      "https://www.ewg.org/skindeep/product/773147/ATTITUDE_Baby_Leaves_2-in-1_Shampoo_%26_Body_Wash%2C_Good_Night_%2F_Almond_Milk/\n",
      "https://www.ewg.org/skindeep/product/773148/ATTITUDE_Baby_Leaves_2-in-1_Shampoo_%26_Body_Wash%2C_Apple/\n",
      "https://www.ewg.org/skindeep/product/773152/ATTITUDE_Baby_Leaves_Body_Lotion%2C_Good_Night_%2F_Almond_Milk/\n",
      "https://www.ewg.org/skindeep/product/773156/ATTITUDE_Baby_Leaves_2_in_1_Foaming_Wash%2C_Pear_Nectar/\n",
      "https://www.ewg.org/skindeep/product/762741/Bets_%26_Emy_Wipes/\n",
      "https://www.ewg.org/skindeep/product/771628/Made_Of_Baby_Wipes/\n",
      "https://www.ewg.org/skindeep/product/745108/made_of_Baby_Shampoo%2C_Lavender/\n",
      "https://www.ewg.org/skindeep/product/767535/Made_Of_Baby_Hand_Soap%2C_Fragrance_Free/\n",
      "https://www.ewg.org/skindeep/product/771633/Made_Of_Body_Lotion/\n",
      "https://www.ewg.org/skindeep/product/745109/made_of_Baby_Shampoo%2C_Sweet_Orange/\n",
      "https://www.ewg.org/skindeep/product/745110/made_of_Baby_Hand_Soap%2C_Lavender/\n",
      "https://www.ewg.org/skindeep/product/745111/made_of_Baby_Hand_Soap%2C_Sweet_Orange/\n",
      "https://www.ewg.org/skindeep/product/771629/Made_Of_Organic_Diaper_Rash_Cream/\n",
      "https://www.ewg.org/skindeep/product/768930/Beautycounter_Baby_Calming_Diaper_Rash_Cream_/\n",
      "https://www.ewg.org/skindeep/product/738365/Everyone_Baby_Bath%2C_Chamomile_%2B_Lavender/\n",
      "https://www.ewg.org/skindeep/product/798724/Everyone_Baby_Bath_3-in-1%2C_Simply_Unscented_%28old_formulation%29/\n",
      "https://www.ewg.org/skindeep/product/735377/Babo_Botanicals_Sensitive_Baby_Fragrance_Free_Newborn_Foam_Wash/\n",
      "https://www.ewg.org/skindeep/product/735378/Babo_Botanicals_Sensitive_Baby_Fragrance_Free_Shampoo_%26_Wash/\n",
      "https://www.ewg.org/skindeep/product/734637/Finally_Pure_Finally_For_..._Baby_100%25_Natural_Baby_Lotion/\n",
      "https://www.ewg.org/skindeep/product/715987/Whamisa_Organic_Carrot_Baby_%26_Kids_Oil_Balm/\n",
      "https://www.ewg.org/skindeep/product/707398/Whamisa_Organic_Aloe_Baby_Hair_%26_Body_Cleanser/\n",
      "https://www.ewg.org/skindeep/product/707399/Whamisa_Organic_Aloe_Baby_Lotion/\n",
      "https://www.ewg.org/skindeep/product/707401/Whamisa_Organic_Aloe_Baby_Soothing_Balm/\n",
      "https://www.ewg.org/skindeep/product/704948/Baja_Baby_Creamsicle_Bubble_Bath/\n",
      "https://www.ewg.org/skindeep/product/705625/Baja_Baby_Unscented_Body_Lotion/\n",
      "https://www.ewg.org/skindeep/product/704945/Baja_Baby_Lavender_Shampoo_%26_Wash/\n",
      "https://www.ewg.org/skindeep/product/704946/Baja_Baby_Lavender_Body_Lotion/\n",
      "https://www.ewg.org/skindeep/product/704942/Baja_Baby_Unscented_Shampoo_%26_Wash/\n",
      "https://www.ewg.org/skindeep/product/704943/Baja_Baby_Soft_Citrus_Body_Lotion/\n",
      "https://www.ewg.org/skindeep/product/705624/Baja_Baby_Soft_Citrus_Shampoo_%26_Wash/\n",
      "https://www.ewg.org/skindeep/product/772891/Paul_Penders_Natural_Baby_Body_Lotion/\n",
      "https://www.ewg.org/skindeep/product/772895/Paul_Penders_Natural_Baby_Shampoo/\n",
      "https://www.ewg.org/skindeep/product/772894/Paul_Penders_Natural_Baby_Shower_Gel/\n",
      "https://www.ewg.org/skindeep/product/587842/Lowen%27s_Natural_Skin_Care_Butter_Balm/\n",
      "https://www.ewg.org/skindeep/product/699747/Lowen%27s_Natural_Skin_Care_Bum_Balm_Blues_Diaper_Balm/\n",
      "https://www.ewg.org/skindeep/product/701948/Soap_for_Goodness_Sake_Handmade_Soap%2C_Lavender_Baby_/\n",
      "https://www.ewg.org/skindeep/product/701064/ATTITUDE_Little_Ones_Baby_Diaper_Cream%2C_Zinc_%28old_formulation%29/\n",
      "https://www.ewg.org/skindeep/product/671067/Be_Green_Bath_%26_Body_Baby_Balm/\n",
      "https://www.ewg.org/skindeep/product/671083/Be_Green_Bath_%26_Body_Gentle_Baby_Oil/\n",
      "https://www.ewg.org/skindeep/product/671082/Be_Green_Bath_%26_Body_Simply_Baby_Oil/\n",
      "https://www.ewg.org/skindeep/product/669774/ATTITUDE_Sensitive_Skin_Baby_Wipes/\n",
      "https://www.ewg.org/skindeep/product/669779/ATTITUDE_Baby_2-in-1_Hair_and_Body_Foaming_Wash/\n",
      "https://www.ewg.org/skindeep/product/669776/ATTITUDE_Baby_2-in-1_Shampoo_%26_Body_Wash/\n",
      "https://www.ewg.org/skindeep/product/669778/ATTITUDE_Baby_Natural_Protective_Ointment/\n",
      "https://www.ewg.org/skindeep/product/669781/ATTITUDE_Deep_Repair_Cream_%28old_formulation%29/\n",
      "https://www.ewg.org/skindeep/product/669783/ATTITUDE_Baby_Natural_Baby_Diaper_Cream%2C_Zinc/\n",
      "https://www.ewg.org/skindeep/product/669784/ATTITUDE_Baby_Soothing_Bath_Soak_%28old_formulation%29/\n",
      "https://www.ewg.org/skindeep/product/663965/Qet_Botanicals_Lite_Garden_Serum_for_Body/\n",
      "https://www.ewg.org/skindeep/product/951938/Adorable_Baby_Natural_Baby_Balm/\n",
      "https://www.ewg.org/skindeep/product/951939/Adorable_Baby_Natural_Baby_Oil_/\n",
      "https://www.ewg.org/skindeep/product/951940/Adorable_Baby_Natural_Baby_Shampoo_%2B_Body_Wash_/\n",
      "https://www.ewg.org/skindeep/product/951937/Adorable_Baby_Natural_Baby_Lotion/\n",
      "https://www.ewg.org/skindeep/product/949296/Evereden_Baby_Shampoo_%26_Body_Wash%2C_Fragrance_Free/\n",
      "https://www.ewg.org/skindeep/product/951941/Adorable_Baby_Natural_Diaper_Rash_Ointment/\n",
      "https://www.ewg.org/skindeep/product/953763/Evereden_Baby_Moisturizing_Lotion%2C_Fragrance_Free/\n"
     ]
    },
    {
     "ename": "IndexError",
     "evalue": "list index out of range",
     "output_type": "error",
     "traceback": [
      "\u001b[1;31m---------------------------------------------------------------------------\u001b[0m",
      "\u001b[1;31mIndexError\u001b[0m                                Traceback (most recent call last)",
      "\u001b[1;32m<ipython-input-40-bb431b27d0f2>\u001b[0m in \u001b[0;36m<module>\u001b[1;34m\u001b[0m\n\u001b[0;32m      1\u001b[0m \u001b[1;32mfor\u001b[0m \u001b[0mi\u001b[0m \u001b[1;32min\u001b[0m \u001b[0mrange\u001b[0m\u001b[1;33m(\u001b[0m\u001b[1;36m48000\u001b[0m\u001b[1;33m)\u001b[0m\u001b[1;33m:\u001b[0m\u001b[1;33m\u001b[0m\u001b[1;33m\u001b[0m\u001b[0m\n\u001b[0;32m      2\u001b[0m     \u001b[0mprdct\u001b[0m \u001b[1;33m=\u001b[0m \u001b[0mdriver\u001b[0m\u001b[1;33m.\u001b[0m\u001b[0mfind_elements_by_css_selector\u001b[0m\u001b[1;33m(\u001b[0m\u001b[1;34m'div.product-listings-wrapper.flex > div.product-wrapper > div.product-tile > a'\u001b[0m\u001b[1;33m)\u001b[0m\u001b[1;33m\u001b[0m\u001b[1;33m\u001b[0m\u001b[0m\n\u001b[1;32m----> 3\u001b[1;33m     \u001b[0mprdct\u001b[0m \u001b[1;33m=\u001b[0m \u001b[0mprdct\u001b[0m\u001b[1;33m[\u001b[0m\u001b[0mi\u001b[0m\u001b[1;33m]\u001b[0m\u001b[1;33m.\u001b[0m\u001b[0mget_attribute\u001b[0m\u001b[1;33m(\u001b[0m\u001b[1;34m\"href\"\u001b[0m\u001b[1;33m)\u001b[0m\u001b[1;33m\u001b[0m\u001b[1;33m\u001b[0m\u001b[0m\n\u001b[0m\u001b[0;32m      4\u001b[0m     \u001b[0mDic\u001b[0m\u001b[1;33m=\u001b[0m\u001b[1;33m{\u001b[0m\u001b[1;34m'product_link'\u001b[0m\u001b[1;33m:\u001b[0m\u001b[0mprdct\u001b[0m\u001b[1;33m}\u001b[0m\u001b[1;33m\u001b[0m\u001b[1;33m\u001b[0m\u001b[0m\n\u001b[0;32m      5\u001b[0m     \u001b[0mgc\u001b[0m \u001b[1;33m=\u001b[0m \u001b[0mgc\u001b[0m\u001b[1;33m.\u001b[0m\u001b[0mappend\u001b[0m\u001b[1;33m(\u001b[0m\u001b[0mDic\u001b[0m\u001b[1;33m,\u001b[0m \u001b[0mignore_index\u001b[0m\u001b[1;33m=\u001b[0m\u001b[1;32mTrue\u001b[0m\u001b[1;33m)\u001b[0m\u001b[1;33m\u001b[0m\u001b[1;33m\u001b[0m\u001b[0m\n",
      "\u001b[1;31mIndexError\u001b[0m: list index out of range"
     ]
    }
   ],
   "source": [
    "for i in range(48000):\n",
    "    prdct = driver.find_elements_by_css_selector('div.product-listings-wrapper.flex > div.product-wrapper > div.product-tile > a')\n",
    "    prdct = prdct[i].get_attribute(\"href\")\n",
    "    Dic={'product_link':prdct}\n",
    "    gc = gc.append(Dic, ignore_index=True)\n",
    "    print(prdct)\n",
    "    if (i % 12) == 0:\n",
    "        clk = driver.find_element_by_css_selector('#pcps-products-load-more')\n",
    "        driver.execute_script(\"arguments[0].click();\", clk)\n",
    "        time.sleep(4)\n",
    "    else:\n",
    "        continue"
   ]
  },
  {
   "cell_type": "code",
   "execution_count": 41,
   "metadata": {},
   "outputs": [
    {
     "name": "stdout",
     "output_type": "stream",
     "text": [
      "175\n"
     ]
    }
   ],
   "source": [
    "print(i)"
   ]
  },
  {
   "cell_type": "code",
   "execution_count": 42,
   "metadata": {},
   "outputs": [],
   "source": [
    "gc1.to_excel(r'C:/Users/User/OneDrive/Desktop/Data_acq/EWC/Baby_and_diapars.xlsx')"
   ]
  },
  {
   "cell_type": "code",
   "execution_count": 287,
   "metadata": {},
   "outputs": [],
   "source": [
    "link=pd.read_excel(r'C:/Users/User/OneDrive/Desktop/Data_acq/EWC/Cleaning_product.xlsx')\n",
    "URL=link.product_link"
   ]
  },
  {
   "cell_type": "code",
   "execution_count": 288,
   "metadata": {},
   "outputs": [
    {
     "data": {
      "text/plain": [
       "55"
      ]
     },
     "execution_count": 288,
     "metadata": {},
     "output_type": "execute_result"
    }
   ],
   "source": [
    "len(URL)"
   ]
  },
  {
   "cell_type": "code",
   "execution_count": 289,
   "metadata": {},
   "outputs": [],
   "source": [
    "from selenium.webdriver.chrome.options import Options\n",
    "chrome_options = Options()\n",
    "chrome_options.add_argument(\"--disable-popup-blocking\")"
   ]
  },
  {
   "cell_type": "code",
   "execution_count": 290,
   "metadata": {},
   "outputs": [],
   "source": [
    "Dic = {}\n",
    "# from selenium import webdriver\n",
    "gc1= pd.DataFrame(data=Dic,index=[0],columns=['product_name','Category','brand','Data last Updated','Where to buy','Online link for purchasing','ingradiants'])"
   ]
  },
  {
   "cell_type": "code",
   "execution_count": 293,
   "metadata": {},
   "outputs": [
    {
     "name": "stderr",
     "output_type": "stream",
     "text": [
      "<ipython-input-293-436645c20418>:4: DeprecationWarning: executable_path has been deprecated, please pass in a Service object\n",
      "  driver=webdriver.Chrome(executable_path=\"C:\\Driver\\chromedriver_win32 (3)\\chromedriver.exe\",chrome_options=chrome_options)\n",
      "<ipython-input-293-436645c20418>:4: DeprecationWarning: use options instead of chrome_options\n",
      "  driver=webdriver.Chrome(executable_path=\"C:\\Driver\\chromedriver_win32 (3)\\chromedriver.exe\",chrome_options=chrome_options)\n",
      "<ipython-input-293-436645c20418>:11: DeprecationWarning: find_element_by_css_selector is deprecated. Please use find_element(by=By.CSS_SELECTOR, value=css_selector) instead\n",
      "  p_name=driver.find_element_by_css_selector(\"body > div.content > div > main > section.product > div.radial-bg-green > div.product-info-wrapper.content-max-width > div.product-score-name-wrapper > h2\").text\n"
     ]
    },
    {
     "ename": "WebDriverException",
     "evalue": "Message: unknown error: failed to change window state to 'normal', current state is 'maximized'\n  (Session info: chrome=103.0.5060.53)\nStacktrace:\nBacktrace:\n\tOrdinal0 [0x00352733+2434867]\n\tOrdinal0 [0x002E07A1+1968033]\n\tOrdinal0 [0x001CC678+837240]\n\tOrdinal0 [0x001B6ECC+749260]\n\tOrdinal0 [0x001B5E31+745009]\n\tOrdinal0 [0x001B4BF2+740338]\n\tOrdinal0 [0x002349CF+1264079]\n\tOrdinal0 [0x0021443C+1131580]\n\tOrdinal0 [0x00224892+1198226]\n\tOrdinal0 [0x00214256+1131094]\n\tOrdinal0 [0x001EE840+976960]\n\tOrdinal0 [0x001EF736+980790]\n\tGetHandleVerifier [0x005C3C72+2515426]\n\tGetHandleVerifier [0x005B702F+2463135]\n\tGetHandleVerifier [0x003F522A+620442]\n\tGetHandleVerifier [0x003F4016+615814]\n\tOrdinal0 [0x002E707B+1994875]\n\tOrdinal0 [0x002EB938+2013496]\n\tOrdinal0 [0x002EBA25+2013733]\n\tOrdinal0 [0x002F4DE1+2051553]\n\tBaseThreadInitThunk [0x770CFA29+25]\n\tRtlGetAppContainerNamedObjectPath [0x77AC7A9E+286]\n\tRtlGetAppContainerNamedObjectPath [0x77AC7A6E+238]\n",
     "output_type": "error",
     "traceback": [
      "\u001b[1;31m---------------------------------------------------------------------------\u001b[0m",
      "\u001b[1;31mWebDriverException\u001b[0m                        Traceback (most recent call last)",
      "\u001b[1;32m<ipython-input-293-436645c20418>\u001b[0m in \u001b[0;36m<module>\u001b[1;34m\u001b[0m\n\u001b[0;32m      6\u001b[0m \u001b[1;31m#     driver.webdriver.Chrome(chrome_options=chrome_options)\u001b[0m\u001b[1;33m\u001b[0m\u001b[1;33m\u001b[0m\u001b[1;33m\u001b[0m\u001b[0m\n\u001b[0;32m      7\u001b[0m     \u001b[0mdriver\u001b[0m\u001b[1;33m.\u001b[0m\u001b[0mget\u001b[0m\u001b[1;33m(\u001b[0m\u001b[0mURL\u001b[0m\u001b[1;33m[\u001b[0m\u001b[0mUR\u001b[0m\u001b[1;33m+\u001b[0m\u001b[1;36m1\u001b[0m\u001b[1;33m]\u001b[0m\u001b[1;33m)\u001b[0m\u001b[1;33m\u001b[0m\u001b[1;33m\u001b[0m\u001b[0m\n\u001b[1;32m----> 8\u001b[1;33m     \u001b[0mdriver\u001b[0m\u001b[1;33m.\u001b[0m\u001b[0mmaximize_window\u001b[0m\u001b[1;33m(\u001b[0m\u001b[1;33m)\u001b[0m\u001b[1;33m\u001b[0m\u001b[1;33m\u001b[0m\u001b[0m\n\u001b[0m\u001b[0;32m      9\u001b[0m     \u001b[0mtime\u001b[0m\u001b[1;33m.\u001b[0m\u001b[0msleep\u001b[0m\u001b[1;33m(\u001b[0m\u001b[1;36m5\u001b[0m\u001b[1;33m)\u001b[0m\u001b[1;33m\u001b[0m\u001b[1;33m\u001b[0m\u001b[0m\n\u001b[0;32m     10\u001b[0m     \u001b[1;32mtry\u001b[0m\u001b[1;33m:\u001b[0m\u001b[1;33m\u001b[0m\u001b[1;33m\u001b[0m\u001b[0m\n",
      "\u001b[1;32mc:\\users\\user\\appdata\\local\\programs\\python\\python39\\lib\\site-packages\\selenium\\webdriver\\remote\\webdriver.py\u001b[0m in \u001b[0;36mmaximize_window\u001b[1;34m(self)\u001b[0m\n\u001b[0;32m    988\u001b[0m         \u001b[0mparams\u001b[0m \u001b[1;33m=\u001b[0m \u001b[1;32mNone\u001b[0m\u001b[1;33m\u001b[0m\u001b[1;33m\u001b[0m\u001b[0m\n\u001b[0;32m    989\u001b[0m         \u001b[0mcommand\u001b[0m \u001b[1;33m=\u001b[0m \u001b[0mCommand\u001b[0m\u001b[1;33m.\u001b[0m\u001b[0mW3C_MAXIMIZE_WINDOW\u001b[0m\u001b[1;33m\u001b[0m\u001b[1;33m\u001b[0m\u001b[0m\n\u001b[1;32m--> 990\u001b[1;33m         \u001b[0mself\u001b[0m\u001b[1;33m.\u001b[0m\u001b[0mexecute\u001b[0m\u001b[1;33m(\u001b[0m\u001b[0mcommand\u001b[0m\u001b[1;33m,\u001b[0m \u001b[0mparams\u001b[0m\u001b[1;33m)\u001b[0m\u001b[1;33m\u001b[0m\u001b[1;33m\u001b[0m\u001b[0m\n\u001b[0m\u001b[0;32m    991\u001b[0m \u001b[1;33m\u001b[0m\u001b[0m\n\u001b[0;32m    992\u001b[0m     \u001b[1;32mdef\u001b[0m \u001b[0mfullscreen_window\u001b[0m\u001b[1;33m(\u001b[0m\u001b[0mself\u001b[0m\u001b[1;33m)\u001b[0m \u001b[1;33m->\u001b[0m \u001b[1;32mNone\u001b[0m\u001b[1;33m:\u001b[0m\u001b[1;33m\u001b[0m\u001b[1;33m\u001b[0m\u001b[0m\n",
      "\u001b[1;32mc:\\users\\user\\appdata\\local\\programs\\python\\python39\\lib\\site-packages\\selenium\\webdriver\\remote\\webdriver.py\u001b[0m in \u001b[0;36mexecute\u001b[1;34m(self, driver_command, params)\u001b[0m\n\u001b[0;32m    428\u001b[0m         \u001b[0mresponse\u001b[0m \u001b[1;33m=\u001b[0m \u001b[0mself\u001b[0m\u001b[1;33m.\u001b[0m\u001b[0mcommand_executor\u001b[0m\u001b[1;33m.\u001b[0m\u001b[0mexecute\u001b[0m\u001b[1;33m(\u001b[0m\u001b[0mdriver_command\u001b[0m\u001b[1;33m,\u001b[0m \u001b[0mparams\u001b[0m\u001b[1;33m)\u001b[0m\u001b[1;33m\u001b[0m\u001b[1;33m\u001b[0m\u001b[0m\n\u001b[0;32m    429\u001b[0m         \u001b[1;32mif\u001b[0m \u001b[0mresponse\u001b[0m\u001b[1;33m:\u001b[0m\u001b[1;33m\u001b[0m\u001b[1;33m\u001b[0m\u001b[0m\n\u001b[1;32m--> 430\u001b[1;33m             \u001b[0mself\u001b[0m\u001b[1;33m.\u001b[0m\u001b[0merror_handler\u001b[0m\u001b[1;33m.\u001b[0m\u001b[0mcheck_response\u001b[0m\u001b[1;33m(\u001b[0m\u001b[0mresponse\u001b[0m\u001b[1;33m)\u001b[0m\u001b[1;33m\u001b[0m\u001b[1;33m\u001b[0m\u001b[0m\n\u001b[0m\u001b[0;32m    431\u001b[0m             response['value'] = self._unwrap_value(\n\u001b[0;32m    432\u001b[0m                 response.get('value', None))\n",
      "\u001b[1;32mc:\\users\\user\\appdata\\local\\programs\\python\\python39\\lib\\site-packages\\selenium\\webdriver\\remote\\errorhandler.py\u001b[0m in \u001b[0;36mcheck_response\u001b[1;34m(self, response)\u001b[0m\n\u001b[0;32m    245\u001b[0m                 \u001b[0malert_text\u001b[0m \u001b[1;33m=\u001b[0m \u001b[0mvalue\u001b[0m\u001b[1;33m[\u001b[0m\u001b[1;34m'alert'\u001b[0m\u001b[1;33m]\u001b[0m\u001b[1;33m.\u001b[0m\u001b[0mget\u001b[0m\u001b[1;33m(\u001b[0m\u001b[1;34m'text'\u001b[0m\u001b[1;33m)\u001b[0m\u001b[1;33m\u001b[0m\u001b[1;33m\u001b[0m\u001b[0m\n\u001b[0;32m    246\u001b[0m             \u001b[1;32mraise\u001b[0m \u001b[0mexception_class\u001b[0m\u001b[1;33m(\u001b[0m\u001b[0mmessage\u001b[0m\u001b[1;33m,\u001b[0m \u001b[0mscreen\u001b[0m\u001b[1;33m,\u001b[0m \u001b[0mstacktrace\u001b[0m\u001b[1;33m,\u001b[0m \u001b[0malert_text\u001b[0m\u001b[1;33m)\u001b[0m  \u001b[1;31m# type: ignore[call-arg]  # mypy is not smart enough here\u001b[0m\u001b[1;33m\u001b[0m\u001b[1;33m\u001b[0m\u001b[0m\n\u001b[1;32m--> 247\u001b[1;33m         \u001b[1;32mraise\u001b[0m \u001b[0mexception_class\u001b[0m\u001b[1;33m(\u001b[0m\u001b[0mmessage\u001b[0m\u001b[1;33m,\u001b[0m \u001b[0mscreen\u001b[0m\u001b[1;33m,\u001b[0m \u001b[0mstacktrace\u001b[0m\u001b[1;33m)\u001b[0m\u001b[1;33m\u001b[0m\u001b[1;33m\u001b[0m\u001b[0m\n\u001b[0m\u001b[0;32m    248\u001b[0m \u001b[1;33m\u001b[0m\u001b[0m\n\u001b[0;32m    249\u001b[0m     \u001b[1;32mdef\u001b[0m \u001b[0m_value_or_default\u001b[0m\u001b[1;33m(\u001b[0m\u001b[0mself\u001b[0m\u001b[1;33m,\u001b[0m \u001b[0mobj\u001b[0m\u001b[1;33m:\u001b[0m \u001b[0mMapping\u001b[0m\u001b[1;33m[\u001b[0m\u001b[0m_KT\u001b[0m\u001b[1;33m,\u001b[0m \u001b[0m_VT\u001b[0m\u001b[1;33m]\u001b[0m\u001b[1;33m,\u001b[0m \u001b[0mkey\u001b[0m\u001b[1;33m:\u001b[0m \u001b[0m_KT\u001b[0m\u001b[1;33m,\u001b[0m \u001b[0mdefault\u001b[0m\u001b[1;33m:\u001b[0m \u001b[0m_VT\u001b[0m\u001b[1;33m)\u001b[0m \u001b[1;33m->\u001b[0m \u001b[0m_VT\u001b[0m\u001b[1;33m:\u001b[0m\u001b[1;33m\u001b[0m\u001b[1;33m\u001b[0m\u001b[0m\n",
      "\u001b[1;31mWebDriverException\u001b[0m: Message: unknown error: failed to change window state to 'normal', current state is 'maximized'\n  (Session info: chrome=103.0.5060.53)\nStacktrace:\nBacktrace:\n\tOrdinal0 [0x00352733+2434867]\n\tOrdinal0 [0x002E07A1+1968033]\n\tOrdinal0 [0x001CC678+837240]\n\tOrdinal0 [0x001B6ECC+749260]\n\tOrdinal0 [0x001B5E31+745009]\n\tOrdinal0 [0x001B4BF2+740338]\n\tOrdinal0 [0x002349CF+1264079]\n\tOrdinal0 [0x0021443C+1131580]\n\tOrdinal0 [0x00224892+1198226]\n\tOrdinal0 [0x00214256+1131094]\n\tOrdinal0 [0x001EE840+976960]\n\tOrdinal0 [0x001EF736+980790]\n\tGetHandleVerifier [0x005C3C72+2515426]\n\tGetHandleVerifier [0x005B702F+2463135]\n\tGetHandleVerifier [0x003F522A+620442]\n\tGetHandleVerifier [0x003F4016+615814]\n\tOrdinal0 [0x002E707B+1994875]\n\tOrdinal0 [0x002EB938+2013496]\n\tOrdinal0 [0x002EBA25+2013733]\n\tOrdinal0 [0x002F4DE1+2051553]\n\tBaseThreadInitThunk [0x770CFA29+25]\n\tRtlGetAppContainerNamedObjectPath [0x77AC7A9E+286]\n\tRtlGetAppContainerNamedObjectPath [0x77AC7A6E+238]\n"
     ]
    }
   ],
   "source": [
    "from selenium.webdriver.chrome.options import Options\n",
    "chrome_options = Options()\n",
    "chrome_options.add_argument(\"--disable-popup-blocking\")\n",
    "driver=webdriver.Chrome(executable_path=\"C:\\Driver\\chromedriver_win32 (3)\\chromedriver.exe\",chrome_options=chrome_options)\n",
    "for UR in range(len(URL)):\n",
    "#     driver.webdriver.Chrome(chrome_options=chrome_options)\n",
    "    driver.get(URL[UR+1])\n",
    "    driver.maximize_window()\n",
    "    time.sleep(5)\n",
    "    try:\n",
    "        p_name=driver.find_element_by_css_selector(\"body > div.content > div > main > section.product > div.radial-bg-green > div.product-info-wrapper.content-max-width > div.product-score-name-wrapper > h2\").text\n",
    "        Category=driver.find_elements_by_xpath(\"/html/body/div[2]/div/main/section[1]/div[1]/div[3]/div[2]/div[2]/a\")\n",
    "        cate=\"\"\n",
    "        coma=\"| \"\n",
    "        brand=Category[-1].text\n",
    "        for i in Category:\n",
    "            if i.text==brand or i.text==\"\":\n",
    "                continue\n",
    "            cate=i.text+coma+cate\n",
    "\n",
    "\n",
    "\n",
    "        dlu=driver.find_element_by_css_selector(\"body > div.content > div > main > section.product > div.radial-bg-green > div.product-info-wrapper.content-max-width > div.product-wrapper > div.product-lower > div > p:nth-child(2)\").text\n",
    "        wtb=driver.find_element_by_xpath(\"/html/body/div[2]/div/main/section[1]/div[1]/div[3]/div[2]/div[1]/ul\").text\n",
    "\n",
    "        # print(wtb)\n",
    "        div=driver.find_element_by_css_selector(\"body > div.content > div > main > section.product > div.radial-bg-green > div.product-info-wrapper.content-max-width > div.product-wrapper > div.product-upper\")\n",
    "        b_link=div.find_elements_by_class_name(\"btn\")\n",
    "        Purchasing_link=\"\"\n",
    "        for i in b_link:\n",
    "            Purchasing_link=i.get_attribute(\"href\")+coma+Purchasing_link\n",
    "        in_list=driver.find_elements_by_class_name(\"ingredient-overview-tr\")    \n",
    "        ingra=\"\"\n",
    "        for i in in_list:\n",
    "            ingra=ingra+coma+i.text\n",
    "\n",
    "        Dic={'product_name':p_name,'Category':cate,'brand':brand,'Data last Updated':dlu,'Where to buy':wtb,'Online link for purchasing':Purchasing_link,'ingradiants':ingra}\n",
    "        gc1 = gc1.append(Dic, ignore_index=True)\n",
    "        print(gc1)\n",
    "    except:\n",
    "        continue\n",
    "    "
   ]
  },
  {
   "cell_type": "code",
   "execution_count": 286,
   "metadata": {},
   "outputs": [
    {
     "data": {
      "text/plain": [
       "1940"
      ]
     },
     "execution_count": 286,
     "metadata": {},
     "output_type": "execute_result"
    }
   ],
   "source": [
    "len(gc1)\n",
    "# gc1.to_excel(r'C:/Users/User/OneDrive/Desktop/Data_acq/EWC/personal_care_scrap.xlsx')"
   ]
  },
  {
   "cell_type": "code",
   "execution_count": 205,
   "metadata": {
    "scrolled": true
   },
   "outputs": [
    {
     "name": "stderr",
     "output_type": "stream",
     "text": [
      "<ipython-input-205-1ba0d1f23dae>:1: DeprecationWarning: find_element_by_css_selector is deprecated. Please use find_element(by=By.CSS_SELECTOR, value=css_selector) instead\n",
      "  p_name=driver.find_element_by_css_selector(\"body > div.content > div > main > section.product > div.radial-bg-green > div.product-info-wrapper.content-max-width > div.product-score-name-wrapper > h2\").text\n",
      "<ipython-input-205-1ba0d1f23dae>:2: DeprecationWarning: find_elements_by_xpath is deprecated. Please use find_elements(by=By.XPATH, value=xpath) instead\n",
      "  Category=driver.find_elements_by_xpath(\"/html/body/div[2]/div/main/section[1]/div[1]/div[3]/div[2]/div[2]/a\")\n",
      "<ipython-input-205-1ba0d1f23dae>:13: DeprecationWarning: find_element_by_css_selector is deprecated. Please use find_element(by=By.CSS_SELECTOR, value=css_selector) instead\n",
      "  dlu=driver.find_element_by_css_selector(\"body > div.content > div > main > section.product > div.radial-bg-green > div.product-info-wrapper.content-max-width > div.product-wrapper > div.product-lower > div > p:nth-child(2)\").text\n",
      "<ipython-input-205-1ba0d1f23dae>:14: DeprecationWarning: find_element_by_xpath is deprecated. Please use find_element(by=By.XPATH, value=xpath) instead\n",
      "  wtb=driver.find_element_by_xpath(\"/html/body/div[2]/div/main/section[1]/div[1]/div[3]/div[2]/div[1]/ul\").text\n",
      "<ipython-input-205-1ba0d1f23dae>:17: DeprecationWarning: find_element_by_css_selector is deprecated. Please use find_element(by=By.CSS_SELECTOR, value=css_selector) instead\n",
      "  div=driver.find_element_by_css_selector(\"body > div.content > div > main > section.product > div.radial-bg-green > div.product-info-wrapper.content-max-width > div.product-wrapper > div.product-upper\")\n",
      "<ipython-input-205-1ba0d1f23dae>:22: DeprecationWarning: find_elements_by_class_name is deprecated. Please use find_elements(by=By.CLASS_NAME, value=name) instead\n",
      "  in_list=driver.find_elements_by_class_name(\"ingredient-overview-tr\")\n"
     ]
    }
   ],
   "source": [
    "p_name=driver.find_element_by_css_selector(\"body > div.content > div > main > section.product > div.radial-bg-green > div.product-info-wrapper.content-max-width > div.product-score-name-wrapper > h2\").text\n",
    "Category=driver.find_elements_by_xpath(\"/html/body/div[2]/div/main/section[1]/div[1]/div[3]/div[2]/div[2]/a\")\n",
    "cate=\"\"\n",
    "coma=\"| \"\n",
    "brand=Category[-1].text\n",
    "for i in Category:\n",
    "    if i.text==brand or i.text==\"\":\n",
    "        continue\n",
    "    cate=i.text+coma+cate\n",
    "    \n",
    "\n",
    "\n",
    "dlu=driver.find_element_by_css_selector(\"body > div.content > div > main > section.product > div.radial-bg-green > div.product-info-wrapper.content-max-width > div.product-wrapper > div.product-lower > div > p:nth-child(2)\").text\n",
    "wtb=driver.find_element_by_xpath(\"/html/body/div[2]/div/main/section[1]/div[1]/div[3]/div[2]/div[1]/ul\").text\n",
    "\n",
    "# print(wtb)\n",
    "div=driver.find_element_by_css_selector(\"body > div.content > div > main > section.product > div.radial-bg-green > div.product-info-wrapper.content-max-width > div.product-wrapper > div.product-upper\")\n",
    "b_link=div.find_elements_by_class_name(\"btn\")\n",
    "Purchasing_link=\"\"\n",
    "for i in b_link:\n",
    "    Purchasing_link=i.get_attribute(\"href\")+coma+Purchasing_link\n",
    "in_list=driver.find_elements_by_class_name(\"ingredient-overview-tr\")    \n",
    "ingra=\"\"\n",
    "for i in in_list:\n",
    "    ingra=ingra+coma+i.text\n",
    "    \n"
   ]
  },
  {
   "cell_type": "code",
   "execution_count": 207,
   "metadata": {},
   "outputs": [
    {
     "name": "stdout",
     "output_type": "stream",
     "text": [
      "GOOGLE SEARCH\n"
     ]
    }
   ],
   "source": [
    "print(wtb)"
   ]
  },
  {
   "cell_type": "code",
   "execution_count": 178,
   "metadata": {},
   "outputs": [],
   "source": [
    "cate=\"\"\n",
    "coma=\", \"\n",
    "brand=Category[-1].text\n",
    "for i in Category:\n",
    "    if i.text==brand or i.text==\"\":\n",
    "        continue\n",
    "    cate=i.text+coma+cate\n",
    "    \n"
   ]
  },
  {
   "cell_type": "code",
   "execution_count": 179,
   "metadata": {},
   "outputs": [
    {
     "name": "stdout",
     "output_type": "stream",
     "text": [
      "Beekman\n",
      "Facial Cleanser, Bar Soap, \n",
      "July 2019\n"
     ]
    }
   ],
   "source": [
    "print(brand)\n",
    "print(cate)\n",
    "print(dlu)"
   ]
  },
  {
   "cell_type": "code",
   "execution_count": 69,
   "metadata": {},
   "outputs": [
    {
     "name": "stderr",
     "output_type": "stream",
     "text": [
      "<ipython-input-69-75bf558aeb07>:1: DeprecationWarning: find_elements_by_class_name is deprecated. Please use find_elements(by=By.CLASS_NAME, value=name) instead\n",
      "  in_list=driver.find_elements_by_class_name(\"ingredient-overview-tr\")\n"
     ]
    }
   ],
   "source": [
    "in_list=driver.find_elements_by_class_name(\"ingredient-overview-tr\")"
   ]
  },
  {
   "cell_type": "code",
   "execution_count": 81,
   "metadata": {},
   "outputs": [],
   "source": [
    "ingra=\"\"\n",
    "coma=\"| \"\n",
    "for i in in_list:\n",
    "    ingra=ingra+coma+i.text"
   ]
  },
  {
   "cell_type": "code",
   "execution_count": 82,
   "metadata": {},
   "outputs": [
    {
     "name": "stdout",
     "output_type": "stream",
     "text": [
      "| 1,2-HEXANEDIOL| 2,6-DIMETHYL-7-OCTEN-2-OL\n",
      "Appeared as: DIHYDRO MYRCENOL| 2-(1-(3',3'-DIMETHYL-1'-CYCLOHEXYL)ETHOXY)-2-METHYL PROPYL PROPANOATE\n",
      "Appeared as: HELVETOLIDE| BUTYROSPERMUM PARKII (SHEA) BUTTER| CAPRYLYL GLYCOL| CARBOMER| CETEARYL OLIVATE| CETYL ALCOHOL| EUPHORBIA CERIFERA (CANDELILLA) WAX| GAMMA-NONALACTONE\n",
      "Appeared as: PRUNOLIDE| GAMMA-OCTALACTONE\n",
      "Appeared as: OCTALACTONE GAMMA| GAMMA-UNDECALACTONE\n",
      "Appeared as: PEACH PURE| GLYCERIN| HEDIONE| HYDROGENATED VEGETABLE OIL| ISOBUTYL METHYL TETRAHYDROPYRANOL\n",
      "Appeared as: FLOROSA| ISOPROPYL PALMITATE| SODIUM ACRYLATES CROSSPOLYMER| SODIUM HYDROXIDE| SORBITAN OLIVATE| TRIETHYL CITRATE| TROPOLONE| VEGETABLE OIL| WATER\n"
     ]
    }
   ],
   "source": [
    "print(ingra)"
   ]
  },
  {
   "cell_type": "code",
   "execution_count": null,
   "metadata": {},
   "outputs": [],
   "source": [
    "p_name=driver.fin"
   ]
  }
 ],
 "metadata": {
  "kernelspec": {
   "display_name": "Python 3",
   "language": "python",
   "name": "python3"
  },
  "language_info": {
   "codemirror_mode": {
    "name": "ipython",
    "version": 3
   },
   "file_extension": ".py",
   "mimetype": "text/x-python",
   "name": "python",
   "nbconvert_exporter": "python",
   "pygments_lexer": "ipython3",
   "version": "3.9.0"
  }
 },
 "nbformat": 4,
 "nbformat_minor": 4
}
