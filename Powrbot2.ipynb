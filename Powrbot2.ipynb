{
 "cells": [
  {
   "cell_type": "code",
   "execution_count": 1,
   "metadata": {},
   "outputs": [],
   "source": [
    "from selenium import webdriver\n",
    "import time\n",
    "from selenium.webdriver.common.keys import Keys\n",
    "from selenium.webdriver.common.by import By\n",
    "import pandas as pd\n",
    "import re"
   ]
  },
  {
   "cell_type": "code",
   "execution_count": 3,
   "metadata": {},
   "outputs": [
    {
     "name": "stderr",
     "output_type": "stream",
     "text": [
      "C:\\Users\\User\\AppData\\Local\\Temp\\ipykernel_2300\\2194886753.py:1: DeprecationWarning: executable_path has been deprecated, please pass in a Service object\n",
      "  driver=webdriver.Chrome(executable_path=\"C:/Driver/cc/chromedriver.exe\")\n"
     ]
    }
   ],
   "source": [
    "driver=webdriver.Chrome(executable_path=\"C:/Driver/cc/chromedriver.exe\")\n",
    "driver.get(\"https://projects.worldbank.org/en/projects-operations/projects-list?countrycode_exact=3A&os=0\")\n",
    "driver.maximize_window()"
   ]
  },
  {
   "cell_type": "code",
   "execution_count": 5,
   "metadata": {},
   "outputs": [],
   "source": [
    "Dic = {}\n",
    "# from selenium import webdriver\n",
    "gc1= pd.DataFrame(data=Dic,index=[0],columns=['Country','URL'])"
   ]
  },
  {
   "cell_type": "code",
   "execution_count": 6,
   "metadata": {},
   "outputs": [
    {
     "name": "stderr",
     "output_type": "stream",
     "text": [
      "C:\\Users\\Proven\\AppData\\Local\\Temp\\ipykernel_9036\\1881818874.py:3: DeprecationWarning: find_elements_by_class_name is deprecated. Please use find_elements(by=By.CLASS_NAME, value=name) instead\n",
      "  country=driver.find_elements_by_class_name(\"d-block\")\n",
      "C:\\Users\\Proven\\AppData\\Local\\Temp\\ipykernel_9036\\1881818874.py:10: FutureWarning: The frame.append method is deprecated and will be removed from pandas in a future version. Use pandas.concat instead.\n",
      "  gc1 = gc1.append(Dic, ignore_index=True)\n",
      "C:\\Users\\Proven\\AppData\\Local\\Temp\\ipykernel_9036\\1881818874.py:10: FutureWarning: The frame.append method is deprecated and will be removed from pandas in a future version. Use pandas.concat instead.\n",
      "  gc1 = gc1.append(Dic, ignore_index=True)\n",
      "C:\\Users\\Proven\\AppData\\Local\\Temp\\ipykernel_9036\\1881818874.py:10: FutureWarning: The frame.append method is deprecated and will be removed from pandas in a future version. Use pandas.concat instead.\n",
      "  gc1 = gc1.append(Dic, ignore_index=True)\n",
      "C:\\Users\\Proven\\AppData\\Local\\Temp\\ipykernel_9036\\1881818874.py:10: FutureWarning: The frame.append method is deprecated and will be removed from pandas in a future version. Use pandas.concat instead.\n",
      "  gc1 = gc1.append(Dic, ignore_index=True)\n",
      "C:\\Users\\Proven\\AppData\\Local\\Temp\\ipykernel_9036\\1881818874.py:10: FutureWarning: The frame.append method is deprecated and will be removed from pandas in a future version. Use pandas.concat instead.\n",
      "  gc1 = gc1.append(Dic, ignore_index=True)\n",
      "C:\\Users\\Proven\\AppData\\Local\\Temp\\ipykernel_9036\\1881818874.py:10: FutureWarning: The frame.append method is deprecated and will be removed from pandas in a future version. Use pandas.concat instead.\n",
      "  gc1 = gc1.append(Dic, ignore_index=True)\n",
      "C:\\Users\\Proven\\AppData\\Local\\Temp\\ipykernel_9036\\1881818874.py:10: FutureWarning: The frame.append method is deprecated and will be removed from pandas in a future version. Use pandas.concat instead.\n",
      "  gc1 = gc1.append(Dic, ignore_index=True)\n",
      "C:\\Users\\Proven\\AppData\\Local\\Temp\\ipykernel_9036\\1881818874.py:10: FutureWarning: The frame.append method is deprecated and will be removed from pandas in a future version. Use pandas.concat instead.\n",
      "  gc1 = gc1.append(Dic, ignore_index=True)\n",
      "C:\\Users\\Proven\\AppData\\Local\\Temp\\ipykernel_9036\\1881818874.py:10: FutureWarning: The frame.append method is deprecated and will be removed from pandas in a future version. Use pandas.concat instead.\n",
      "  gc1 = gc1.append(Dic, ignore_index=True)\n",
      "C:\\Users\\Proven\\AppData\\Local\\Temp\\ipykernel_9036\\1881818874.py:10: FutureWarning: The frame.append method is deprecated and will be removed from pandas in a future version. Use pandas.concat instead.\n",
      "  gc1 = gc1.append(Dic, ignore_index=True)\n",
      "C:\\Users\\Proven\\AppData\\Local\\Temp\\ipykernel_9036\\1881818874.py:12: DeprecationWarning: find_element_by_link_text is deprecated. Please use find_element(by=By.LINK_TEXT, value=link_text) instead\n",
      "  clk=driver.find_element_by_link_text(f\"{z+2}\")\n"
     ]
    },
    {
     "name": "stdout",
     "output_type": "stream",
     "text": [
      "                             Country  \\\n",
      "0                                NaN   \n",
      "1   List of companies in Afghanistan   \n",
      "2       List of companies in Albania   \n",
      "3       List of companies in Algeria   \n",
      "4       List of companies in Andorra   \n",
      "5        List of companies in Angola   \n",
      "6     List of companies in Argentina   \n",
      "7       List of companies in Armenia   \n",
      "8         List of companies in Aruba   \n",
      "9     List of companies in Australia   \n",
      "10      List of companies in Austria   \n",
      "\n",
      "                                                  URL  \n",
      "0                                                 NaN  \n",
      "1   https://powrbot.com/companies/list-of-companie...  \n",
      "2   https://powrbot.com/companies/list-of-companie...  \n",
      "3   https://powrbot.com/companies/list-of-companie...  \n",
      "4   https://powrbot.com/companies/list-of-companie...  \n",
      "5   https://powrbot.com/companies/list-of-companie...  \n",
      "6   https://powrbot.com/companies/list-of-companie...  \n",
      "7   https://powrbot.com/companies/list-of-companie...  \n",
      "8   https://powrbot.com/companies/list-of-companie...  \n",
      "9   https://powrbot.com/companies/list-of-companie...  \n",
      "10  https://powrbot.com/companies/list-of-companie...  \n"
     ]
    }
   ],
   "source": [
    "# country=driver.find_elements_by_class_name(\"d-block\")\n",
    "for z in range(1):\n",
    "    country=driver.find_elements_by_class_name(\"d-block\")\n",
    "    for i in country:\n",
    "        if len(i.text)<3:\n",
    "            break\n",
    "        URL=i.get_attribute(\"href\")\n",
    "        Country=i.text\n",
    "        Dic={'Country':Country,'URL':URL}\n",
    "        gc1 = gc1.append(Dic, ignore_index=True)\n",
    "        \n",
    "    clk=driver.find_element_by_link_text(f\"{z+2}\")\n",
    "    driver.execute_script(\"arguments[0].click();\", clk)\n",
    "    time.sleep(3)\n",
    "    print(gc1)"
   ]
  },
  {
   "cell_type": "code",
   "execution_count": 10,
   "metadata": {},
   "outputs": [
    {
     "name": "stdout",
     "output_type": "stream",
     "text": [
      "                               Country  \\\n",
      "0                                  NaN   \n",
      "1     List of companies in Afghanistan   \n",
      "2         List of companies in Albania   \n",
      "3         List of companies in Algeria   \n",
      "4         List of companies in Andorra   \n",
      "..                                 ...   \n",
      "143       List of companies in Vanuatu   \n",
      "144  List of companies in Vatican City   \n",
      "145     List of companies in Venezuela   \n",
      "146       List of companies in Vietnam   \n",
      "147      List of companies in Zimbabwe   \n",
      "\n",
      "                                                   URL  \n",
      "0                                                  NaN  \n",
      "1    https://powrbot.com/companies/list-of-companie...  \n",
      "2    https://powrbot.com/companies/list-of-companie...  \n",
      "3    https://powrbot.com/companies/list-of-companie...  \n",
      "4    https://powrbot.com/companies/list-of-companie...  \n",
      "..                                                 ...  \n",
      "143  https://powrbot.com/companies/list-of-companie...  \n",
      "144  https://powrbot.com/companies/list-of-companie...  \n",
      "145  https://powrbot.com/companies/list-of-companie...  \n",
      "146  https://powrbot.com/companies/list-of-companie...  \n",
      "147  https://powrbot.com/companies/list-of-companie...  \n",
      "\n",
      "[148 rows x 2 columns]\n"
     ]
    }
   ],
   "source": [
    "print(gc1)\n",
    "gc1.to_excel(\"country.xlsx\")"
   ]
  },
  {
   "cell_type": "code",
   "execution_count": 9,
   "metadata": {},
   "outputs": [
    {
     "data": {
      "text/plain": [
       "148"
      ]
     },
     "execution_count": 9,
     "metadata": {},
     "output_type": "execute_result"
    }
   ],
   "source": [
    "\n",
    "df=df5.URL\n",
    "len(df)"
   ]
  },
  {
   "cell_type": "code",
   "execution_count": 5,
   "metadata": {},
   "outputs": [],
   "source": [
    "df5=pd.read_excel('country.xlsx')"
   ]
  },
  {
   "cell_type": "code",
   "execution_count": 6,
   "metadata": {},
   "outputs": [
    {
     "data": {
      "text/plain": [
       "'List of companies in Austria'"
      ]
     },
     "execution_count": 6,
     "metadata": {},
     "output_type": "execute_result"
    }
   ],
   "source": [
    "x=df5.Country\n",
    "x[10]"
   ]
  },
  {
   "cell_type": "code",
   "execution_count": 7,
   "metadata": {},
   "outputs": [],
   "source": [
    "Dic = {}\n",
    "# from selenium import webdriver\n",
    "gc= pd.DataFrame(data=Dic,index=[0],columns=['Company','Country','URL'])"
   ]
  },
  {
   "cell_type": "code",
   "execution_count": 10,
   "metadata": {},
   "outputs": [
    {
     "data": {
      "text/plain": [
       "'https://powrbot.com/companies/list-of-companies-in-costa-rica/'"
      ]
     },
     "execution_count": 10,
     "metadata": {},
     "output_type": "execute_result"
    }
   ],
   "source": [
    "df[33]"
   ]
  },
  {
   "cell_type": "code",
   "execution_count": 13,
   "metadata": {},
   "outputs": [
    {
     "ename": "AttributeError",
     "evalue": "'WebDriver' object has no attribute 'find_elements_by_class_name'",
     "output_type": "error",
     "traceback": [
      "\u001b[1;31m---------------------------------------------------------------------------\u001b[0m",
      "\u001b[1;31mAttributeError\u001b[0m                            Traceback (most recent call last)",
      "Input \u001b[1;32mIn [13]\u001b[0m, in \u001b[0;36m<cell line: 1>\u001b[1;34m()\u001b[0m\n\u001b[0;32m      3\u001b[0m     driver\u001b[38;5;241m.\u001b[39mget(df[p])\n\u001b[0;32m      4\u001b[0m \u001b[38;5;66;03m#     time.sleep(3)\u001b[39;00m\n\u001b[1;32m----> 5\u001b[0m     clk\u001b[38;5;241m=\u001b[39m\u001b[43mdriver\u001b[49m\u001b[38;5;241;43m.\u001b[39;49m\u001b[43mfind_elements_by_class_name\u001b[49m(\u001b[38;5;124m\"\u001b[39m\u001b[38;5;124mpage-link\u001b[39m\u001b[38;5;124m\"\u001b[39m)[\u001b[38;5;241m-\u001b[39m\u001b[38;5;241m1\u001b[39m]\n\u001b[0;32m      6\u001b[0m     driver\u001b[38;5;241m.\u001b[39mexecute_script(\u001b[38;5;124m\"\u001b[39m\u001b[38;5;124marguments[0].click();\u001b[39m\u001b[38;5;124m\"\u001b[39m, clk)\n\u001b[0;32m      7\u001b[0m \u001b[38;5;66;03m#     time.sleep(2)\u001b[39;00m\n",
      "\u001b[1;31mAttributeError\u001b[0m: 'WebDriver' object has no attribute 'find_elements_by_class_name'"
     ]
    }
   ],
   "source": [
    "for p in range(102,len(df)):\n",
    "    con=x[p]\n",
    "    driver.get(df[p])\n",
    "#     time.sleep(3)\n",
    "    clk=driver.find_elements_by_class_name(\"page-link\")[-1]\n",
    "    driver.execute_script(\"arguments[0].click();\", clk)\n",
    "#     time.sleep(2)\n",
    "    nmbr=driver.find_elements_by_class_name(\"page-link\")[-2].text\n",
    "    clk=driver.find_elements_by_class_name(\"page-link\")[0]\n",
    "    driver.execute_script(\"arguments[0].click();\", clk)\n",
    "#     time.sleep(2)\n",
    "    print(nmbr)\n",
    "    for z in range(int(nmbr)):\n",
    "        clk=driver.find_element_by_link_text(f\"{z+1}\")\n",
    "        driver.execute_script(\"arguments[0].click();\", clk)\n",
    "        country=driver.find_elements_by_class_name(\"d-block\")\n",
    "    #     time.sleep(1)by_class_name(\"d-block\")\n",
    "        for i in range(len(country)):\n",
    "            if len(country[i].text)<3:  \n",
    "                break\n",
    "            URL=country[i].get_attribute(\"href\")\n",
    "            company=country[i].text\n",
    "\n",
    "            Dic={'Company':company,'URL':URL,'Country':con}\n",
    "#             time.sleep(1)\n",
    "            gc = gc.append(Dic, ignore_index=True)\n",
    "        print(gc)\n",
    "        time.sleep(1)"
   ]
  },
  {
   "cell_type": "code",
   "execution_count": 1,
   "metadata": {},
   "outputs": [
    {
     "ename": "NameError",
     "evalue": "name 'gc' is not defined",
     "output_type": "error",
     "traceback": [
      "\u001b[1;31m---------------------------------------------------------------------------\u001b[0m",
      "\u001b[1;31mNameError\u001b[0m                                 Traceback (most recent call last)",
      "Input \u001b[1;32mIn [1]\u001b[0m, in \u001b[0;36m<cell line: 1>\u001b[1;34m()\u001b[0m\n\u001b[1;32m----> 1\u001b[0m \u001b[43mgc\u001b[49m\u001b[38;5;241m.\u001b[39mto_excel(\u001b[38;5;124m\"\u001b[39m\u001b[38;5;124mpowbot_countries1.xlsx\u001b[39m\u001b[38;5;124m\"\u001b[39m)\n",
      "\u001b[1;31mNameError\u001b[0m: name 'gc' is not defined"
     ]
    }
   ],
   "source": [
    "gc.to_excel(\"powbot_countries1.xlsx\")"
   ]
  },
  {
   "cell_type": "code",
   "execution_count": 11,
   "metadata": {},
   "outputs": [
    {
     "ename": "NameError",
     "evalue": "name 'p' is not defined",
     "output_type": "error",
     "traceback": [
      "\u001b[1;31m---------------------------------------------------------------------------\u001b[0m",
      "\u001b[1;31mNameError\u001b[0m                                 Traceback (most recent call last)",
      "Input \u001b[1;32mIn [11]\u001b[0m, in \u001b[0;36m<cell line: 1>\u001b[1;34m()\u001b[0m\n\u001b[1;32m----> 1\u001b[0m \u001b[38;5;28mprint\u001b[39m(\u001b[43mp\u001b[49m)\n",
      "\u001b[1;31mNameError\u001b[0m: name 'p' is not defined"
     ]
    }
   ],
   "source": [
    "print(p)"
   ]
  },
  {
   "cell_type": "code",
   "execution_count": 87,
   "metadata": {},
   "outputs": [
    {
     "name": "stdout",
     "output_type": "stream",
     "text": [
      "0\n",
      "https://powrbot.com/companies/list-of-companies-in-uruguay/\n",
      "1\n",
      "https://powrbot.com/companies/list-of-companies-in-uzbekistan/\n",
      "2\n",
      "https://powrbot.com/companies/list-of-companies-in-vanuatu/\n",
      "3\n",
      "https://powrbot.com/companies/list-of-companies-in-vatican-city/\n",
      "4\n",
      "https://powrbot.com/companies/list-of-companies-in-venezuela/\n",
      "5\n",
      "https://powrbot.com/companies/list-of-companies-in-vietnam/\n",
      "6\n",
      "https://powrbot.com/companies/list-of-companies-in-zimbabwe/\n",
      "7\n"
     ]
    },
    {
     "name": "stderr",
     "output_type": "stream",
     "text": [
      "<ipython-input-87-d4babeff7da7>:1: DeprecationWarning: find_elements_by_class_name is deprecated. Please use find_elements(by=By.CLASS_NAME, value=name) instead\n",
      "  country=driver.find_elements_by_class_name(\"d-block\")\n"
     ]
    }
   ],
   "source": [
    "country=driver.find_elements_by_class_name(\"d-block\")\n",
    "for i in range(len(country)):\n",
    "    print(i)\n",
    "    if len(country[i].text)<3:  \n",
    "        break\n",
    "    URL=country[i].get_attribute(\"href\")\n",
    "    print(URL)"
   ]
  },
  {
   "cell_type": "code",
   "execution_count": 104,
   "metadata": {},
   "outputs": [
    {
     "name": "stderr",
     "output_type": "stream",
     "text": [
      "<ipython-input-104-d73040fdd7ef>:1: DeprecationWarning: find_element_by_link_text is deprecated. Please use find_element(by=By.LINK_TEXT, value=link_text) instead\n",
      "  clk=driver.find_element_by_link_text(f\"{1}\")\n"
     ]
    }
   ],
   "source": [
    "clk=driver.find_element_by_link_text(f\"{1}\")\n",
    "driver.execute_script(\"arguments[0].click();\", clk)"
   ]
  },
  {
   "cell_type": "code",
   "execution_count": null,
   "metadata": {},
   "outputs": [],
   "source": [
    "for z in range(len(df)):\n",
    "    con=gc1.Country[z+1]\n",
    "    driver.get(df[z+1])\n",
    "    time.sleep(3)"
   ]
  }
 ],
 "metadata": {
  "kernelspec": {
   "display_name": "Python 3 (ipykernel)",
   "language": "python",
   "name": "python3"
  },
  "language_info": {
   "codemirror_mode": {
    "name": "ipython",
    "version": 3
   },
   "file_extension": ".py",
   "mimetype": "text/x-python",
   "name": "python",
   "nbconvert_exporter": "python",
   "pygments_lexer": "ipython3",
   "version": "3.10.6"
  }
 },
 "nbformat": 4,
 "nbformat_minor": 4
}
